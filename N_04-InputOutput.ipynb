{
 "cells": [
  {
   "cell_type": "markdown",
   "metadata": {
    "id": "A7h_kPcP8zaU"
   },
   "source": [
    "<img src=\"images/Picture0.png\" width=200x />\n",
    "\n",
    "# Notebook 04 - Input and Output\n",
    "\n",
    "## Instructions\n",
    "Read the material below and complete the exercises. The data used in the exercises can be found within the data folder in the INMAS directory.\n",
    "\n",
    "Material covered in this notebook:\n",
    "- How to open and close a file\n",
    "- How to read lines from a text file\n",
    "- How to write text to a file\n",
    "\n",
    "### Pre-requisites\n",
    "Notebooks 01-03\n",
    "\n",
    "### Credits\n",
    "- [Scientific Python Lectures](https://github.com/jrjohansson/scientific-python-lectures/blob/master/Lecture-2-Numpy.ipynb)\n",
    "- [Reading Files Python](https://colab.research.google.com/github/computationalcore/introduction-to-python/blob/master/notebooks/4-files/PY0101EN-4-1-ReadFile.ipynb#scrollTo=f2BMjBjox2_-)"
   ]
  },
  {
   "cell_type": "markdown",
   "metadata": {
    "id": "nQDGrROs8zaX"
   },
   "source": [
    "## Reading files\n",
    "\n",
    "The most common way to access a file in Python is to use the built-in <code>open</code> function.\n",
    "\n",
    "- [`open()`](https://docs.python.org/3/library/functions.html#open) : returns a file object.\n",
    "    - It commonly takes two arguments: `open(filename, mode)`\n",
    "      - filename : name of the file you want to open\n",
    "      - mode (optional)\n",
    "           - `'r'` : reading only (default)\n",
    "        - `'w'` : writing only (an existing file with the same name will be erased)\n",
    "        - `'a'` : append (any data written to the file is automatically added to the end) \n",
    "        - `'r+'`: both reading and writing. \n",
    "\n",
    "- `read()` : method that reads the specified number of bytes from the file. Default is -1 which means the whole file.\n",
    "- `readline()` : method that reads the file object line by line\n",
    "\n",
    "\n",
    "The first parameter you need is the file path and the file name. An example is shown as follow:\n",
    "\n",
    "```\n",
    "file = open('somepath/somefile.xxx', 'r')\n",
    "```\n",
    "\n",
    "On Windows, your file path can use backslashes ('\\\\') while macOS and Linux use forward slashes ('/'). See the README file associated with this Workshop for a more detailed explanation on file paths.\n",
    "\n",
    "The data is located in the `data` folder inside the folder where you saved the notebooks. To access files in this folder you could include the relative path in the `file_name` variable as below:"
   ]
  },
  {
   "cell_type": "code",
   "execution_count": null,
   "metadata": {
    "colab": {
     "base_uri": "https://localhost:8080/",
     "height": 215
    },
    "executionInfo": {
     "elapsed": 134,
     "status": "error",
     "timestamp": 1634749805638,
     "user": {
      "displayName": "Adriana Morales Miranda",
      "photoUrl": "https://lh3.googleusercontent.com/a/default-user=s64",
      "userId": "02653100314428723174"
     },
     "user_tz": 300
    },
    "id": "xySmSpdO8zaY",
    "outputId": "81a7b9a6-4b20-4e60-c3a5-e703f3118aeb"
   },
   "outputs": [],
   "source": [
    "file_name= \"data/sample.txt\"\n",
    "f = open(file_name, 'r')\n",
    "print(f.read()) # Default = -1 => read whole lines.\n",
    "f.close() # It's important to close the file! It will free up the resources that were tied with the file."
   ]
  },
  {
   "cell_type": "markdown",
   "metadata": {
    "id": "3XP-CdD71gSF"
   },
   "source": [
    "### Exercise\n",
    "\n",
    "Open the file again, and this time, use the absolute path, i.e., the one starting with the root directory ('/'). Then print the first seven characters of the file. Don't forget to close the file."
   ]
  },
  {
   "cell_type": "code",
   "execution_count": null,
   "metadata": {
    "id": "2wS3dPpLYGyV"
   },
   "outputs": [],
   "source": []
  },
  {
   "cell_type": "markdown",
   "metadata": {
    "id": "0z84Y6nZX-F-"
   },
   "source": [
    "## A more robust way to perform I/O\n",
    "Using the <code>with</code> statement is better practice, as it automatically closes the file even if the code encounters an exception. The code will run everything in the indented block then close the file object. \n",
    "\n",
    "- `with` statement\n",
    "    - better syntax and exceptions handling.\n",
    "    - no need to explicitly call the `close()` method. This is done internally.\n",
    "\n",
    "The steps are exemplified in this code snippet here:\n",
    "```\n",
    "    with open('somepath/somefile.xxx', 'r') as file:\n",
    "        fileContents = file.read()\n",
    "        \n",
    "    # End of block - At this point the file object has been automatically closed\n",
    "    print(fileContents)\n",
    "```\n"
   ]
  },
  {
   "cell_type": "code",
   "execution_count": null,
   "metadata": {
    "id": "Di1KLF7NX-F-",
    "outputId": "0faef2fb-367d-4ed7-ea34-5c8882706050"
   },
   "outputs": [],
   "source": [
    "# Read file using read()\n",
    "with open(filename, 'r') as f:\n",
    "    contents = f.read()\n",
    "    print(contents)"
   ]
  },
  {
   "cell_type": "code",
   "execution_count": null,
   "metadata": {
    "id": "S1vJAkcEX-F-",
    "outputId": "6733dd96-fcd2-433d-b8da-cdf8ce3a78cf"
   },
   "outputs": [],
   "source": [
    "# Read file using readline()\n",
    "with open(filename, 'r') as f:\n",
    "    line = f.readline()\n",
    "    while line:\n",
    "        print(line, end='')\n",
    "        line = f.readline()"
   ]
  },
  {
   "cell_type": "markdown",
   "metadata": {
    "id": "9rODNuik0PSQ"
   },
   "source": [
    "## Working with CSV files in Python\n",
    "\n",
    "A common file standard for storing data in columns is the comma-separated-values (CSV) format. There are multiple ways in which we can open and see CSV files in Python.\n",
    "\n",
    "Here are some examples. "
   ]
  },
  {
   "cell_type": "markdown",
   "metadata": {
    "id": "0Fil6gyuX-F_"
   },
   "source": [
    "### Using the CSV module\n",
    "While we could use the built-in `open()` function to work with CSV files in Python, there is a dedicated `csv` module that makes working with CSV files much easier.\n",
    "\n",
    "Before we can use the methods to the `csv` module, we need to import the module first using:"
   ]
  },
  {
   "cell_type": "code",
   "execution_count": null,
   "metadata": {
    "id": "VbYVIpULX-F_"
   },
   "outputs": [],
   "source": [
    "import csv"
   ]
  },
  {
   "cell_type": "markdown",
   "metadata": {
    "id": "7JMhacRKX-GA"
   },
   "source": [
    "To read a CSV file in Python, we can use the `csv.reader()` function. Let's open the csv file named `people.csv`."
   ]
  },
  {
   "cell_type": "code",
   "execution_count": null,
   "metadata": {
    "colab": {
     "base_uri": "https://localhost:8080/",
     "height": 164
    },
    "executionInfo": {
     "elapsed": 154,
     "status": "error",
     "timestamp": 1634752184567,
     "user": {
      "displayName": "Adriana Morales Miranda",
      "photoUrl": "https://lh3.googleusercontent.com/a/default-user=s64",
      "userId": "02653100314428723174"
     },
     "user_tz": 300
    },
    "id": "3cuS8dfT0pvt",
    "outputId": "33af556f-a40f-4cb6-871a-51d2faef7477"
   },
   "outputs": [],
   "source": [
    "people= \"data/people.csv\"\n",
    "with open(people, 'r') as file:\n",
    "    reader = csv.reader(file)\n",
    "    for row in reader:\n",
    "        print(row)"
   ]
  },
  {
   "cell_type": "markdown",
   "metadata": {
    "id": "HslBAiuiX-GA"
   },
   "source": [
    "Note that if you open the *people.csv* file in a text editor everything is separated by commas. This is called a delimiter. Suppose our CSV file was using tab as a delimiter. To read such files, one must provide the *delimiter* parameters to the `csv.reader()` function."
   ]
  },
  {
   "cell_type": "markdown",
   "metadata": {
    "id": "AxpWhPXfX-GA"
   },
   "source": [
    "### Exercise\n",
    "\n",
    "Open the *biostats.csv* file in the *data* folder providing the named argument `delimiter= '\\t'` to the `csv.reader()` function."
   ]
  },
  {
   "cell_type": "code",
   "execution_count": null,
   "metadata": {
    "id": "1z8MsmBXYFBo"
   },
   "outputs": [],
   "source": []
  },
  {
   "cell_type": "markdown",
   "metadata": {
    "id": "QhVd5iq-X-GB"
   },
   "source": [
    "### Using the Pandas library to handle CSV files\n",
    "\n",
    "\n",
    "Pandas is a popular data science library in Python for data manipulation and analysis. If we are working with huge chunks of data, it's better to use pandas to handle CSV files for ease and efficiency."
   ]
  },
  {
   "cell_type": "code",
   "execution_count": null,
   "metadata": {
    "id": "1O1kT-tVX-GB"
   },
   "outputs": [],
   "source": [
    "import pandas as pd"
   ]
  },
  {
   "cell_type": "markdown",
   "metadata": {
    "id": "aK4FJJMrX-GC"
   },
   "source": [
    "To read the CSV file using pandas, we can use the `read_csv()` function."
   ]
  },
  {
   "cell_type": "code",
   "execution_count": null,
   "metadata": {
    "id": "tDmpnU6IX-GC",
    "outputId": "1808f451-99b7-44f2-c0b1-ad62aaf75c8b"
   },
   "outputs": [],
   "source": [
    "pd.read_csv(people)"
   ]
  },
  {
   "cell_type": "markdown",
   "metadata": {
    "id": "7sFJYbCaX-GC"
   },
   "source": [
    "### Exercise\n",
    "\n",
    "Open the *biostats.csv* file using pandas. What happens? How do you fix it?"
   ]
  },
  {
   "cell_type": "code",
   "execution_count": null,
   "metadata": {
    "id": "G3_x4mtxYIww"
   },
   "outputs": [],
   "source": []
  },
  {
   "cell_type": "markdown",
   "metadata": {
    "id": "WwGXaBfV8zab"
   },
   "source": [
    "<hr>\n",
    "<font face=\"verdana\" style=\"font-size:30px\" color=\"blue\">---------- Optional Advanced Material ----------</font>\n",
    "\n",
    "If you are just starting with Python, consider the material below as a reference for advanced techniques.\n",
    "If, however, you are an intermediate Python coder, then you may be challenged by the exercises on writing files listed below.\n",
    "\n",
    "\n",
    "## Writing Method\n",
    "\n",
    "- `write()` :  writes a string to a text file.\n",
    "- `writelines()` : write a list of strings to a file at once."
   ]
  },
  {
   "cell_type": "markdown",
   "metadata": {
    "id": "lTtZ58zLX-GD"
   },
   "source": [
    "### Exercise\n",
    "\n",
    "Create an empty text file called sample2.txt within the data folder and then run the code below. "
   ]
  },
  {
   "cell_type": "code",
   "execution_count": null,
   "metadata": {
    "id": "fdesC-YEYLPT"
   },
   "outputs": [],
   "source": [
    "# Writing file using write()\n",
    "lines = ['Hello', 'World!']\n",
    "\n",
    "with open(\"data/sample2.txt\", 'w') as f:\n",
    "    for line in lines:\n",
    "        f.write(line)\n",
    "        f.write('\\n')"
   ]
  },
  {
   "cell_type": "markdown",
   "metadata": {
    "id": "xOxglDp3X-GD"
   },
   "source": [
    "### Exercise\n",
    "\n",
    "Open sample2.txt to see what the code above did. "
   ]
  },
  {
   "cell_type": "code",
   "execution_count": null,
   "metadata": {
    "id": "Fr7DUk3xX-GD"
   },
   "outputs": [],
   "source": []
  },
  {
   "cell_type": "markdown",
   "metadata": {
    "id": "D5v2IB5HX-GD"
   },
   "source": [
    "An example of writing in a file using `writelines()`:\n",
    "\n"
   ]
  },
  {
   "cell_type": "code",
   "execution_count": null,
   "metadata": {
    "id": "pyEb-6_T8zab"
   },
   "outputs": [],
   "source": [
    "lines2 = ['INMAS', 'Python Workshop.']\n",
    "\n",
    "with open(\"data/sample2.txt\", 'w') as f:\n",
    "    f.writelines(lines2)"
   ]
  },
  {
   "cell_type": "markdown",
   "metadata": {
    "id": "FAEqUN5Z8zac"
   },
   "source": [
    "### Exercise\n",
    "\n",
    "Read the file `sample.txt` and write the object to a new file using `with` statement."
   ]
  },
  {
   "cell_type": "code",
   "execution_count": null,
   "metadata": {
    "id": "yQn6z9RxX-GE"
   },
   "outputs": [],
   "source": []
  },
  {
   "cell_type": "markdown",
   "metadata": {
    "id": "-XKxoDZQ14tI"
   },
   "source": [
    "## Removing Files\n",
    "If you want to remove the files we just created, run the code below."
   ]
  },
  {
   "cell_type": "code",
   "execution_count": null,
   "metadata": {
    "id": "3r7a34-vJGaU"
   },
   "outputs": [],
   "source": [
    "import os"
   ]
  },
  {
   "cell_type": "code",
   "execution_count": null,
   "metadata": {
    "id": "vTfgzP6uX-GE",
    "outputId": "c874e94c-dfb8-4a0a-8e0c-8fb44ab32520"
   },
   "outputs": [],
   "source": [
    "os.path"
   ]
  },
  {
   "cell_type": "code",
   "execution_count": null,
   "metadata": {
    "id": "y0v_ttsI8zag"
   },
   "outputs": [],
   "source": [
    "for myfile in [\"data/sample2.txt\"]:\n",
    "    if os.path.isfile(myfile):\n",
    "        os.remove(myfile)"
   ]
  },
  {
   "cell_type": "code",
   "execution_count": null,
   "metadata": {
    "colab": {
     "base_uri": "https://localhost:8080/",
     "height": 162
    },
    "executionInfo": {
     "elapsed": 163,
     "status": "error",
     "timestamp": 1633892329423,
     "user": {
      "displayName": "Emily Shinkle",
      "photoUrl": "https://lh3.googleusercontent.com/a/default-user=s64",
      "userId": "06575640438948846197"
     },
     "user_tz": 300
    },
    "id": "-6qiFt8tIq1A",
    "outputId": "e30dfa7b-7e3a-4c40-c181-c55a1c897475"
   },
   "outputs": [],
   "source": [
    "os.listdir(\"data/\")"
   ]
  }
 ],
 "metadata": {
  "colab": {
   "collapsed_sections": [],
   "name": "Notebook5_Input_Output.ipynb",
   "provenance": []
  },
  "kernelspec": {
   "display_name": "Python 3 (ipykernel)",
   "language": "python",
   "name": "python3"
  },
  "language_info": {
   "codemirror_mode": {
    "name": "ipython",
    "version": 3
   },
   "file_extension": ".py",
   "mimetype": "text/x-python",
   "name": "python",
   "nbconvert_exporter": "python",
   "pygments_lexer": "ipython3",
   "version": "3.11.4"
  }
 },
 "nbformat": 4,
 "nbformat_minor": 1
}
