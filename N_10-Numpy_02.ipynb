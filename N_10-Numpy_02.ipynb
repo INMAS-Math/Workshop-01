{
 "cells": [
  {
   "cell_type": "markdown",
   "metadata": {
    "id": "8FzPm-6HJYBp"
   },
   "source": [
    "<img src=\"images/Picture0.png\" width=200x />\n",
    "\n",
    "# Notebook 10 - NumPy Intermediate\n",
    "\n",
    "## Instructions\n",
    "Read the material below and complete the exercises.\n",
    "\n",
    "Material covered in this notebook:\n",
    "\n",
    "- How to generate arrays from functions\n",
    "- How to perform I/O with arrays\n",
    "- Manipulating arrays\n",
    "- More linear algebra\n",
    "\n",
    "### Pre-requisites\n",
    "Notebooks 01 - 05, 09\n",
    "\n",
    "### Credits\n",
    "Adapted from work of [J.R. Johansson](https://github.com/jrjohansson/scientific-python-lectures)\n"
   ]
  },
  {
   "cell_type": "markdown",
   "metadata": {},
   "source": [
    "# Creating `numpy` arrays\n",
    "\n",
    "Let's first import matplotlib and ensure that the plots are embedded nicely in the notebook."
   ]
  },
  {
   "cell_type": "code",
   "execution_count": null,
   "metadata": {
    "id": "PCGaRDrRJYBs"
   },
   "outputs": [],
   "source": [
    "%matplotlib inline \n",
    "\n",
    "import matplotlib.pyplot as plt"
   ]
  },
  {
   "cell_type": "markdown",
   "metadata": {
    "id": "i0lLXIY_8eic"
   },
   "source": [
    "In the previous numpy notebook, we learned how to create arrays from lists. Below we'll learn common functions for creating numpy arrays of specific forms."
   ]
  },
  {
   "cell_type": "markdown",
   "metadata": {
    "id": "BS-U5lL-fhKv"
   },
   "source": [
    "### Exercise\n",
    "Let's first import ``numpy`` as ``np``."
   ]
  },
  {
   "cell_type": "code",
   "execution_count": 1,
   "metadata": {
    "id": "wqrmFZfZgLFc"
   },
   "outputs": [],
   "source": []
  },
  {
   "cell_type": "markdown",
   "metadata": {
    "id": "8gZWFDZAJYB3"
   },
   "source": [
    "## Creating `numpy` arrays using array-generating functions"
   ]
  },
  {
   "cell_type": "markdown",
   "metadata": {
    "id": "aspB8NXIJYB4"
   },
   "source": [
    "For larger arrays it is inpractical to initialize the data manually, using explicit Python lists. Instead we can use one of the many functions in `numpy` that generate arrays of different forms. Some of the more common are:"
   ]
  },
  {
   "cell_type": "markdown",
   "metadata": {
    "id": "AkkFshTKJYB4"
   },
   "source": [
    "### arange\n",
    "The `arange()` function is similar to the `range()` function and creates values using arguments start, stop, and step."
   ]
  },
  {
   "cell_type": "code",
   "execution_count": 19,
   "metadata": {
    "id": "XyLAAxgoJYB4"
   },
   "outputs": [
    {
     "name": "stdout",
     "output_type": "stream",
     "text": [
      "(10,)\n",
      "[0 1 2 3 4 5 6 7 8 9]\n"
     ]
    }
   ],
   "source": [
    "x = np.arange(0, 10, 1)\n",
    "print(x.shape)\n",
    "print(x)"
   ]
  },
  {
   "cell_type": "markdown",
   "metadata": {
    "id": "ugD2Rlkx88Z7"
   },
   "source": [
    "### Exercise\n",
    "Create an array with values from -1 to 1, with step size 0.1."
   ]
  },
  {
   "cell_type": "code",
   "execution_count": null,
   "metadata": {
    "id": "b7-1qhg_JYB4"
   },
   "outputs": [],
   "source": []
  },
  {
   "cell_type": "markdown",
   "metadata": {
    "id": "QGZCvnmR3rHy"
   },
   "source": [
    "### Exercise\n",
    "Produce a plot of a sinusoid on the interval $[−\\pi, \\pi]$. Include a title and labels for the $x$- and $y$-axes. Remember that you can use the module `math`. Experiment with different step sizes to obtain a nice smooth graph. What is an optimal value? (*Hint:* Think pixels on your screen.)"
   ]
  },
  {
   "cell_type": "code",
   "execution_count": null,
   "metadata": {
    "id": "-cxUDa_334Xh"
   },
   "outputs": [],
   "source": []
  },
  {
   "cell_type": "markdown",
   "metadata": {
    "id": "1MHfiYZU342q"
   },
   "source": [
    "Let's make our sinusoid graph better looking by changing our $x$-axis labels! The labels of the $x$-axis are called ticks. We use the function `plt.xticks`. Let's make sure the $x$-axis has labels at $-\\pi$, $0$ and $\\pi$."
   ]
  },
  {
   "cell_type": "code",
   "execution_count": null,
   "metadata": {
    "id": "JgOGYIN34DQD"
   },
   "outputs": [],
   "source": [
    "x = np.arange(-np.pi,np.pi,0.1)   # start,stop,step\n",
    "y = np.sin(x)\n",
    "plt.plot(x,y)\n",
    "#plt.axhline(y=0)\n",
    "plt.xlabel('x-values')\n",
    "plt.ylabel('sin(x)')\n",
    "plt.xticks((-np.pi, 0, np.pi), ('-$\\pi$', '0', '$\\pi$'))\n",
    "plt.title('Plot of the Sine Function')\n",
    "plt.show()"
   ]
  },
  {
   "cell_type": "markdown",
   "metadata": {
    "id": "vZjmAKaj4gCS"
   },
   "source": [
    "### Exercise\n",
    "Produce a plot of the functions $f(x) = e^{-x/10} \\sin(\\pi x)$ and $g(x) = xe^{−x/3}$ over the interval $[0, 10]$. Include labels for the $x$- and $y$-axes, and a legend explaining which line is which plot."
   ]
  },
  {
   "cell_type": "code",
   "execution_count": null,
   "metadata": {
    "id": "GDmBRTz54mjx"
   },
   "outputs": [],
   "source": []
  },
  {
   "cell_type": "markdown",
   "metadata": {
    "id": "441-D5OeJYB5"
   },
   "source": [
    "### linspace and logspace\n",
    "The `linspace()` and `logspace()` functions are used to create regularly-spaced points in the domain. These functions take three arguments: start, end, and number-of-elements. Unlike `arange()`, the end points are included in these functions. Let's look at specific examples:"
   ]
  },
  {
   "cell_type": "code",
   "execution_count": 2,
   "metadata": {
    "id": "T8qhmp5jJYB5"
   },
   "outputs": [
    {
     "data": {
      "text/plain": [
       "array([ 0.        ,  0.41666667,  0.83333333,  1.25      ,  1.66666667,\n",
       "        2.08333333,  2.5       ,  2.91666667,  3.33333333,  3.75      ,\n",
       "        4.16666667,  4.58333333,  5.        ,  5.41666667,  5.83333333,\n",
       "        6.25      ,  6.66666667,  7.08333333,  7.5       ,  7.91666667,\n",
       "        8.33333333,  8.75      ,  9.16666667,  9.58333333, 10.        ])"
      ]
     },
     "execution_count": 2,
     "metadata": {},
     "output_type": "execute_result"
    }
   ],
   "source": [
    "np.linspace(0, 10, 25)"
   ]
  },
  {
   "cell_type": "code",
   "execution_count": 3,
   "metadata": {
    "id": "2L1mYrXrJYB5"
   },
   "outputs": [
    {
     "data": {
      "text/plain": [
       "array([1.00000000e+00, 3.03773178e+00, 9.22781435e+00, 2.80316249e+01,\n",
       "       8.51525577e+01, 2.58670631e+02, 7.85771994e+02, 2.38696456e+03,\n",
       "       7.25095809e+03, 2.20264658e+04])"
      ]
     },
     "execution_count": 3,
     "metadata": {},
     "output_type": "execute_result"
    }
   ],
   "source": [
    "np.logspace(0, 10, 10, base=np.e)"
   ]
  },
  {
   "cell_type": "markdown",
   "metadata": {
    "id": "PVn22vjl9jeu"
   },
   "source": [
    "### Exercise\n",
    "How is `np.linspace()` different from `np.arange()`? What does `np.logspace()` do?"
   ]
  },
  {
   "cell_type": "markdown",
   "metadata": {
    "id": "1ByIPsbIJYB7"
   },
   "source": [
    "### random data\n",
    "The `numpy` package has different functions for generating random series. For a uniform distribution, the `rand()` function is used for populating an array of a specified size with numbers uniformly distributed in the $[0,1)$ interval."
   ]
  },
  {
   "cell_type": "code",
   "execution_count": 4,
   "metadata": {
    "id": "QFE3yhNUJYB7"
   },
   "outputs": [
    {
     "data": {
      "text/plain": [
       "array([[0.37292118, 0.56689578, 0.40427832, 0.14939739, 0.40610223],\n",
       "       [0.70313189, 0.68508353, 0.94167473, 0.62334677, 0.90333538],\n",
       "       [0.80070198, 0.0391906 , 0.0661671 , 0.62722351, 0.53818059],\n",
       "       [0.85838642, 0.9240972 , 0.44651482, 0.20572705, 0.50263113],\n",
       "       [0.85584407, 0.31452846, 0.38103541, 0.77441872, 0.34765411]])"
      ]
     },
     "execution_count": 4,
     "metadata": {},
     "output_type": "execute_result"
    }
   ],
   "source": [
    "np.random.rand(5, 5)"
   ]
  },
  {
   "cell_type": "markdown",
   "metadata": {},
   "source": [
    "While the `randn()` function is used for populating an array of a given size with numbers from a Gaussian distribution of mean 0 and variance 1."
   ]
  },
  {
   "cell_type": "code",
   "execution_count": 7,
   "metadata": {
    "id": "xAsqWRGQJYB7"
   },
   "outputs": [
    {
     "data": {
      "text/plain": [
       "array([[-0.19099303, -0.93587363,  0.07182065, -0.60231961, -0.34379036],\n",
       "       [-1.56612482,  0.78048046,  2.0925645 , -0.26984681, -1.11966762],\n",
       "       [ 0.60648762,  0.43194037, -0.75860021,  0.2631642 , -1.21930552],\n",
       "       [-0.54617272,  2.56249274, -0.42194705, -0.19963629, -1.0935662 ],\n",
       "       [-0.94574512,  0.41358917, -0.05798413, -2.02422902, -0.740418  ]])"
      ]
     },
     "execution_count": 7,
     "metadata": {},
     "output_type": "execute_result"
    }
   ],
   "source": [
    "np.random.randn(5, 5)"
   ]
  },
  {
   "cell_type": "markdown",
   "metadata": {
    "id": "tPKVSSF4JYB7"
   },
   "source": [
    "### diag\n",
    "Diagonal square matrices can be created directly using the `diag()` constructor. It takes a list as an argument for specifying the values of the diagonal elements. For example,"
   ]
  },
  {
   "cell_type": "code",
   "execution_count": 16,
   "metadata": {
    "id": "jlNIejdtJYB8"
   },
   "outputs": [
    {
     "name": "stdout",
     "output_type": "stream",
     "text": [
      "(3, 3)\n",
      "[[1 0 0]\n",
      " [0 2 0]\n",
      " [0 0 3]]\n"
     ]
    }
   ],
   "source": [
    "x = np.diag([1,2,3])\n",
    "print(x.shape)\n",
    "print(x)"
   ]
  },
  {
   "cell_type": "markdown",
   "metadata": {},
   "source": [
    "A diagonal matrix can also have an offset using the `k` keyword which defaults to 0. For example,"
   ]
  },
  {
   "cell_type": "code",
   "execution_count": 20,
   "metadata": {
    "id": "lEF8fYC9JYB8",
    "scrolled": true
   },
   "outputs": [
    {
     "data": {
      "text/plain": [
       "array([[0, 1, 0, 0],\n",
       "       [0, 0, 2, 0],\n",
       "       [0, 0, 0, 3],\n",
       "       [0, 0, 0, 0]])"
      ]
     },
     "execution_count": 20,
     "metadata": {},
     "output_type": "execute_result"
    }
   ],
   "source": [
    "np.diag([1,2,3], k=1)"
   ]
  },
  {
   "cell_type": "markdown",
   "metadata": {},
   "source": [
    "Notice how the offset made the shape of the matrix one size larger."
   ]
  },
  {
   "cell_type": "markdown",
   "metadata": {
    "id": "oRzfk2SeJYB8"
   },
   "source": [
    "### zeros and ones\n",
    "It is good practice to initialize the elements in an array when it is created, and often with 0, or 1. For this purpose, the `zeros()` and `ones()` functions are used. The required argument is a tuple representing the shape of the desired array, thus the double parentheses."
   ]
  },
  {
   "cell_type": "code",
   "execution_count": 21,
   "metadata": {
    "id": "j4nhwUpXJYB8"
   },
   "outputs": [
    {
     "data": {
      "text/plain": [
       "array([[0., 0., 0.],\n",
       "       [0., 0., 0.],\n",
       "       [0., 0., 0.]])"
      ]
     },
     "execution_count": 21,
     "metadata": {},
     "output_type": "execute_result"
    }
   ],
   "source": [
    "np.zeros((3,3))"
   ]
  },
  {
   "cell_type": "code",
   "execution_count": 22,
   "metadata": {
    "id": "IxxxYXWsJYB9",
    "scrolled": true
   },
   "outputs": [
    {
     "data": {
      "text/plain": [
       "array([[1., 1., 1.],\n",
       "       [1., 1., 1.],\n",
       "       [1., 1., 1.]])"
      ]
     },
     "execution_count": 22,
     "metadata": {},
     "output_type": "execute_result"
    }
   ],
   "source": [
    "np.ones((3,3))"
   ]
  },
  {
   "cell_type": "markdown",
   "metadata": {},
   "source": [
    "To copy the shape of another object, the `ones_like()` and the `zeros_like()` functions can be used."
   ]
  },
  {
   "cell_type": "code",
   "execution_count": 23,
   "metadata": {
    "id": "ZgOafuBzJYB9"
   },
   "outputs": [
    {
     "data": {
      "text/plain": [
       "array([[1., 1., 1., 1., 1.],\n",
       "       [1., 1., 1., 1., 1.],\n",
       "       [1., 1., 1., 1., 1.],\n",
       "       [1., 1., 1., 1., 1.],\n",
       "       [1., 1., 1., 1., 1.]])"
      ]
     },
     "execution_count": 23,
     "metadata": {},
     "output_type": "execute_result"
    }
   ],
   "source": [
    "y = np.random.randn(5,5)\n",
    "\n",
    "np.ones_like(y)"
   ]
  },
  {
   "cell_type": "code",
   "execution_count": null,
   "metadata": {
    "id": "tvGB1kBjJYB9"
   },
   "outputs": [],
   "source": [
    "np.zeros_like(y)"
   ]
  },
  {
   "cell_type": "markdown",
   "metadata": {},
   "source": [
    "### Exercise\n",
    "Using the `shape` property and the `zeros()` function, write an equivalent to `zeros_like()`."
   ]
  },
  {
   "cell_type": "code",
   "execution_count": 24,
   "metadata": {},
   "outputs": [
    {
     "data": {
      "text/plain": [
       "array([[0., 0., 0., 0., 0.],\n",
       "       [0., 0., 0., 0., 0.],\n",
       "       [0., 0., 0., 0., 0.],\n",
       "       [0., 0., 0., 0., 0.],\n",
       "       [0., 0., 0., 0., 0.]])"
      ]
     },
     "execution_count": 24,
     "metadata": {},
     "output_type": "execute_result"
    }
   ],
   "source": []
  },
  {
   "cell_type": "markdown",
   "metadata": {
    "id": "CDWRceUf981U"
   },
   "source": [
    "### Exercise\n",
    "Use the commands above to create the following matrices.\n",
    "\n",
    "1. A $4\\times4$ diagonal matrix with diagonal entries $1, 2, 3, 4$."
   ]
  },
  {
   "cell_type": "code",
   "execution_count": null,
   "metadata": {},
   "outputs": [],
   "source": []
  },
  {
   "cell_type": "markdown",
   "metadata": {},
   "source": [
    "2. A $5\\times 3$ matrix of all $1$s."
   ]
  },
  {
   "cell_type": "code",
   "execution_count": null,
   "metadata": {},
   "outputs": [],
   "source": []
  },
  {
   "cell_type": "markdown",
   "metadata": {},
   "source": [
    "3. The vector $(1,1.2,1.4,1.6,1.8,2)$ using two different methods."
   ]
  },
  {
   "cell_type": "code",
   "execution_count": null,
   "metadata": {
    "id": "5r9SIg_PdvUc"
   },
   "outputs": [],
   "source": []
  },
  {
   "cell_type": "markdown",
   "metadata": {},
   "source": [
    "4. A vector of length $8$ with random entries drawn from a normal distribution with mean 1 and variance 1."
   ]
  },
  {
   "cell_type": "code",
   "execution_count": null,
   "metadata": {},
   "outputs": [],
   "source": []
  },
  {
   "cell_type": "markdown",
   "metadata": {
    "id": "CpcJi3iAJYB9"
   },
   "source": [
    "## Input/Output in `numpy`"
   ]
  },
  {
   "cell_type": "markdown",
   "metadata": {
    "id": "dbhWwJ3PJYB-"
   },
   "source": [
    "### Reading comma-separated values (CSV)"
   ]
  },
  {
   "cell_type": "markdown",
   "metadata": {
    "id": "g8BqUePiJYB-"
   },
   "source": [
    "A very common file format for data files is comma-separated values (CSV), or related formats such as TSV (tab-separated values). To read data from such files into Numpy arrays we can use the `numpy.genfromtxt` function. For example, "
   ]
  },
  {
   "cell_type": "code",
   "execution_count": null,
   "metadata": {
    "id": "hoZZQ1KaJYB-"
   },
   "outputs": [],
   "source": [
    "# On macOS and Linux uncomment the following line\n",
    "# !head data/stockholm_td_adj2.csv\n",
    "# On Windows use the following commands\n",
    "!type data\\stockholm_td_adj2.csv"
   ]
  },
  {
   "cell_type": "code",
   "execution_count": null,
   "metadata": {
    "id": "QsE6sYRxJYB-"
   },
   "outputs": [],
   "source": [
    "data = np.genfromtxt('./data/stockholm_td_adj.dat')"
   ]
  },
  {
   "cell_type": "code",
   "execution_count": null,
   "metadata": {
    "id": "KcsM8sZUJYB-"
   },
   "outputs": [],
   "source": [
    "data.shape"
   ]
  },
  {
   "cell_type": "code",
   "execution_count": null,
   "metadata": {
    "id": "m9D4cHBxJYB_"
   },
   "outputs": [],
   "source": [
    "fig, ax = plt.subplots(figsize=(14,4))\n",
    "ax.plot(data[:,0]+data[:,1]/12.0+data[:,2]/365, data[:,5])\n",
    "ax.axis('tight')\n",
    "ax.set_title('temperatures in Stockholm')\n",
    "ax.set_xlabel('year')\n",
    "ax.set_ylabel('temperature (C)');"
   ]
  },
  {
   "cell_type": "markdown",
   "metadata": {
    "id": "hGGsJSUrTzTO"
   },
   "source": [
    "As shown in the Stockholm example, `genfromtxt` is useful to import data. The function splits each non-empty line into an array with proper data types.\n",
    "\n",
    "However, a CSV file generally contains a tabular data where each row contains comma-separated values. The table may have a header which is an array of values assigned to each of the columns. It acts as a row header for the data. The columns may contain values belonging to different data structures. "
   ]
  },
  {
   "cell_type": "code",
   "execution_count": null,
   "metadata": {
    "id": "hOyUiG7hd0ws"
   },
   "outputs": [],
   "source": [
    "# On macOS and Linux uncomment the following line\n",
    "# !head data/stockholm_td_adj2.csv\n",
    "# On Windows use the following commands\n",
    "!type data\\stockholm_td_adj2.csv"
   ]
  },
  {
   "cell_type": "markdown",
   "metadata": {
    "id": "MEU1sh0Ad58i"
   },
   "source": [
    "### Exercise\n",
    "Try to read the above data using the filename only. "
   ]
  },
  {
   "cell_type": "code",
   "execution_count": null,
   "metadata": {
    "id": "L6FLsVnvd02B"
   },
   "outputs": [],
   "source": []
  },
  {
   "cell_type": "markdown",
   "metadata": {
    "id": "nZ5NulXQe_5J"
   },
   "source": [
    "`genfromtxt` returns NaN rows. It can be handled using `genfromtxt` keywords. We can use different delimiters, skip header rows, control the type of imported data, give columns of data names, etc.\n",
    "\n",
    "For example, \n",
    "- the `delimiter` keyword is used to define how the splitting should take place. By default, `genfromtxt` assumes `delimiter=None`, meaning that the line is split along white spaces (including tabs). A comma-separated file (CSV) quite often uses a comma (,) or a semicolon (;) as delimiter.\n",
    "\n",
    "- `dtype` is used to define the data type of the resulting array. float is the default value for the `dtype` keyword. If `dtype = None`, the dtypes will be determined by the contents of each column, individually.\n",
    "\n",
    "- `skip_header` is used to skip at the beginning of the file. The default is `skip_header=0`.\n",
    "\n",
    "- `names` is used to define the field names in a structured dtype. If `names=True`, the field names are read from the first line after the first `skip_header` lines.\n",
    "\n",
    "For more details, see [here](https://numpy.org/doc/stable/reference/generated/numpy.genfromtxt.html). "
   ]
  },
  {
   "cell_type": "code",
   "execution_count": null,
   "metadata": {
    "id": "GXvHR75mT6OU"
   },
   "outputs": [],
   "source": [
    "data2 = np.genfromtxt(\n",
    "    './data/stockholm_td_adj2.csv', \n",
    "    delimiter=',', # comma separated values\n",
    "    names = True, # the field names are read from the first valid line\n",
    "    dtype = None) # guess the dtype of each column\n",
    "data2"
   ]
  },
  {
   "cell_type": "markdown",
   "metadata": {
    "id": "SH3B9wDPgPRa"
   },
   "source": [
    "Above array are said to have structured datatype, or, structured arrays. Indexing with the field name allows us to access (and modify) individual fields of a structured array:"
   ]
  },
  {
   "cell_type": "code",
   "execution_count": null,
   "metadata": {
    "id": "vW-VrWT7gL9X"
   },
   "outputs": [],
   "source": [
    "data2['Year']"
   ]
  },
  {
   "cell_type": "markdown",
   "metadata": {
    "id": "S5A5K5IBJYB_"
   },
   "source": [
    "Using `numpy.savetxt` we can store a Numpy array to a file in CSV format:"
   ]
  },
  {
   "cell_type": "code",
   "execution_count": null,
   "metadata": {
    "id": "dkB6asZtJYB_"
   },
   "outputs": [],
   "source": [
    "M = np.random.rand(3,3)\n",
    "\n",
    "M"
   ]
  },
  {
   "cell_type": "code",
   "execution_count": null,
   "metadata": {
    "id": "J8XFuwpfJYCA"
   },
   "outputs": [],
   "source": [
    "np.savetxt(\"random-matrix.csv\", M)"
   ]
  },
  {
   "cell_type": "code",
   "execution_count": null,
   "metadata": {
    "id": "49YbCdDDJYCA"
   },
   "outputs": [],
   "source": [
    "!cat random-matrix.csv"
   ]
  },
  {
   "cell_type": "code",
   "execution_count": null,
   "metadata": {
    "id": "658u8Ct3JYCA"
   },
   "outputs": [],
   "source": [
    "np.savetxt(\"random-matrix.csv\", M, fmt='%.5f') # fmt specifies the format\n",
    "\n",
    "!cat random-matrix.csv"
   ]
  },
  {
   "cell_type": "markdown",
   "metadata": {
    "id": "u9tDCkR4JYCA"
   },
   "source": [
    "### Numpy's native file format"
   ]
  },
  {
   "cell_type": "markdown",
   "metadata": {
    "id": "gCnHvxKCJYCA"
   },
   "source": [
    "Useful when storing and reading back numpy array data. Use the functions `numpy.save` and `numpy.load`:"
   ]
  },
  {
   "cell_type": "code",
   "execution_count": null,
   "metadata": {
    "id": "3PTkAd2KJYCB"
   },
   "outputs": [],
   "source": [
    "np.save(\"random-matrix.npy\", M)\n",
    "\n",
    "!file random-matrix.npy"
   ]
  },
  {
   "cell_type": "code",
   "execution_count": null,
   "metadata": {
    "id": "muaOL-RwJYCB"
   },
   "outputs": [],
   "source": [
    "np.load(\"random-matrix.npy\")"
   ]
  },
  {
   "cell_type": "markdown",
   "metadata": {
    "id": "PmC3GdODJYCC"
   },
   "source": [
    "## Manipulating arrays"
   ]
  },
  {
   "cell_type": "markdown",
   "metadata": {
    "id": "gWAYLSxZJYCC"
   },
   "source": [
    "## Advanced Indexing"
   ]
  },
  {
   "cell_type": "markdown",
   "metadata": {
    "id": "NSFaeLIUJYCF"
   },
   "source": [
    "### Index slicing"
   ]
  },
  {
   "cell_type": "markdown",
   "metadata": {
    "id": "mbrdAq90JYCF"
   },
   "source": [
    "Index slicing is the technical name for the syntax `M[lower:upper:step]` to extract part of an array:"
   ]
  },
  {
   "cell_type": "code",
   "execution_count": null,
   "metadata": {
    "id": "o-Y3bQMBJYCF"
   },
   "outputs": [],
   "source": [
    "A = np.array([1,2,3,4,5])\n",
    "A"
   ]
  },
  {
   "cell_type": "code",
   "execution_count": null,
   "metadata": {
    "id": "RQAb2Ik0JYCF"
   },
   "outputs": [],
   "source": [
    "A[1:3]"
   ]
  },
  {
   "cell_type": "markdown",
   "metadata": {
    "id": "S2IO2Jo5JYCG"
   },
   "source": [
    "We can omit any of the three parameters in `M[lower:upper:step]`:"
   ]
  },
  {
   "cell_type": "code",
   "execution_count": null,
   "metadata": {
    "id": "ARzwKYzbJYCH"
   },
   "outputs": [],
   "source": [
    "A[:3] # first three elements"
   ]
  },
  {
   "cell_type": "code",
   "execution_count": null,
   "metadata": {
    "id": "dd1OnFW_JYCH"
   },
   "outputs": [],
   "source": [
    "A[3:] # elements from index 3"
   ]
  },
  {
   "cell_type": "code",
   "execution_count": null,
   "metadata": {
    "id": "4Whj_GacJYCG"
   },
   "outputs": [],
   "source": [
    "A[::] # lower, upper, step all take the default values"
   ]
  },
  {
   "cell_type": "markdown",
   "metadata": {
    "id": "RAxGQg_5LFfi"
   },
   "source": [
    "### Exercise\n",
    "Use step parameter to obtain values at even indices of the array A.\n"
   ]
  },
  {
   "cell_type": "code",
   "execution_count": null,
   "metadata": {
    "id": "6irbNbSzg81c"
   },
   "outputs": [],
   "source": []
  },
  {
   "cell_type": "markdown",
   "metadata": {},
   "source": [
    "### Assigning with slices"
   ]
  },
  {
   "cell_type": "markdown",
   "metadata": {
    "id": "xIPvos9cJYCG"
   },
   "source": [
    "Array slices are *mutable*: if they are assigned a new value the original array from which the slice was extracted is modified:"
   ]
  },
  {
   "cell_type": "code",
   "execution_count": null,
   "metadata": {
    "id": "jVVbFdKmJYCG"
   },
   "outputs": [],
   "source": [
    "A[1:3] = [-2,-3]\n",
    "\n",
    "A"
   ]
  },
  {
   "cell_type": "markdown",
   "metadata": {
    "id": "IQNX9YSaJYCH"
   },
   "source": [
    "Negative indices counts from the end of the array (positive index from the begining):"
   ]
  },
  {
   "cell_type": "code",
   "execution_count": null,
   "metadata": {
    "id": "kLCfkJEyJYCI"
   },
   "outputs": [],
   "source": [
    "A = np.array([1,2,3,4,5])"
   ]
  },
  {
   "cell_type": "code",
   "execution_count": null,
   "metadata": {
    "id": "VRNVWnLuJYCI"
   },
   "outputs": [],
   "source": [
    "A[-1] # the last element in the array"
   ]
  },
  {
   "cell_type": "code",
   "execution_count": null,
   "metadata": {
    "id": "MQWtY6MEJYCI"
   },
   "outputs": [],
   "source": [
    "A[-3:] # the last three elements"
   ]
  },
  {
   "cell_type": "markdown",
   "metadata": {
    "id": "8uPmftvcJYCI"
   },
   "source": [
    "Index slicing works exactly the same way for multidimensional arrays:"
   ]
  },
  {
   "cell_type": "code",
   "execution_count": null,
   "metadata": {
    "id": "TGC_0DPGJYCI"
   },
   "outputs": [],
   "source": [
    "A = np.array([[n+m*10 for n in range(5)] for m in range(5)])\n",
    "\n",
    "A"
   ]
  },
  {
   "cell_type": "code",
   "execution_count": null,
   "metadata": {
    "id": "CJFBlPUsJYCJ"
   },
   "outputs": [],
   "source": [
    "# a block from the original array\n",
    "A[1:4, 1:4]"
   ]
  },
  {
   "cell_type": "code",
   "execution_count": null,
   "metadata": {
    "id": "uqZABGJLJYCJ"
   },
   "outputs": [],
   "source": [
    "# strides\n",
    "A[::2, ::2]"
   ]
  },
  {
   "cell_type": "markdown",
   "metadata": {
    "id": "q_Mhu9HBhUZr"
   },
   "source": [
    "### Exercise\n",
    "Using the matrix $A$, write code to print:\n",
    "1. `array([ 1, 11, 21, 31, 41])`\n",
    "2. `array([[ 1,  3], [11, 13], [21, 23], [31, 33], [41, 43]])` \n",
    "3. `array([[11, 13], [31, 33]])`\n",
    "4. `array([[33, 34], [43, 44]])`"
   ]
  },
  {
   "cell_type": "code",
   "execution_count": null,
   "metadata": {
    "id": "lYDQ1IdlhpkF"
   },
   "outputs": [],
   "source": []
  },
  {
   "cell_type": "markdown",
   "metadata": {
    "id": "eL51WXfbJYCJ"
   },
   "source": [
    "### Fancy indexing"
   ]
  },
  {
   "cell_type": "markdown",
   "metadata": {
    "id": "WrffEvHhJYCJ"
   },
   "source": [
    "Fancy indexing is the name for when an array or list is used in-place of an index: "
   ]
  },
  {
   "cell_type": "code",
   "execution_count": null,
   "metadata": {
    "id": "ibhcLDp_JYCJ"
   },
   "outputs": [],
   "source": [
    "row_indices = [1, 2, 3]\n",
    "A[row_indices]"
   ]
  },
  {
   "cell_type": "code",
   "execution_count": null,
   "metadata": {
    "id": "DCHBu3LJJYCK"
   },
   "outputs": [],
   "source": [
    "col_indices = [1, 2, -1] # remember, index -1 means the last element\n",
    "A[row_indices, col_indices]"
   ]
  },
  {
   "cell_type": "markdown",
   "metadata": {
    "id": "lqUNDrhpJYCK"
   },
   "source": [
    "We can also use index masks: If the index mask is an Numpy array of data type `bool`, then an element is selected (True) or not (False) depending on the value of the index mask at the position of each element: "
   ]
  },
  {
   "cell_type": "code",
   "execution_count": null,
   "metadata": {
    "id": "W8stcheRJYCK"
   },
   "outputs": [],
   "source": [
    "B = np.array([n for n in range(5)])\n",
    "B"
   ]
  },
  {
   "cell_type": "code",
   "execution_count": null,
   "metadata": {
    "id": "pvlbpYV_JYCK"
   },
   "outputs": [],
   "source": [
    "row_mask = np.array([True, False, True, False, False])\n",
    "B[row_mask]"
   ]
  },
  {
   "cell_type": "code",
   "execution_count": null,
   "metadata": {
    "id": "HH1Ced6GJYCL"
   },
   "outputs": [],
   "source": [
    "# same thing\n",
    "row_mask = np.array([1,0,1,0,0], dtype=bool)\n",
    "B[row_mask]"
   ]
  },
  {
   "cell_type": "markdown",
   "metadata": {
    "id": "cx9tG6meJYCL"
   },
   "source": [
    "This feature is very useful to conditionally select elements from an array, using for example comparison operators:"
   ]
  },
  {
   "cell_type": "code",
   "execution_count": null,
   "metadata": {
    "id": "VQD4bIoXJYCL"
   },
   "outputs": [],
   "source": [
    "x = np.arange(0, 10, 0.5)\n",
    "x"
   ]
  },
  {
   "cell_type": "code",
   "execution_count": null,
   "metadata": {
    "id": "6oRTuAL6JYCL"
   },
   "outputs": [],
   "source": [
    "mask = (5 < x) * (x < 7.5)\n",
    "\n",
    "mask"
   ]
  },
  {
   "cell_type": "code",
   "execution_count": null,
   "metadata": {
    "id": "I2sJpY51JYCL"
   },
   "outputs": [],
   "source": [
    "x[mask]"
   ]
  },
  {
   "cell_type": "markdown",
   "metadata": {
    "id": "N954C9DijBiP"
   },
   "source": [
    "### Exercise\n",
    "Create a $5\\times 5$ matrix with entries drawn from a uniform distribution on $[-1,1]$. Using a mask, print only the positive entries of the matrix.\n",
    "\n"
   ]
  },
  {
   "cell_type": "code",
   "execution_count": null,
   "metadata": {
    "id": "HWDvDNeWjc8T"
   },
   "outputs": [],
   "source": []
  },
  {
   "cell_type": "markdown",
   "metadata": {
    "id": "TidgYo6HJYCT"
   },
   "source": [
    "## Linear algebra"
   ]
  },
  {
   "cell_type": "markdown",
   "metadata": {
    "id": "2S09Qe1OJYCb"
   },
   "source": [
    "### Data processing"
   ]
  },
  {
   "cell_type": "markdown",
   "metadata": {
    "id": "fxxNEEeYJYCc"
   },
   "source": [
    "Often it is useful to store datasets in Numpy arrays. Numpy provides a number of functions to calculate statistics of datasets in arrays. \n",
    "\n",
    "For example, let's calculate some properties from the Stockholm temperature dataset used above."
   ]
  },
  {
   "cell_type": "code",
   "execution_count": null,
   "metadata": {
    "id": "0G--zteEJYCc"
   },
   "outputs": [],
   "source": [
    "# reminder, the tempeature dataset is stored in the data variable:\n",
    "np.shape(data)"
   ]
  },
  {
   "cell_type": "markdown",
   "metadata": {
    "id": "K2bjHIUJJYCc"
   },
   "source": [
    "### mean"
   ]
  },
  {
   "cell_type": "code",
   "execution_count": null,
   "metadata": {
    "id": "1WU1PPR-JYCc"
   },
   "outputs": [],
   "source": [
    "# the temperature data is in column 3\n",
    "np.mean(data[:,3])"
   ]
  },
  {
   "cell_type": "markdown",
   "metadata": {
    "id": "P_XB_odRJYCc"
   },
   "source": [
    "The daily mean temperature in Stockholm over the last 200 years has been about 6.2 C."
   ]
  },
  {
   "cell_type": "markdown",
   "metadata": {
    "id": "7ZY3D6P3JYCc"
   },
   "source": [
    "### standard deviations and variance"
   ]
  },
  {
   "cell_type": "code",
   "execution_count": null,
   "metadata": {
    "id": "mJlTrinGJYCc"
   },
   "outputs": [],
   "source": [
    "np.std(data[:,3]), np.var(data[:,3])"
   ]
  },
  {
   "cell_type": "markdown",
   "metadata": {
    "id": "mlBMQ3tbJYCc"
   },
   "source": [
    "### min and max"
   ]
  },
  {
   "cell_type": "code",
   "execution_count": null,
   "metadata": {
    "id": "6OW6hxMrJYCd"
   },
   "outputs": [],
   "source": [
    "# lowest daily average temperature\n",
    "data[:,3].min()"
   ]
  },
  {
   "cell_type": "code",
   "execution_count": null,
   "metadata": {
    "id": "enq73x1iJYCd"
   },
   "outputs": [],
   "source": [
    "# highest daily average temperature\n",
    "data[:,3].max()"
   ]
  },
  {
   "cell_type": "markdown",
   "metadata": {
    "id": "2TtcLJ-VJYCe"
   },
   "source": [
    "## Computations on subsets of arrays"
   ]
  },
  {
   "cell_type": "markdown",
   "metadata": {
    "id": "dVUuhPD0JYCe"
   },
   "source": [
    "We can compute with subsets of the data in an array using indexing, fancy indexing, and the other methods of extracting data from an array (described above).\n",
    "\n",
    "For example, let's go back to the temperature dataset:"
   ]
  },
  {
   "cell_type": "code",
   "execution_count": null,
   "metadata": {
    "id": "duTNWV4UJYCe"
   },
   "outputs": [],
   "source": [
    "# On macOS and Linux uncomment the following line\n",
    "# !head -n 3 data/stockholm_td_adj.csv\n",
    "# On Windows use the following commands\n",
    "!type data\\stockholm_td_adj.csv"
   ]
  },
  {
   "cell_type": "markdown",
   "metadata": {
    "id": "3nXY40aMJYCe"
   },
   "source": [
    "The dataformat is: year, month, day, daily average temperature, low, high, location.\n",
    "\n",
    "If we are interested in the average temperature only in a particular month, say February, then we can create a index mask and use it to select only the data for that month using:"
   ]
  },
  {
   "cell_type": "code",
   "execution_count": null,
   "metadata": {
    "id": "NwB2Ha5WJYCe"
   },
   "outputs": [],
   "source": [
    "np.unique(data[:,1]) # the month column takes values from 1 to 12"
   ]
  },
  {
   "cell_type": "code",
   "execution_count": null,
   "metadata": {
    "id": "iWU0uZqDQZqi"
   },
   "outputs": [],
   "source": [
    "mask_feb = data[:,1] == 2"
   ]
  },
  {
   "cell_type": "code",
   "execution_count": null,
   "metadata": {
    "id": "-PYaloc7JYCf"
   },
   "outputs": [],
   "source": [
    "# the temperature data is in column 3\n",
    "np.mean(data[mask_feb,3])"
   ]
  },
  {
   "cell_type": "markdown",
   "metadata": {
    "id": "v-LHqoFWQ1vd"
   },
   "source": [
    "### Exercise\n",
    "1.   Extract the mean monthly average temperatures for each month of the year.\n",
    "2.   Plot the extracted mean values by months. (Remember to add the proper month labeling)\n"
   ]
  },
  {
   "cell_type": "code",
   "execution_count": null,
   "metadata": {
    "id": "VE4Joik0JYCf"
   },
   "outputs": [],
   "source": [
    "months = ['January', 'February', 'March', 'April', 'May', 'June', 'July', 'August', 'September', 'October', 'November', 'December']"
   ]
  },
  {
   "cell_type": "markdown",
   "metadata": {
    "id": "kuz8tlxmJYCf"
   },
   "source": [
    "## Calculations with higher-dimensional data"
   ]
  },
  {
   "cell_type": "markdown",
   "metadata": {
    "id": "mmzO-y_CJYCf"
   },
   "source": [
    "When functions such as `min`, `max`, etc. are applied to a multidimensional arrays, it is sometimes useful to apply the calculation to the entire array, and sometimes only on a row or column basis. Using the `axis` argument we can specify how these functions should behave: "
   ]
  },
  {
   "cell_type": "code",
   "execution_count": null,
   "metadata": {
    "id": "hY2Y-8rrJYCg"
   },
   "outputs": [],
   "source": [
    "m = np.random.rand(3,3)\n",
    "m"
   ]
  },
  {
   "cell_type": "code",
   "execution_count": null,
   "metadata": {
    "id": "5HsmV66JJYCg"
   },
   "outputs": [],
   "source": [
    "# global max\n",
    "m.max()"
   ]
  },
  {
   "cell_type": "code",
   "execution_count": null,
   "metadata": {
    "id": "78KSzoRsJYCg"
   },
   "outputs": [],
   "source": [
    "# max in each column\n",
    "m.max(axis=0)"
   ]
  },
  {
   "cell_type": "code",
   "execution_count": null,
   "metadata": {
    "id": "NGCHeFFsJYCg"
   },
   "outputs": [],
   "source": [
    "# max in each row\n",
    "m.max(axis=1)"
   ]
  },
  {
   "cell_type": "markdown",
   "metadata": {
    "id": "tRaT2NECJYCh"
   },
   "source": [
    "Many other functions and methods in the `array` and `matrix` classes accept the same (optional) `axis` keyword argument."
   ]
  },
  {
   "cell_type": "markdown",
   "metadata": {
    "id": "3l6845LnJYCm"
   },
   "source": [
    "## Copying"
   ]
  },
  {
   "cell_type": "markdown",
   "metadata": {
    "id": "0AEpJLdEJYCm"
   },
   "source": [
    "To achieve high performance, assignments in Python usually do not copy the underlaying objects. This is important for example when objects are passed between functions, to avoid an excessive amount of memory copying when it is not necessary (technical term: pass by reference). "
   ]
  },
  {
   "cell_type": "code",
   "execution_count": null,
   "metadata": {
    "id": "vLYPzJ4eJYCm"
   },
   "outputs": [],
   "source": [
    "A = np.array([[1, 2], [3, 4]])\n",
    "\n",
    "A"
   ]
  },
  {
   "cell_type": "code",
   "execution_count": null,
   "metadata": {
    "id": "p2oIvez7JYCm"
   },
   "outputs": [],
   "source": [
    "# now B is referring to the same array data as A \n",
    "B = A "
   ]
  },
  {
   "cell_type": "code",
   "execution_count": null,
   "metadata": {
    "id": "OMPB2Fs9JYCm"
   },
   "outputs": [],
   "source": [
    "# changing B affects A\n",
    "B[0,0] = 10\n",
    "\n",
    "B"
   ]
  },
  {
   "cell_type": "code",
   "execution_count": null,
   "metadata": {
    "id": "rUcQfT_zJYCn"
   },
   "outputs": [],
   "source": [
    "A"
   ]
  },
  {
   "cell_type": "markdown",
   "metadata": {
    "id": "KUC5aHrYJYCn"
   },
   "source": [
    "If we want to avoid this behavior, so that when we get a new completely independent object `B` copied from `A`, then we need to use the function `copy`:"
   ]
  },
  {
   "cell_type": "code",
   "execution_count": null,
   "metadata": {
    "id": "UtXUXM4VJYCn"
   },
   "outputs": [],
   "source": [
    "B = np.copy(A)"
   ]
  },
  {
   "cell_type": "code",
   "execution_count": null,
   "metadata": {
    "id": "i5acyCKZJYCn"
   },
   "outputs": [],
   "source": [
    "# now, if we modify B, A is not affected\n",
    "B[0,0] = -5\n",
    "\n",
    "B"
   ]
  },
  {
   "cell_type": "code",
   "execution_count": null,
   "metadata": {
    "id": "034jA62XJYCn"
   },
   "outputs": [],
   "source": [
    "A"
   ]
  },
  {
   "cell_type": "markdown",
   "metadata": {
    "id": "aWqWr0SKJYCo"
   },
   "source": [
    "## Iterating over array elements"
   ]
  },
  {
   "cell_type": "markdown",
   "metadata": {
    "id": "0r141whYJYCo"
   },
   "source": [
    "Generally, we want to avoid iterating over the elements of arrays whenever we can (at all costs). The reason is that in a interpreted language like Python (or MATLAB), iterations are really slow compared to vectorized operations. \n",
    "\n",
    "However, sometimes iterations are unavoidable. For such cases, the Python `for` loop is the most convenient way to iterate over an array:"
   ]
  },
  {
   "cell_type": "code",
   "execution_count": null,
   "metadata": {
    "id": "E1hYfmA_JYCo"
   },
   "outputs": [],
   "source": [
    "v = np.array([1,2,3,4])\n",
    "\n",
    "for element in v:\n",
    "    print(element)"
   ]
  },
  {
   "cell_type": "code",
   "execution_count": null,
   "metadata": {
    "id": "rn0KhXMzJYCo"
   },
   "outputs": [],
   "source": [
    "M = np.array([[1,2], [3,4]])\n",
    "\n",
    "for row in M:\n",
    "    print(\"row\", row)\n",
    "    \n",
    "    for element in row:\n",
    "        print(element)"
   ]
  },
  {
   "cell_type": "markdown",
   "metadata": {
    "id": "MqAU23t5JYCo"
   },
   "source": [
    "When we need to iterate over each element of an array and modify its elements, it is convenient to use the `enumerate` function to obtain both the element and its index in the `for` loop: "
   ]
  },
  {
   "cell_type": "code",
   "execution_count": null,
   "metadata": {
    "id": "Joh-WujGJYCp"
   },
   "outputs": [],
   "source": [
    "for row_idx, row in enumerate(M):\n",
    "    print(\"row_idx\", row_idx, \"row\", row)\n",
    "    \n",
    "    for col_idx, element in enumerate(row):\n",
    "        print(\"col_idx\", col_idx, \"element\", element)\n",
    "       \n",
    "        # update the matrix M: square each element\n",
    "        M[row_idx, col_idx] = element ** 2"
   ]
  },
  {
   "cell_type": "code",
   "execution_count": null,
   "metadata": {
    "id": "MPgtvh0fJYCp"
   },
   "outputs": [],
   "source": [
    "# each element in M is now squared\n",
    "M"
   ]
  },
  {
   "cell_type": "markdown",
   "metadata": {
    "id": "DIXxhF9el63B"
   },
   "source": [
    "### Exercise\n",
    "Create a $5\\times 5$ matrix with entries drawn from a uniform distribution on $[-1,1]$. Using a loop, print only the positive entries of the matrix."
   ]
  },
  {
   "cell_type": "code",
   "execution_count": null,
   "metadata": {},
   "outputs": [],
   "source": []
  },
  {
   "cell_type": "markdown",
   "metadata": {
    "id": "QdeNd5_sJYCq"
   },
   "source": [
    "## Using arrays in conditions"
   ]
  },
  {
   "cell_type": "markdown",
   "metadata": {
    "id": "3FWWKFKDJYCq"
   },
   "source": [
    "When using arrays in conditions,for example `if` statements and other boolean expressions, one needs to use `any` or `all`, which requires that any or all elements in the array evalutes to `True`:"
   ]
  },
  {
   "cell_type": "code",
   "execution_count": null,
   "metadata": {
    "id": "BBeZb0nfJYCq"
   },
   "outputs": [],
   "source": [
    "M"
   ]
  },
  {
   "cell_type": "code",
   "execution_count": null,
   "metadata": {
    "id": "4HjlHiM7JYCq"
   },
   "outputs": [],
   "source": [
    "if (M > 5).any():\n",
    "    print(\"at least one element in M is larger than 5\")\n",
    "else:\n",
    "    print(\"no element in M is larger than 5\")"
   ]
  },
  {
   "cell_type": "code",
   "execution_count": null,
   "metadata": {
    "id": "C9y8KjBJJYCq"
   },
   "outputs": [],
   "source": [
    "if (M > 5).all():\n",
    "    print(\"all elements in M are larger than 5\")\n",
    "else:\n",
    "    print(\"all elements in M are not larger than 5\")"
   ]
  },
  {
   "cell_type": "markdown",
   "metadata": {},
   "source": [
    "<hr>\n",
    "<font face=\"verdana\" style=\"font-size:30px\" color=\"blue\">---------- Optional Advanced Material ----------</font>"
   ]
  },
  {
   "cell_type": "markdown",
   "metadata": {
    "id": "hZXmoUoWJYCh"
   },
   "source": [
    "## Reshaping, resizing and stacking arrays"
   ]
  },
  {
   "cell_type": "markdown",
   "metadata": {
    "id": "UXBEoCKlJYCh"
   },
   "source": [
    "The shape of an Numpy array can be modified without copying the underlaying data, which makes it a fast operation even for large arrays."
   ]
  },
  {
   "cell_type": "code",
   "execution_count": null,
   "metadata": {
    "id": "ZxcLWZbgJYCh"
   },
   "outputs": [],
   "source": [
    "A"
   ]
  },
  {
   "cell_type": "code",
   "execution_count": null,
   "metadata": {
    "id": "UbgwUj4AJYCh"
   },
   "outputs": [],
   "source": [
    "n, m = A.shape"
   ]
  },
  {
   "cell_type": "code",
   "execution_count": null,
   "metadata": {
    "id": "DfRpzTc6JYCh"
   },
   "outputs": [],
   "source": [
    "B = A.reshape((1,n*m))\n",
    "B"
   ]
  },
  {
   "cell_type": "code",
   "execution_count": null,
   "metadata": {
    "id": "kGKbv2InJYCh"
   },
   "outputs": [],
   "source": [
    "B[0,0:5] = 5 # modify the array\n",
    "\n",
    "B"
   ]
  },
  {
   "cell_type": "code",
   "execution_count": null,
   "metadata": {
    "id": "-SOqaXLMJYCi"
   },
   "outputs": [],
   "source": [
    "A # and the original variable is also changed. B is only a different view of the same data"
   ]
  },
  {
   "cell_type": "markdown",
   "metadata": {
    "id": "fdn3qxVJJYCi"
   },
   "source": [
    "We can also use the function `flatten` to make a higher-dimensional array into a vector. But this function creates a copy of the data."
   ]
  },
  {
   "cell_type": "code",
   "execution_count": null,
   "metadata": {
    "id": "jFvkKY7PJYCi"
   },
   "outputs": [],
   "source": [
    "B = A.flatten()\n",
    "\n",
    "B"
   ]
  },
  {
   "cell_type": "code",
   "execution_count": null,
   "metadata": {
    "id": "DeQPtpNaJYCi"
   },
   "outputs": [],
   "source": [
    "B[0:5] = 10\n",
    "\n",
    "B"
   ]
  },
  {
   "cell_type": "code",
   "execution_count": null,
   "metadata": {
    "id": "5YPmSEq1JYCi"
   },
   "outputs": [],
   "source": [
    "A # now A has not changed, because B's data is a copy of A's, not refering to the same data"
   ]
  },
  {
   "cell_type": "markdown",
   "metadata": {
    "id": "MEDFVKJkJYCk"
   },
   "source": [
    "## Stacking and repeating arrays"
   ]
  },
  {
   "cell_type": "markdown",
   "metadata": {
    "id": "kUJskh5CJYCk"
   },
   "source": [
    "Using functions `repeat`, `tile`, `vstack`, `hstack`, and `concatenate` we can create larger vectors and matrices from smaller ones:"
   ]
  },
  {
   "cell_type": "markdown",
   "metadata": {
    "id": "mkrEyNaMJYCk"
   },
   "source": [
    "### tile and repeat"
   ]
  },
  {
   "cell_type": "code",
   "execution_count": null,
   "metadata": {
    "id": "tte8wW_2JYCk"
   },
   "outputs": [],
   "source": [
    "a = np.array([[1, 2], [3, 4]])"
   ]
  },
  {
   "cell_type": "code",
   "execution_count": null,
   "metadata": {
    "id": "BMe2Ju2gJYCk"
   },
   "outputs": [],
   "source": [
    "# repeat each element 3 times\n",
    "np.repeat(a, 3)"
   ]
  },
  {
   "cell_type": "code",
   "execution_count": null,
   "metadata": {
    "id": "iXAU0Ks8JYCl"
   },
   "outputs": [],
   "source": [
    "# tile the matrix 3 times \n",
    "np.tile(a, 3)"
   ]
  },
  {
   "cell_type": "markdown",
   "metadata": {
    "id": "4lnqP01eJYCl"
   },
   "source": [
    "### concatenate"
   ]
  },
  {
   "cell_type": "code",
   "execution_count": null,
   "metadata": {
    "id": "eI7Al0PZJYCl"
   },
   "outputs": [],
   "source": [
    "b = np.array([[5, 6]])"
   ]
  },
  {
   "cell_type": "code",
   "execution_count": null,
   "metadata": {
    "id": "Ik9YNvhZJYCl"
   },
   "outputs": [],
   "source": [
    "np.concatenate((a, b), axis=0)"
   ]
  },
  {
   "cell_type": "code",
   "execution_count": null,
   "metadata": {
    "id": "dBvSm9bJJYCl"
   },
   "outputs": [],
   "source": [
    "np.concatenate((a, b.T), axis=1)"
   ]
  },
  {
   "cell_type": "markdown",
   "metadata": {
    "id": "WvMF6MkDJYCl"
   },
   "source": [
    "### hstack and vstack"
   ]
  },
  {
   "cell_type": "code",
   "execution_count": null,
   "metadata": {
    "id": "xM7bj6A_JYCl"
   },
   "outputs": [],
   "source": [
    "np.vstack((a,b))"
   ]
  },
  {
   "cell_type": "code",
   "execution_count": null,
   "metadata": {
    "id": "2ucJIsfAJYCl"
   },
   "outputs": [],
   "source": [
    "np.hstack((a,b.T))"
   ]
  },
  {
   "cell_type": "markdown",
   "metadata": {
    "id": "_CWXfz5qmPuJ"
   },
   "source": [
    "## Mini-projects"
   ]
  },
  {
   "cell_type": "markdown",
   "metadata": {
    "id": "EPMEcNfWmS0E"
   },
   "source": [
    "### Newton's method"
   ]
  },
  {
   "cell_type": "markdown",
   "metadata": {
    "id": "1i9iHZBNmaPv"
   },
   "source": [
    "This problem has three parts: \n",
    "\n",
    "* Part 1: [Newton's Method](https://en.wikipedia.org/wiki/Newton%27s_method) is a root finding method that uses linear approximation. In particular, we guess a solution $x_0$ of the equation $f(x)= 0$, compute the linear approximation of $f(x)$ at $x_0$ and then find the x-intercept of the linear approximation. The general scheme of Newton's method may be written as: \n",
    "$$ x_{n+1} = x_n - \\dfrac{f(x_n)}{f'(x_n)} $$ for $n=0,1, 2, ...$. The computation is repeated until $f(x_n)$ is close enough to zero. More precisely, we test if $|f(x_n)|< \\epsilon$ , with $\\epsilon$ being a small number. Write a function that returns an approximation of a solution of  $f(x)=0$ by Newton's method. Make sure that your function prints out an array containing the approximations. \n",
    "    \n",
    "* Part 2: Let $f(x)= x^2- 9$. Using the function from Part 1, calculate an approximation for the solution of $f(x)=0$ using $x_0= 1000$ and $\\epsilon= 0.01$\n",
    "    \n",
    "* Part 3: Create a Figure with two subplots, one next to the other. \n",
    "    * First plot: Plot the function $f(x)$ using `x=np.arange(0, 10,1)`. You should label where the solution to $f(x)=0$ is at, i.e. label the point $(3,0)$. Draw a horizontal line at $y =0$, you can use `plt.hlines()`.\n",
    "    * Second plot: Plot the array from Part 2. \n",
    "    \n",
    "    Make sure each graph has a title, labels, and correct limits. "
   ]
  },
  {
   "cell_type": "code",
   "execution_count": null,
   "metadata": {
    "id": "f9JrLY_XmnKP"
   },
   "outputs": [],
   "source": []
  },
  {
   "cell_type": "markdown",
   "metadata": {
    "id": "8DGzSDKNmde4"
   },
   "source": [
    "### Euler's method for solving ordinary differential equation.\n",
    "\n",
    "For a first order ordinary differential equation, \n",
    "$$\\frac{dS(t)}{dt} = F(t, S(t))$$\n",
    "the linear approximation of $S(t)$ around $t_j$ at $t_{j+1}$ is called the *Explicit Euler Formula* :\n",
    "$$ S(t_{j+1})= S(t_j) + hF(t_j, S(t_j))$$\n",
    "where $h = t_{j+1} - t_j$ is a stepsize of the interval $[t_0, t_f]$.\n",
    "Given initial value of $S_0 = S(t_0)$, we can use the formula to integrate the states up to $S(t_f)$. These $S(t)$ values are an approximated solution of the differential equation.\n",
    "\n",
    "Consider the differential equation \n",
    "$$\\frac{df(t)}{dt} = e^{-t} $$ with initial condition $f(0)=−1$.  Approximate the solution to this initial value problem between 0 and 1 in increments of 0.01 using the Euler's method. Plot the approximated solution with the exact solution. Note that the exact solution is $f(t)=-e^{-t}$."
   ]
  },
  {
   "cell_type": "code",
   "execution_count": null,
   "metadata": {
    "id": "RHs_kRqkSX7q"
   },
   "outputs": [],
   "source": []
  },
  {
   "cell_type": "markdown",
   "metadata": {
    "id": "R2dyQT_Am3gh"
   },
   "source": [
    "### Improve your *Numpy Basics* mini-projects"
   ]
  },
  {
   "cell_type": "markdown",
   "metadata": {
    "id": "3KyXFNG-m_uD"
   },
   "source": [
    "Refine/improve your solutions to the Mini-projects at the end of the *Numpy Basics* notebook using things learned in this notebook."
   ]
  },
  {
   "cell_type": "code",
   "execution_count": null,
   "metadata": {
    "id": "4vj9RX7pm-0J"
   },
   "outputs": [],
   "source": []
  }
 ],
 "metadata": {
  "colab": {
   "collapsed_sections": [],
   "name": "Notebook10_Numpy_intermediate.ipynb",
   "provenance": [],
   "toc_visible": true
  },
  "kernelspec": {
   "display_name": "Python 3 (ipykernel)",
   "language": "python",
   "name": "python3"
  },
  "language_info": {
   "codemirror_mode": {
    "name": "ipython",
    "version": 3
   },
   "file_extension": ".py",
   "mimetype": "text/x-python",
   "name": "python",
   "nbconvert_exporter": "python",
   "pygments_lexer": "ipython3",
   "version": "3.11.4"
  }
 },
 "nbformat": 4,
 "nbformat_minor": 4
}
