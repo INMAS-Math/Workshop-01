{
 "cells": [
  {
   "cell_type": "markdown",
   "id": "09fafc10",
   "metadata": {},
   "source": [
    "<img src=\"images/Picture0.png\" width=200x />\n",
    "\n",
    "# Notebook 07 - Elements of Software Engineering\n",
    "In this module you will learn the basics of software engineering and best practices typically used in the industry. While a jupyter notebook is a great tool for interactive scripting, writing tutorials, as well as code prototyping, larger projects are typically characterized by Python modules shared amongst team members. In view of facilitating the integration of the multiple contributors involved in a given project, it is often necessary adopting the following best practices.\n",
    "\n",
    "## Instructions\n",
    "Read the material below and complete the exercises.\n",
    "\n",
    "Material covered in this notebook:\n",
    "\n",
    "- Understanding Coding Standards\n",
    "- The need for documentation\n",
    "- Source Code Management - Version Control and git\n",
    "- Working from the command line of a terminal\n",
    "- Testing your code - the importance of unit testing and regression testing\n",
    "\n",
    "### Pre-requisites\n",
    "Notebooks 01 to 05\n",
    "\n",
    "### Credits\n",
    "Original version by Martin-D. Lacasse @ INMAS\n"
   ]
  },
  {
   "cell_type": "markdown",
   "id": "8dd6a229",
   "metadata": {},
   "source": [
    "\n",
    "## Coding Standards and Documentation\n",
    "As Python is a very flexible language, there are often multiple ways to achieve the same goal. For example, a simple loop can be coded by using an index,\n",
    "\n",
    "```python\n",
    "for i in range(len(x)):\n",
    "```\n",
    "or using an iterator,\n",
    "```python\n",
    "for item in x:\n",
    "```\n",
    "or even with a forever loop such as\n",
    "```python\n",
    "while 1:\n",
    "```\n",
    "with an appropriate `break` condition.\n",
    "\n",
    "### Exercise\n",
    "<div class=\"alert alert-block alert-info\">\n",
    "- It is recommended to use iterators whenever possible. In a few situations, however, iterators can lead to problems. What are these cases?\n",
    "</div>\n",
    "\n",
    "The purpose of this introduction is not to propose a given coding standard, but rather to make you aware that coding standards exist and that you should (1) think about adopting a given style in your own Python scripts and (2) inquire about the existence of such standard in your future assignments. A good place to start is to read the de facto __[guide to Python scripting](https://peps.python.org/pep-0008/)__ (known as PEP 8) from the author of Python himself.\n",
    "\n",
    "### Exercise\n",
    "<div class=\"alert alert-block alert-info\">\n",
    "- Take a few minutes to browse the PEP 8 and discuss the situation when a line break is required for an expression too long to fit on a single line. Should the line break be before or after a binary operator?\n",
    "<br>- What is the recommended line length for Python code? Why?\n",
    "<br>- Discuss your pet peeves if any.\n",
    "</div>\n",
    "\n",
    "Coding standards are intrinsically boring but are a necessary tool in team environments. Fortunately, __[automated tools](https://github.com/life4/awesome-python-code-formatters)__ exist for reformating the code in order to comply with parts of the standard involving where to put spaces (or not). As an example, using `yapf` (yet another Python formatter, from Google) on the following (ugly) code:\n",
    "\n",
    "```python\n",
    "x = {  'a':37,'b':42,\n",
    "\n",
    "'c':927}\n",
    "\n",
    "y = 'hello ''world'\n",
    "z = 'hello '+'world'\n",
    "a = 'hello {}'.format('world')\n",
    "class foo  (     object  ):\n",
    "  def f    (self   ):\n",
    "    return       37*-+2\n",
    "  def g(self, x,y=42):\n",
    "      return y\n",
    "def f  (   a ) :\n",
    "  return      37+-+a[42-x :  y**3]\n",
    "```\n",
    "\n",
    "gets reformated into\n",
    "\n",
    "```python\n",
    "x = {'a': 37, 'b': 42, 'c': 927}\n",
    "\n",
    "y = 'hello ' 'world'\n",
    "z = 'hello ' + 'world'\n",
    "a = 'hello {}'.format('world')\n",
    "\n",
    "\n",
    "class foo(object):\n",
    "    def f(self):\n",
    "        return 37 * -+2\n",
    "\n",
    "    def g(self, x, y=42):\n",
    "        return y\n",
    "\n",
    "\n",
    "def f(a):\n",
    "    return 37 + -+a[42 - x:y**3]\n",
    "```\n",
    "\n",
    "Another unpopular topic is documentation. Prototypical codes are generally poorly documented as the code is in a constant state of change. Python offers mutliple ways by which code can be documented as it gets written, specifically named arguments and doc strings for functions and modules. Make it a habit to use descriptive names for variables and named arguments. The main customer of your code is you: make sure you will be able to understand your own code 6 months after not seeing it.\n",
    "\n",
    "In the following cell, we define a function using doc string."
   ]
  },
  {
   "cell_type": "code",
   "execution_count": null,
   "id": "31639ddd",
   "metadata": {},
   "outputs": [],
   "source": [
    "def double(x):\n",
    "    '''Return twice the number provided in the argument'''\n",
    "    return 2*x"
   ]
  },
  {
   "cell_type": "markdown",
   "id": "0378a5e6",
   "metadata": {},
   "source": [
    "The text gets stored in the variable '\\__doc__' associated with the function."
   ]
  },
  {
   "cell_type": "code",
   "execution_count": null,
   "id": "784b03de",
   "metadata": {},
   "outputs": [],
   "source": [
    "double.__doc__"
   ]
  },
  {
   "cell_type": "markdown",
   "id": "791668a5",
   "metadata": {},
   "source": [
    "Multiple lines can also be used such as in..."
   ]
  },
  {
   "cell_type": "code",
   "execution_count": null,
   "id": "bcfb2991",
   "metadata": {},
   "outputs": [],
   "source": [
    "def add_binary(a, b):\n",
    "    '''\n",
    "    Return a string representing the sum of two decimal numbers in binary digits.\n",
    "\n",
    "            Parameters:\n",
    "                    a (int): A decimal integer\n",
    "                    b (int): Another decimal integer\n",
    "\n",
    "            Returns:\n",
    "                    Binary string of the sum of a and b\n",
    "    '''\n",
    "    binary_sum = bin(a+b)[2:]\n",
    "    return binary_sum"
   ]
  },
  {
   "cell_type": "code",
   "execution_count": null,
   "id": "1a680785",
   "metadata": {},
   "outputs": [],
   "source": [
    "add_binary(1024, 1)"
   ]
  },
  {
   "cell_type": "code",
   "execution_count": null,
   "id": "3d93f903",
   "metadata": {},
   "outputs": [],
   "source": [
    "add_binary.__doc__"
   ]
  },
  {
   "cell_type": "code",
   "execution_count": null,
   "id": "6acaf9b2",
   "metadata": {},
   "outputs": [],
   "source": [
    "print(add_binary.__doc__)"
   ]
  },
  {
   "cell_type": "markdown",
   "id": "5cf95950",
   "metadata": {},
   "source": [
    "## Version Control\n",
    "The Jupyter Notebook allows for checkpoints and the ability to recall previous versions. In team environments, `git` is often the preferred tool for incorporating contributions from the various team members. The basic functionality of `git` is relatively simple to master and might even be useful to you when you start writing your thesis in LaTeX. A good place to start is to read a __[short tutorial](https://git-scm.com/doc)__ on git and install it on your computer. This __[web site](https://git-scm.com/)__ is the main resource for `git` source code management tool. There are also multiple websites (e.g, __[github](https://github.com/)__, __[gitlab](https://about.gitlab.com/)__, ...) that can host your project for free. Industries most often use an internal server for that purpose.\n",
    "\n",
    "### Optional Exercise\n",
    "<div class=\"alert alert-block alert-info\">\n",
    "- Consider installing 'git' on your computer. Download the notebooks using `git download` from a terminal. \n",
    "</div>\n",
    "\n",
    "## Modules, Parameter Files, and Command Line Basics\n",
    "Software reusability can significantly reduce development costs. The main mechanism by which code can be re-used in Python is through modules. In this section we will go beyond the Jupyter notebook and implement a few modules from the command line. To start, open a terminal window using the Anaconda powershell on Windows or the equivalent on macOs or Linux. Let's first see if Python is in your path by running:\n",
    "```\n",
    "python --version\n",
    "```\n",
    "Note that on Windows, a shell started from the Anaconda Navigator will have the PATH variable properly configured. \n",
    "\n",
    "Good! Next let's change to a directory to where you stored the files from the Workshop and where we will write our own modules. If you have never used a command line, the following commands will get you 90% of the work done:\n",
    "- 'pwd' Print working directory\n",
    "- 'cd where' Change directory to 'where'\n",
    "- 'mkdir newdir' Make a new directory called 'newdir'\n",
    "- 'ls' List the files contained in the current directory\n",
    "- 'mv' Move or rename a file\n",
    "\n",
    "A Python script is run as:\n",
    "- 'python main.py'\n",
    "<br>or, if you want to pass arguments to the script\n",
    "- 'python main.py arg1 arg2 ...'\n",
    "\n",
    "Most scripts require (re-)configurable parameters to run. When using single-file Jupyter notebook, these values might end up being hardcoded in the file. For re-usability of the code, it is beneficial to isolate the parameters that will make the algorithm more universally re-usable. There are multiple ways to pass configuration values to a Python script, generally:\n",
    "1. Through a parameter file\n",
    "2. Through command line arguments\n",
    "3. Through a Graphical User Interface\n",
    "\n",
    "Here, we will mainly address 1 and 2 and leave the GUI topic for an advanced exercise.\n",
    "\n",
    "The following simple code reads a parameter file and creates and assigns variables as described in the file."
   ]
  },
  {
   "cell_type": "code",
   "execution_count": null,
   "id": "fe0e210a",
   "metadata": {},
   "outputs": [],
   "source": [
    "def readParameters(filename):\n",
    "    '''Read run-time parameters from a text file'''\n",
    "    file = open(filename, 'r')\n",
    "    for line in file:\n",
    "        variable, value = [word.strip() for word in line.split('=')]\n",
    "        variable.replace(' ', '_')\n",
    "        pythoncode = variable + '=' + value\n",
    "        exec(pythoncode)"
   ]
  },
  {
   "cell_type": "markdown",
   "id": "1cb5fd39",
   "metadata": {},
   "source": [
    "Notice how this function generates new code as it reads the parameter file. This is one of\n",
    "the benefits of Python being a dynamically-typed, interpreted language.\n",
    "\n",
    "### Exercise\n",
    "<div class=\"alert alert-block alert-info\">\n",
    "- Read module Code_07/params.py as an example on how that could be implemented.\n",
    "<br>- Using 'try' and 'except', modify the function above to better handle errors\n",
    "<br>- Print error message on standard error 'stderr'\n",
    "<br>- (Optional) Modify the code to store values in a dictionary with keys (test your code with file \"parameters.txt\" provided to you)\n",
    "</div>"
   ]
  },
  {
   "cell_type": "code",
   "execution_count": null,
   "id": "c6766d5a",
   "metadata": {},
   "outputs": [],
   "source": []
  },
  {
   "cell_type": "code",
   "execution_count": null,
   "id": "69dfcac2",
   "metadata": {},
   "outputs": [],
   "source": []
  },
  {
   "cell_type": "markdown",
   "id": "1eea6042",
   "metadata": {},
   "source": [
    "\n",
    "### Putting it all together\n",
    "We will now run the following script from a command line. For that purpose, we provide you with a file called *main_1.py* located in the *Code_07* directory. This file looks as follows:\n",
    "```python\n",
    "#!/usr/bin/env python3\n",
    "'''\n",
    "A prototypical main file demonstrating how to read parameters from a file\n",
    "Martin-D. Lacasse, JHU 2022\n",
    "'''\n",
    "\n",
    "import sys\n",
    "import params\n",
    "\n",
    "# Print Usage\n",
    "def printHelp(name):\n",
    "   print(\"Usage: \", name, \"filename.par\")\n",
    "   sys.exit(1)\n",
    "     \n",
    "def run():\n",
    "   try:\n",
    "      filename = sys.argv[1]\n",
    "   except:\n",
    "      printHelp(sys.argv[0])\n",
    "    \n",
    "   myDico = params.readParameters(filename)\n",
    "   params.printParameters(myDico)                                                                                                                                                                                                                    #####################################################################\n",
    "# This is the main program\n",
    "if __name__ == '__main__':\n",
    "    run()\n",
    "else:\n",
    "    print('Error: Can't import main script as a module.', repr(__name__))      \n",
    "```\n",
    "Notice how the functions definition is separated from the main part of the program, and how this code cannot be imported as a module. This practive will force you to modularize your code and design an architecture that can be more easily understood and maintained.\n",
    "\n",
    "By going to the file tab of Jupyter, navigate to the *Code_07* directory and open the `main1.py` file in a separate tab. Then the file can be edited in plain, vi, or emacs mode, depending on your preferred code editor. Also look at the file `params.py` which is imported here.\n",
    "\n",
    "We can now run this main file from Jupyter using the *bang* (!) operator as in the following command:\n"
   ]
  },
  {
   "cell_type": "code",
   "execution_count": null,
   "id": "70c2131a",
   "metadata": {},
   "outputs": [],
   "source": [
    "!python Code_07/main_1.py Code_07/parameters.txt"
   ]
  },
  {
   "cell_type": "markdown",
   "id": "5e40e9d8",
   "metadata": {},
   "source": [
    "Or one can also run it from a terminal by using\n",
    "```shell\n",
    "python main_1.py parameters.txt\n",
    "```\n",
    "from the Code_07 directory.\n",
    "\n",
    "<div class=\"alert alert-block alert-warning\">\n",
    "- (Advanced) On Linux and macOs, the script can be run directly in a terminal using the script name `./main_2.py parameters.py'. Depending on the security configuration on your Windows computer, the ability to run Python scripts directly in a terminal can be disallowed unless changes are made to the registry.\n",
    "</div>\n",
    "\n",
    "### Arguments passed on the command line\n",
    "Another way to pass parameters is through command-line arguments. This is typically achieved using the getopt() function from the C standard library made available through the *getopt* module in Python. The following file `main_2.py` shows a typical usage of the `getopt()` function.\n",
    "\n",
    "```python\n",
    "#!/usr/bin/env python3\n",
    "\n",
    "# A prototypical main file with parameters from command line arguments\n",
    "# Martin-D. Lacasse, JHU 2022\n",
    "\n",
    "import sys\n",
    "import getopt\n",
    "import params\n",
    "\n",
    "# Print Usage\n",
    "def printHelp(name):\n",
    "    print(\"Usage: \", name, \"-[h] [-a a_param] [-b b_param] [-c c_param] [-s _sourceCode] [-d DesiredOutcom] -f [file]\")\n",
    "    sys.exit(1)\n",
    "\n",
    "# Parse options from command line\n",
    "def processCommandLineArgs(argv):\n",
    "    progName = argv[0]\n",
    "    argList =  argv[1:]\n",
    "    # Default values\n",
    "    a, b, c, sourceCode, desiredOutcome = 0, 0, 0, 'none', 'failure'\n",
    "\n",
    "    # Options\n",
    "    options = \"ha:b:c:s:d:\"\n",
    "\n",
    "    # Long options for parameters\n",
    "    longOptions = [\"help\", \"a=\", \"b=\", \"c==\", \"d=\", \"s=\"]\n",
    "\n",
    "    try:\n",
    "        # Parsing arguments\n",
    "        opts, vals = getopt.getopt(argList, options, longOptions)\n",
    "\n",
    "        # Checking each argument\n",
    "        for opt, val in opts:\n",
    "            if opt in (\"-h\", \"--help\"):\n",
    "                printHelp(progName)\n",
    "            elif opt in (\"-a\", \"--a\"):\n",
    "                a = int(val)\n",
    "            elif opt in (\"-b\", \"--b\"):\n",
    "                b = int(val)\n",
    "            elif opt in (\"-c\", \"--c\"):\n",
    "                c = int(val)\n",
    "            elif opt in (\"-s\", \"--sourceCode\"):\n",
    "                sourceCode = val\n",
    "            elif opt in (\"-d\", \"--desiredOutcome\"):\n",
    "                desiredOutcome = val\n",
    "\n",
    "    except getopt.error as err:\n",
    "            print(str(err))\n",
    "            printHelp(progName)\n",
    "            sys.exit(2)\n",
    "\n",
    "    # print(\"Opt is\", opt)\n",
    "    # print(\"Val is\", val)\n",
    "    return a, b, c, sourceCode, desiredOutcome\n",
    "\n",
    "def run():\n",
    "    a, b, c, sourceCode, desiredOutcome = processCommandLineArgs(sys.argv)\n",
    "    print('Arguments are:', 'a=', a, 'b=', b, 'c=', c, 'sourceCode=', sourceCode, 'desiredOutcom=', desiredOutcome)\n",
    "\n",
    "\n",
    "#####################################################################\n",
    "# This is the main program\n",
    "if __name__ == \"__main__\":\n",
    "    run()\n",
    "else:\n",
    "    print(\"Error: Can't import main script as a module.\", repr(__name__))\n",
    "```\n",
    "This script will read parameters from the command line and override the default values defined when the variables are first initialized. Notice how the strings provided through the command line need to be converted to int.\n",
    "\n",
    "### Exercise\n",
    "<div class=\"alert alert-block alert-info\">\n",
    "- Run the script through the following cell. \n",
    "<br>- Try different values, different parameters in both the long and short forms.\n",
    "<br>- Try entering a parameter that does not exist, e.g, `-z`.\n",
    "</div>\n"
   ]
  },
  {
   "cell_type": "code",
   "execution_count": null,
   "id": "1864ab33",
   "metadata": {},
   "outputs": [],
   "source": [
    "!python Code_07/main_2.py -a 2 -b 3"
   ]
  },
  {
   "cell_type": "markdown",
   "id": "78e88480",
   "metadata": {},
   "source": [
    "Script `main_2.py` is a good starting point to read parameters from the command line. However, it has many deficiencies: The code is not re-usable as all default parameters are hard-coded in the function, including their names. This is definitely a handicap compared to the dictionary approach used in main_1.py. Also, parameters are mixed types, limiting re-usability. Let's fix this.\n",
    "\n",
    "### Optional Exercise\n",
    "<div class=\"alert alert-block alert-info\">\n",
    "- Duplicate `main_2.py` as `main_3.py` and modify the file to use a dictionary to parse and store parameters. Use your favorite editor and use the same trick to generate code as in the first params module. Create a new module called `params2.py` that will contain your new function and make it re-usable.\n",
    "<br>- Incorporating the original function from first 'params.py', implement functionality of reading from either a parameter file and/or command line arguments. Which mode should have precedence? Should a parameter override warning be given to the user?\n",
    "</div>\n",
    "\n",
    "### Optional Exercise\n",
    "<div class=\"alert alert-block alert-info\">    \n",
    "- Include a way to distinguish between optional and required parameters (Hint: use a reserved default value, e.g. `undef`, for required parameters).\n",
    "<br>- Allow for comments in the parameter file by detecting and ignoring lines with a leading '#' character.\n",
    "<br>- Implement the capability of recursively including other files using the '@include' keyword. Should you test for circular inclusions through a call depth counter?\n",
    "</div>\n",
    "\n",
    "Modularisation is an important method which reduces the size of your code. Always remember that a line of code is a liability more than being an asset: less is always better. Every time you do a cut and paste should raise a red flag in your mind for a missed opportunity for a function or a module."
   ]
  },
  {
   "cell_type": "markdown",
   "id": "509187f8",
   "metadata": {},
   "source": [
    "## Unit and Regression Testing\n",
    "Once we develop our own modules, it is important to define tests that verify the conditions of use of our new algorithms. In most team environments, contributors are asked to run all tests before pushing their changes to the common code repository. As an additional incentive, source code management tools (subversion, git, etc.) have a 'blame' functionality for assigning the responsibility of a broken code to the individual who made the faulty changes. The action to test a function in isolation is called __unit testing__ while the action of testing the ensemble, i.e., how the functions interact with one another, is called __regression testing__. Let's look at our newly created module to read parameters as an example.\n",
    "\n",
    "A robust parameter reader should detect\n",
    "- duplicate entries\n",
    "- missing or poorly formatted assignments\n",
    "- lines starting with a '#' and treat them as comments\n",
    "\n",
    "We will now introduce the common approach to write unit tests in Python. These tests are themselves boolean functions starting with the 'test_' keyword and typically living in a separate file located in the same directory as your module. In the interest of time, we will use simple numerical examples to illustrate how to proceed. Before we start, however, we need to discuss an important point about float comparison. Let's start with a case where it works: Say that we have the following function which normalizes a 3D vector that we represent as a tuple. (This function is already available in numpy and is only used as a short representative example here)."
   ]
  },
  {
   "cell_type": "code",
   "execution_count": null,
   "id": "05f942db",
   "metadata": {},
   "outputs": [],
   "source": [
    "def normalize(v):\n",
    "    from math import sqrt\n",
    "    norm = sqrt(v[0]*v[0] + v[1]*v[1] + v[2]*v[2])\n",
    "    if norm == 0.:\n",
    "        v = (0., 0., 0.)\n",
    "    else:\n",
    "        v = (v[0]/norm, v[1]/norm, v[2]/norm)\n",
    "    return v"
   ]
  },
  {
   "cell_type": "markdown",
   "id": "c03daeba",
   "metadata": {},
   "source": [
    "Writing this function raises a few questions:\n",
    "1. Should the vector be normalized in-place or should a new tuple be created (libraries typically implement both approaches and use past participle to distinguish between the two, e.g., 'normalize()' vs. 'normalized()'\n",
    "2. A zero vector should be detected to avoid division by zero.\n",
    "\n",
    "To answer the second question, we use a comparison involving floating numbers. We can get away with this comparison here, but in most other cases, we must use something more sophisticated. For that purpose, the concept of machine epsilon is necessary: this is the floating number which added to unity will return unity due to numerical inaccuraries. Running the following code will give an estimate of the value of machine epsilon on your system. "
   ]
  },
  {
   "cell_type": "code",
   "execution_count": null,
   "id": "8366f60b",
   "metadata": {},
   "outputs": [],
   "source": [
    "eps = 1.0\n",
    "while 1 + eps > 1:\n",
    "    eps /= 2\n",
    "eps *= 2\n",
    "\n",
    "print('Your machine epsilon is: ', eps)"
   ]
  },
  {
   "cell_type": "markdown",
   "id": "edeb51a6",
   "metadata": {},
   "source": [
    "Because the numerator in the `normalize()` function decreases at a similar rate as the denominator, we only have a 'division by zero' problem when the vector is truely 0. Let's prove our case by trying to make our function to fail: "
   ]
  },
  {
   "cell_type": "code",
   "execution_count": null,
   "id": "1d9f1ae1",
   "metadata": {},
   "outputs": [],
   "source": [
    "normalize([eps, 0, 0])"
   ]
  },
  {
   "cell_type": "code",
   "execution_count": null,
   "id": "4110ed5c",
   "metadata": {},
   "outputs": [],
   "source": [
    "normalize( (1.e-30, 1.e-21, 1.e-32) )"
   ]
  },
  {
   "cell_type": "code",
   "execution_count": null,
   "id": "01ea6053",
   "metadata": {},
   "outputs": [],
   "source": [
    "normalize((0., 0., 0.))"
   ]
  },
  {
   "cell_type": "markdown",
   "id": "c2c2ab0e",
   "metadata": {},
   "source": [
    "Great! A simple comparison with 0 seems to work. Let's now consider this simple equality (please run):"
   ]
  },
  {
   "cell_type": "code",
   "execution_count": null,
   "id": "9471af23",
   "metadata": {},
   "outputs": [],
   "source": [
    "a = 0.1\n",
    "b = 0.2\n",
    "c = 0.3\n",
    "a + b == c"
   ]
  },
  {
   "cell_type": "markdown",
   "id": "536fcd94",
   "metadata": {},
   "source": [
    "Surprised? This comparison involves floating point numbers which representation is only valid down to an epsilon. A better way to test is as follows: "
   ]
  },
  {
   "cell_type": "code",
   "execution_count": null,
   "id": "6813ab05",
   "metadata": {},
   "outputs": [],
   "source": [
    "abs((a + b) - c) < abs(c)*eps"
   ]
  },
  {
   "cell_type": "markdown",
   "id": "bfe417c7",
   "metadata": {},
   "source": [
    "Notice how we normalize on the right hand side as we want to make all comparisons relative to unity, as epsilon is defined with respect to 1. We are now ready to write our first unit test. In the interest of time, we will write these tests to verify existing functions. Say that you just wrote a faster trigonometric library. Let's write our first test. \n",
    "\n",
    "### Exercise\n",
    "Run and see if you need to fix a few things..."
   ]
  },
  {
   "cell_type": "code",
   "execution_count": null,
   "id": "c32a3b93",
   "metadata": {},
   "outputs": [],
   "source": [
    "import math\n",
    "def mycos(x):\n",
    "    '''Placeholder to define my own cosine function'''\n",
    "    return math.cos(x)\n",
    "\n",
    "def test_mycos1():\n",
    "    '''Test mycos() with respect to inverse function over float range'''\n",
    "    import random\n",
    "    i = 0\n",
    "    while (i < 10000):\n",
    "        i += 1\n",
    "        x = 2*random.random() - 1.\n",
    "        assert(mycos(math.acos(x)) == x)\n",
    "        \n",
    "test_mycos1()"
   ]
  },
  {
   "cell_type": "markdown",
   "id": "2198a360",
   "metadata": {},
   "source": [
    "Congratulations on your first test! These test functions would typically reside in a module called, say, test_mytrig if your library was mytrig. Once written, these tests can be automated and run before each time you commit new code to make sure that your new shiny features have not broken anything in the existing software framework. Automation can be implemented with various tools, including the `unittest` library, but these topics are beyond the scope of this introductory tutorial. These libraries also have the benefit to provide broader comparison functions such as `assertEqual()` which detect the type of object (float, vs boolean, integer, tuple, dicts, etc.) and behave accordingly.\n",
    "\n",
    "Testing is an important part of software development. It is generally thought of as a way to discover and prevent bugs. Another interesting approach of testing is design through testing, unlike the typical waterfall method, which consists of designing sofware to meet some pre-defined capabilitities and implementing it. __[Test-driven development](https://en.wikipedia.org/wiki/Test-driven_development)__ can be a great way to accelerate your project.\n",
    "\n",
    "Given our time constraints, we will need jump to our next topic: debugging. At this point however, you should remember that:\n",
    "- Coding standards do exist and you should inquire about best practices\n",
    "- Teams use source code management tools such as `git` that can also be benificial to you in your PhD work\n",
    "- Code is a liability more than an asset. Never cut and paste - use functions\n",
    "- Modules are a great way to achieve re-usability. A long self-contained notebook is more appropriate for completing an assignment. Multiple modular files are better suited for devising, testing, and managing a scalable project.\n",
    "- Drop the mouse for a sec! A little knowledge of command line functions can get you a long way. \n",
    "- Software development in teams is often governed by established software design approaches and human engineering methods.\n",
    "- Test your software. These tests can also help you design your code.\n",
    "- Take the habit of documenting your code: You'll be the first one to thank you."
   ]
  }
 ],
 "metadata": {
  "kernelspec": {
   "display_name": "Python 3 (ipykernel)",
   "language": "python",
   "name": "python3"
  },
  "language_info": {
   "codemirror_mode": {
    "name": "ipython",
    "version": 3
   },
   "file_extension": ".py",
   "mimetype": "text/x-python",
   "name": "python",
   "nbconvert_exporter": "python",
   "pygments_lexer": "ipython3",
   "version": "3.11.4"
  }
 },
 "nbformat": 4,
 "nbformat_minor": 5
}
