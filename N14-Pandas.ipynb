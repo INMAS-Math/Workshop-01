{
 "cells": [
  {
   "cell_type": "markdown",
   "id": "355498ee",
   "metadata": {
    "id": "08d3a007"
   },
   "source": [
    "<img src=\"images/Picture0.png\" width=200x />\n",
    "\n",
    "# Notebook 14 - Pandas\n",
    "\n",
    "## Instructions\n",
    "\n",
    "Pandas is a Python package which offers data structures and operations for manipulating numerical tables and time series. The term pandas is derived from \"panel data,\" an econometrics term describing a particular type of dataset.\n",
    "\n",
    "In this notebook, you will learn to:\n",
    "\n",
    "### Credits\n"
   ]
  },
  {
   "cell_type": "code",
   "execution_count": null,
   "id": "ce0043e7",
   "metadata": {
    "id": "a7f0d1c3"
   },
   "outputs": [],
   "source": [
    "import pandas as pd"
   ]
  },
  {
   "cell_type": "markdown",
   "id": "560d6f23",
   "metadata": {
    "id": "60530b22"
   },
   "source": [
    "## Importing data\n",
    "\n",
    "The primary way you'll likely use `pandas` is explore and manipulate data in tables, often data you did not create. Pandas can read in data from a variety of formats. A common data format is .csv, which stands for \"comma separated values\". Data can also be imported from .json files, Excel files, SQL files, and more!"
   ]
  },
  {
   "cell_type": "code",
   "execution_count": null,
   "id": "b8a4891c",
   "metadata": {
    "id": "5103240f"
   },
   "outputs": [],
   "source": [
    "file = \"data/cereal.csv\" #this finds the file in the \"data\" folder (assuming \"data\" is in the same folder as your notebook)\n",
    "cereal_df = pd.read_csv(file)"
   ]
  },
  {
   "cell_type": "markdown",
   "id": "5fcd43e7",
   "metadata": {
    "id": "ff42edde"
   },
   "source": [
    "Uh, oh... What went wrong? Open the file in a text editor and take a look at it. On this page, you can go to File > Open... to go back to Dashboard view, then click on the file to open it in Jupyter's text editor.\n",
    "\n",
    "At the very end of the error message, it tells us we experienced a `ParserError`. It says \"`Expected 1 fields in line 30, saw 3`\". Can you see what the issue is?\n",
    "\n",
    "To fix the issue, you'll need to change the value of the parameter `sep` when calling `pd.read_csv()`."
   ]
  },
  {
   "cell_type": "markdown",
   "id": "ecb91081",
   "metadata": {
    "id": "7b2d1771"
   },
   "source": [
    "### Exercise\n",
    "\n",
    "Fix the data import."
   ]
  },
  {
   "cell_type": "code",
   "execution_count": null,
   "id": "bbf65a14",
   "metadata": {
    "id": "b32dc656",
    "scrolled": true
   },
   "outputs": [],
   "source": []
  },
  {
   "cell_type": "markdown",
   "id": "4715c188",
   "metadata": {
    "id": "6da339e2"
   },
   "source": [
    "### Exercise\n",
    "\n",
    "Here are a few commands you can use to get information about your database. Try them out on ```cereal_df```.\n",
    "\n",
    "* ```.head()```\n",
    "* ```.tail()```\n",
    "* ```.info()```\n",
    "* ```.shape```\n",
    "* ```.describe()```\n",
    "\n",
    "Tip: Don't wrap the call in a print statement for a nicer output. Eg. use ```cereal_df.head()``` rather than ```print(cereal_df.head())```."
   ]
  },
  {
   "cell_type": "code",
   "execution_count": null,
   "id": "fd59e7c7",
   "metadata": {
    "id": "bbb4a700"
   },
   "outputs": [],
   "source": []
  },
  {
   "cell_type": "markdown",
   "id": "d0d9d946",
   "metadata": {
    "id": "cafc6e78"
   },
   "source": [
    "## Cleaning data\n",
    "\n",
    "Often, there will be issues with your data that needs to be fixed before it can be used. `Pandas` offers many tools to help."
   ]
  },
  {
   "cell_type": "markdown",
   "id": "4724c144",
   "metadata": {
    "id": "a01f1c59"
   },
   "source": [
    "### Exercise\n",
    "\n",
    "Did you notice the first row in the in the table? Look up how to skip rows when using ```.read_csv()``` and reload the dataset. Be sure not to remove the column names."
   ]
  },
  {
   "cell_type": "code",
   "execution_count": null,
   "id": "df4d766f",
   "metadata": {
    "id": "e4d74a12"
   },
   "outputs": [],
   "source": []
  },
  {
   "cell_type": "markdown",
   "id": "d0340796",
   "metadata": {
    "id": "16cd1a34"
   },
   "source": [
    "#### Missing data\n",
    "\n",
    "Look at `cereal_df.info()` again. It indicates that we have missing data in two categories.\n",
    "\n",
    "The first is `'mfr'`, the manufacturer. Let's replace any missing values with `'U'` for \"unknown\"."
   ]
  },
  {
   "cell_type": "code",
   "execution_count": null,
   "id": "719329e5",
   "metadata": {
    "id": "22409e2c",
    "scrolled": true
   },
   "outputs": [],
   "source": [
    "cereal_df = cereal_df.fillna({'mfr': 'U'})\n",
    "cereal_df.info()"
   ]
  },
  {
   "cell_type": "markdown",
   "id": "813c6291",
   "metadata": {
    "id": "c983a44e"
   },
   "source": [
    "### Exercise\n",
    "\n",
    "For the column `'rating'`, there's not an obvious choice for replacing the missing values. Instead, let's drop those entries. You'll need to look up how to do this."
   ]
  },
  {
   "cell_type": "code",
   "execution_count": null,
   "id": "bb24e1b3",
   "metadata": {
    "id": "f59c55a7",
    "scrolled": false
   },
   "outputs": [],
   "source": []
  },
  {
   "cell_type": "markdown",
   "id": "f693ab03",
   "metadata": {
    "id": "57b4e0c4"
   },
   "source": [
    "## A note about in-place operations\n",
    "\n",
    "The methods `.fillna()` and `.dropna()` have a boolean parameter `inplace`.\n",
    "\n",
    "In fact, pandas has many operations that can be performed \"in-place\". This means that calling the function directly alters the existing object and that the function does not return anything. In contrast, \"normal\" operations make a copy of the object, alter that object, and then return the altered object. \n",
    "\n",
    "This is an important distinction. We'll illustrate it by calling a function to drop a column from our dataframe."
   ]
  },
  {
   "cell_type": "code",
   "execution_count": null,
   "id": "ccc3ba51",
   "metadata": {
    "id": "57440cd5"
   },
   "outputs": [],
   "source": [
    "#let's make a copy of our dataframe so we don't mess up what we have currently\n",
    "cereal_copy = cereal_df.copy()"
   ]
  },
  {
   "cell_type": "code",
   "execution_count": null,
   "id": "3089bd3a",
   "metadata": {
    "id": "189084bf"
   },
   "outputs": [],
   "source": [
    "cereal_copy.drop([\"weight\"], axis = 1, inplace = False)\n",
    "cereal_copy.head()"
   ]
  },
  {
   "cell_type": "markdown",
   "id": "fbb0de33",
   "metadata": {
    "id": "e56b0ccb"
   },
   "source": [
    "Notice that ```cereal_copy``` still has the column ```weight```. This is because the function did not alter the dataframe directly. We need to assign the result of the function to some variable."
   ]
  },
  {
   "cell_type": "code",
   "execution_count": null,
   "id": "e4c6b394",
   "metadata": {
    "id": "b66d4dc8"
   },
   "outputs": [],
   "source": [
    "cereal_copy_altered = cereal_copy.drop([\"weight\"], axis = 1, inplace = False)\n",
    "cereal_copy_altered.head()"
   ]
  },
  {
   "cell_type": "markdown",
   "id": "12f6b045",
   "metadata": {
    "id": "33dbaa29"
   },
   "source": [
    "Now contrast this with the in-place version of the function."
   ]
  },
  {
   "cell_type": "code",
   "execution_count": null,
   "id": "be411971",
   "metadata": {
    "id": "c7d09360"
   },
   "outputs": [],
   "source": [
    "cereal_copy.drop([\"shelf\"], axis = 1, inplace = True)\n",
    "cereal_copy.head()"
   ]
  },
  {
   "cell_type": "markdown",
   "id": "cf59b18a",
   "metadata": {
    "id": "3a3ffa36"
   },
   "source": [
    "The in-place function directly updated ```cereal_copy```. \n",
    "\n",
    "*This is a great way to save memory, especially when dealing with large databases, however it can make it easier for mistakes to go unnoticed (if you forget to add ```inplace = True``` for example).*\n",
    "\n",
    "Finally, observe what happens if you try to assign the output of an in-place operation to a variable."
   ]
  },
  {
   "cell_type": "code",
   "execution_count": null,
   "id": "01895b15",
   "metadata": {
    "id": "14539973"
   },
   "outputs": [],
   "source": [
    "cereal_copy = cereal_df.drop([\"cups\"], axis = 1, inplace = True)\n",
    "cereal_copy.head()"
   ]
  },
  {
   "cell_type": "markdown",
   "id": "4f65334d",
   "metadata": {
    "id": "83fdf05e"
   },
   "source": [
    "Do you understand what went wrong?"
   ]
  },
  {
   "cell_type": "code",
   "execution_count": null,
   "id": "ca5ad1c2",
   "metadata": {
    "id": "0e3d4318"
   },
   "outputs": [],
   "source": []
  },
  {
   "cell_type": "markdown",
   "id": "cfc7051e",
   "metadata": {
    "id": "5db75948"
   },
   "source": [
    "## More data cleaning\n",
    "\n",
    "Let's replace the letters in the `mfr` column with the actual names of the brands."
   ]
  },
  {
   "cell_type": "code",
   "execution_count": null,
   "id": "6c522985",
   "metadata": {
    "id": "fb41dfe5",
    "scrolled": true
   },
   "outputs": [],
   "source": [
    "cereal_df.replace({\"mfr\":\"K\"}, \"Kelloggs\", inplace = True)\n",
    "cereal_df.head()"
   ]
  },
  {
   "cell_type": "markdown",
   "id": "6d840fd8",
   "metadata": {
    "id": "edf1b135"
   },
   "source": [
    "There are several allowed input formats to `.replace()`."
   ]
  },
  {
   "cell_type": "code",
   "execution_count": null,
   "id": "ea3251ce",
   "metadata": {
    "id": "ab7acb28"
   },
   "outputs": [],
   "source": [
    "cereal_df = cereal_df.replace({\"mfr\" : {\"R\" : \"Raiston\"}})\n",
    "cereal_df.head()"
   ]
  },
  {
   "cell_type": "markdown",
   "id": "6ffc021a",
   "metadata": {
    "id": "cb7a3f45"
   },
   "source": [
    "### Exercise\n",
    "\n",
    "Finish replacing the values in the `mfr` column with the following values:\n",
    "\n",
    "* `'U'` --> `'Unknown'`\n",
    "* `'N'` --> `'Nabisco'`\n",
    "* `'R'` --> `'Raiston'`\n",
    "* `'G'` --> `'General Mills'`\n",
    "* `'P'` --> `'Post'`\n",
    "* `'A'` --> `'American Home Products'`\n",
    "\n",
    "Hint: You can use `cereal_df.replace({\"mfr\" : {\"K\" : \"Kelloggs\", \"Q\" : \"Quaker\"}})` to replace multiple values at once."
   ]
  },
  {
   "cell_type": "code",
   "execution_count": null,
   "id": "c02cb991",
   "metadata": {
    "id": "d9d0569c"
   },
   "outputs": [],
   "source": []
  },
  {
   "cell_type": "markdown",
   "id": "35112c5e",
   "metadata": {
    "id": "eff3452b"
   },
   "source": [
    "Finally, let's update some of the column names to include measurement units."
   ]
  },
  {
   "cell_type": "code",
   "execution_count": null,
   "id": "f0d714e8",
   "metadata": {
    "id": "5c052586"
   },
   "outputs": [],
   "source": [
    "cereal_copy.rename(columns={\"protein\": \"protein (g)\", \"sodium\": \"sodium (mg)\"}, inplace = True)\n",
    "cereal_copy.head()"
   ]
  },
  {
   "cell_type": "markdown",
   "id": "cfe6e843",
   "metadata": {
    "id": "07d6af24"
   },
   "source": [
    "### Exercise\n",
    "\n",
    "Update `'fat'` to `'fat (g)'` and `'potass'` to `'potass (mg)'`."
   ]
  },
  {
   "cell_type": "code",
   "execution_count": null,
   "id": "c256a1e1",
   "metadata": {
    "id": "af533578"
   },
   "outputs": [],
   "source": []
  },
  {
   "cell_type": "markdown",
   "id": "03f5cb97",
   "metadata": {
    "id": "80835c91"
   },
   "source": [
    "### Extracting rows and columns"
   ]
  },
  {
   "cell_type": "markdown",
   "id": "bbe20c1f",
   "metadata": {
    "id": "8d2ba316"
   },
   "source": [
    "Extracting columns from a dataframe is quite easy."
   ]
  },
  {
   "cell_type": "code",
   "execution_count": null,
   "id": "446a5c4b",
   "metadata": {
    "id": "a81b6eb1",
    "scrolled": true
   },
   "outputs": [],
   "source": [
    "fiber = cereal_df[\"fiber\"]\n",
    "print(fiber)"
   ]
  },
  {
   "cell_type": "markdown",
   "id": "81b53714",
   "metadata": {
    "id": "aed9443b"
   },
   "source": [
    "We can easily convert a column to a Numpy array for use with Numpy and any other packages that utilize Numpy arrays."
   ]
  },
  {
   "cell_type": "code",
   "execution_count": null,
   "id": "ae3e0343",
   "metadata": {
    "id": "7260556c",
    "scrolled": true
   },
   "outputs": [],
   "source": [
    "import numpy as np\n",
    "import matplotlib.pyplot as plt"
   ]
  },
  {
   "cell_type": "code",
   "execution_count": null,
   "id": "65d161ab",
   "metadata": {
    "id": "9d01d3bb",
    "scrolled": true
   },
   "outputs": [],
   "source": [
    "fiber_array = fiber.to_numpy()\n",
    "print(fiber_array)"
   ]
  },
  {
   "cell_type": "code",
   "execution_count": null,
   "id": "ed1981fd",
   "metadata": {
    "id": "86eb423a",
    "scrolled": false
   },
   "outputs": [],
   "source": [
    "plt.hist(fiber_array);"
   ]
  },
  {
   "cell_type": "markdown",
   "id": "25b9e159",
   "metadata": {
    "id": "196c9353"
   },
   "source": [
    "Some functions already have built-in pandas functionality, but converting to a numpy array is a safer option."
   ]
  },
  {
   "cell_type": "code",
   "execution_count": null,
   "id": "f6762666",
   "metadata": {
    "id": "62fbd3db"
   },
   "outputs": [],
   "source": [
    "plt.hist(fiber);"
   ]
  },
  {
   "cell_type": "markdown",
   "id": "1c4d8159",
   "metadata": {
    "id": "ae1a2d0b"
   },
   "source": [
    "We can extract a row using its index."
   ]
  },
  {
   "cell_type": "code",
   "execution_count": null,
   "id": "10672b4f",
   "metadata": {
    "id": "119cf576"
   },
   "outputs": [],
   "source": [
    "row_3 = cereal_df.loc[2] #2 is the index of the row we want to extract\n",
    "print(row_3)"
   ]
  },
  {
   "cell_type": "markdown",
   "id": "4a7300bf",
   "metadata": {
    "id": "21413ef2"
   },
   "source": [
    "### Sort and filter\n",
    "\n",
    "Here are some ways we can reorganize our dataframe."
   ]
  },
  {
   "cell_type": "code",
   "execution_count": null,
   "id": "6c4dcf7f",
   "metadata": {
    "id": "34b1ac0b"
   },
   "outputs": [],
   "source": [
    "cereal_df.sort_values(by=[\"rating\"], ascending = False, inplace = True)\n",
    "cereal_df.head(10)"
   ]
  },
  {
   "cell_type": "markdown",
   "id": "f0e40e22",
   "metadata": {
    "id": "5e1f2c45"
   },
   "source": [
    "To filter, we can create a \"mask\", an array of the same size as our object, with entries `True` or `False` depending on whether a certain condition is met."
   ]
  },
  {
   "cell_type": "code",
   "execution_count": null,
   "id": "f86f567f",
   "metadata": {
    "id": "5eac4af9"
   },
   "outputs": [],
   "source": [
    "mask = (cereal_df[\"sodium\"] > 100)\n",
    "mask"
   ]
  },
  {
   "cell_type": "markdown",
   "id": "3ba64faf",
   "metadata": {
    "id": "152f5d66"
   },
   "source": [
    "Then we can use the mask to filter the dataframe."
   ]
  },
  {
   "cell_type": "code",
   "execution_count": null,
   "id": "8659f198",
   "metadata": {
    "id": "5b3a0ef8",
    "scrolled": true
   },
   "outputs": [],
   "source": [
    "cereal_high_sodium = cereal_df[mask]\n",
    "cereal_high_sodium.head()"
   ]
  },
  {
   "cell_type": "markdown",
   "id": "649c4ab1",
   "metadata": {
    "id": "7d5f45d2"
   },
   "source": [
    "### Exercise\n",
    "\n",
    "Create a new dataframe from `cereal_df` containing only entries with `'mfr'` equal to `'Kelloggs'`."
   ]
  },
  {
   "cell_type": "code",
   "execution_count": null,
   "id": "1f7f6486",
   "metadata": {
    "id": "11aacbf0"
   },
   "outputs": [],
   "source": []
  },
  {
   "cell_type": "markdown",
   "id": "8bb372a2",
   "metadata": {
    "id": "732e1b36"
   },
   "source": [
    "<hr>\n",
    "<font face=\"verdana\" style=\"font-size:30px\" color=\"blue\">---------- Optional Advanced Material ----------</font>\n",
    "\n",
    "We've barely scratched the surface of pandas's functionality. If there's something you want to do with your dataframe, there is probably a pandas function to help. Here are a few additional common functions you can explore if you have the time:\n",
    "* `pd.DataFrame.apply()` (you can call this function by adding `.apply()` to the end of a `DataFrame`, as we did in many of the cells above)\n",
    "* `pd.DataFrame.corr()`\n",
    "* `pd.DataFrame.query()`\n",
    "* `pd.DataFrame.sample()`"
   ]
  },
  {
   "cell_type": "markdown",
   "id": "a755f906",
   "metadata": {},
   "source": [
    "## Additional Exercise 1\n",
    "\n",
    "Can you make a separate dataframe with only the highest rated cereal from each mfr group? (Hint: You would want to use ```pd.DataFrame.groupby()```.)"
   ]
  },
  {
   "cell_type": "code",
   "execution_count": null,
   "id": "58a66150",
   "metadata": {},
   "outputs": [],
   "source": []
  },
  {
   "cell_type": "markdown",
   "id": "389e48c7",
   "metadata": {},
   "source": [
    "## Additional Exercise 2\n",
    "\n",
    "Can you calculate the absolute difference between the rating of each cereal and that of the highest rated cereal from each mfr group? Call the column with the absolute difference, 'diff'. (Hint: You would want to use ```pd.DataFrame.merge()```.)"
   ]
  },
  {
   "cell_type": "code",
   "execution_count": null,
   "id": "29593801",
   "metadata": {},
   "outputs": [],
   "source": []
  },
  {
   "cell_type": "markdown",
   "id": "c350b516",
   "metadata": {},
   "source": [
    "## Additional Exercise 3\n",
    "\n",
    "Make a list out of CAPITALIZED column names for the cereal_df dataframe. (Hint: Use ```df.columns```.)"
   ]
  },
  {
   "cell_type": "code",
   "execution_count": null,
   "id": "c37c9b2e",
   "metadata": {},
   "outputs": [],
   "source": []
  }
 ],
 "metadata": {
  "colab": {
   "provenance": []
  },
  "kernelspec": {
   "display_name": "Python 3 (ipykernel)",
   "language": "python",
   "name": "python3"
  },
  "language_info": {
   "codemirror_mode": {
    "name": "ipython",
    "version": 3
   },
   "file_extension": ".py",
   "mimetype": "text/x-python",
   "name": "python",
   "nbconvert_exporter": "python",
   "pygments_lexer": "ipython3",
   "version": "3.11.4"
  }
 },
 "nbformat": 4,
 "nbformat_minor": 5
}
