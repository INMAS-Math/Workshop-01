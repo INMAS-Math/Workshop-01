{
 "cells": [
  {
   "cell_type": "markdown",
   "metadata": {
    "id": "91eq7qoAtkDL"
   },
   "source": [
    "<img src=\"images/Picture0.png\" width=200x />\n",
    "\n",
    "# Notebook 02 - Additional Practice with Python\n",
    "\n",
    "## Instructions\n",
    "\n",
    "There are lots of powerful things you can do with Python. This notebook helps you practice some of these techniques, and goes over additional reference points not covered in the pre-work notebook.\n",
    "\n",
    "- Additional practice with lists\n",
    "    - Functions vs. methods in Python\n",
    "    - A word of caution: Modifying data in place\n",
    "    - Slicing:\n",
    "        - How to slice a list\n",
    "        - How to slice a string\n",
    "    - Nested/multidimensional lists\n",
    "    \n",
    "- Additional practice with for loops and conditionals\n",
    "    - Exercises\n",
    "    - Infinite loops\n",
    "\n",
    "- Optional advanced exercises for Python advanced users\n",
    "    - If you are already an advanced Python user, there is additional optional material at the end to use to practice.\n",
    "    \n",
    "### Credits\n",
    "- [Software Carpentry](https://www.software-carpentry.org)\n",
    "- https://github.com/jrjohansson/scientific-python-lectures/blob/master/Lecture-1-Introduction-to-Python-Programming.ipynb"
   ]
  },
  {
   "cell_type": "markdown",
   "metadata": {
    "id": "XgbPfH9atkDR"
   },
   "source": [
    "## Additional Practice with lists"
   ]
  },
  {
   "cell_type": "markdown",
   "metadata": {
    "id": "DAIQPBm7Ks7i"
   },
   "source": [
    "### Functions vs. Methods\n",
    "One important key to understanding Python syntax is that Python is an object-oriented programming language. This means that Python focuses around \"objects,\" like say a list of numbers:"
   ]
  },
  {
   "cell_type": "code",
   "execution_count": null,
   "metadata": {
    "id": "EVfJaf1FLETD"
   },
   "outputs": [],
   "source": [
    "mylist = [1,2,3,4]"
   ]
  },
  {
   "cell_type": "markdown",
   "metadata": {
    "id": "0zGPKvBJLGmG"
   },
   "source": [
    "`mylist` is a list object, which has certain properties and can be manipulated in certain ways. These manipulations, called methods, are properties of the list object, and thus are accessed by calling `object.method()`. So, for example, if you wanted to add an additional element to the list (the value 5 for instance), you do:"
   ]
  },
  {
   "cell_type": "code",
   "execution_count": null,
   "metadata": {
    "colab": {
     "base_uri": "https://localhost:8080/"
    },
    "executionInfo": {
     "elapsed": 4,
     "status": "ok",
     "timestamp": 1634741335370,
     "user": {
      "displayName": "Emily Shinkle",
      "photoUrl": "https://lh3.googleusercontent.com/a/default-user=s64",
      "userId": "06575640438948846197"
     },
     "user_tz": 300
    },
    "id": "no13Q6d_LP-l",
    "outputId": "c3ed3c2a-2bd7-4579-bbc4-14807f3e74ff"
   },
   "outputs": [],
   "source": [
    "mylist.append(5)\n",
    "print(mylist)"
   ]
  },
  {
   "cell_type": "markdown",
   "metadata": {
    "id": "FQGHQiXBLVyU"
   },
   "source": [
    "In addition to methods of objects, you also can have functions that operate on objects. An example of this is if I want to know the length of `mylist` I can use the length function:"
   ]
  },
  {
   "cell_type": "code",
   "execution_count": null,
   "metadata": {
    "colab": {
     "base_uri": "https://localhost:8080/"
    },
    "executionInfo": {
     "elapsed": 263,
     "status": "ok",
     "timestamp": 1634741358381,
     "user": {
      "displayName": "Emily Shinkle",
      "photoUrl": "https://lh3.googleusercontent.com/a/default-user=s64",
      "userId": "06575640438948846197"
     },
     "user_tz": 300
    },
    "id": "Z0YF_JKmLXlZ",
    "outputId": "cb0ddef2-9671-41f2-efa0-65a79a86e0c8"
   },
   "outputs": [],
   "source": [
    "len(mylist)"
   ]
  },
  {
   "cell_type": "markdown",
   "metadata": {
    "id": "e071330c"
   },
   "source": [
    "### A word of caution: modifying data in place\n",
    "Be careful when modifying data in place. If two variables refer to the same list, and you modify the list value, it will change for both variables!"
   ]
  },
  {
   "cell_type": "code",
   "execution_count": null,
   "metadata": {
    "id": "70ea370f"
   },
   "outputs": [],
   "source": [
    "salsa = ['peppers', 'onions', 'cilantro', 'tomatoes']\n",
    "my_salsa = salsa        # <-- my_salsa and salsa point to the *same* list data in memory\n",
    "salsa[0] = 'hot peppers'\n",
    "print('Ingredients in salsa:', salsa)\n",
    "print('Ingredients in my salsa:', my_salsa)"
   ]
  },
  {
   "cell_type": "markdown",
   "metadata": {
    "id": "9f2c3eed"
   },
   "source": [
    "If you want variables with mutable values to be independent, you must make a copy of the value when you assign it."
   ]
  },
  {
   "cell_type": "code",
   "execution_count": null,
   "metadata": {
    "id": "7c08a268"
   },
   "outputs": [],
   "source": [
    "salsa = ['peppers', 'onions', 'cilantro', 'tomatoes']\n",
    "my_salsa = list(salsa)        # <-- makes a *copy* of the list\n",
    "salsa[0] = 'hot peppers'\n",
    "print('Ingredients in salsa:', salsa)\n",
    "print('Ingredients in my salsa:', my_salsa)"
   ]
  },
  {
   "cell_type": "markdown",
   "metadata": {
    "id": "8975dab1"
   },
   "source": [
    "The `list()` function is a constructor that creates a new object initialized with the values of *salsa*. Because of pitfalls like this, code which modifies data in place can be more difficult to understand. However, it is often far more efficient to modify a large data structure in place than to create a modified copy for every small change. You should consider both of these aspects when writing your code."
   ]
  },
  {
   "cell_type": "markdown",
   "metadata": {
    "id": "564df818"
   },
   "source": [
    "### Slicing\n",
    "Slices allow us to easily extract sublists. For example, we can extract the first two elements of a list as follows:"
   ]
  },
  {
   "cell_type": "code",
   "execution_count": null,
   "metadata": {
    "colab": {
     "base_uri": "https://localhost:8080/"
    },
    "executionInfo": {
     "elapsed": 206,
     "status": "ok",
     "timestamp": 1634741836334,
     "user": {
      "displayName": "Emily Shinkle",
      "photoUrl": "https://lh3.googleusercontent.com/a/default-user=s64",
      "userId": "06575640438948846197"
     },
     "user_tz": 300
    },
    "id": "4df6eab1",
    "outputId": "1d0f49a6-d292-482e-f125-916ef7ee2fe0"
   },
   "outputs": [],
   "source": [
    "months = ['January', 'February', 'March', 'April', 'May', 'June', 'July', 'August', 'September', 'October', 'November', 'December']\n",
    "first_two_months = months[0:2]\n",
    "print(first_two_months)"
   ]
  },
  {
   "cell_type": "markdown",
   "metadata": {
    "id": "cdecf3db"
   },
   "source": [
    "The slice `0:4` means, “Start at index 0 and go up to, but not including, index 4”. Again, the up-to-but-not-including takes a bit of getting used to, but the rule is that the difference between the upper and lower bounds is the number of values in the slice.\n",
    "\n",
    "We don’t have to start slices at 0:"
   ]
  },
  {
   "cell_type": "code",
   "execution_count": null,
   "metadata": {
    "id": "e39ef79c"
   },
   "outputs": [],
   "source": [
    "spring_months = months[2:6]\n",
    "print(spring_months)"
   ]
  },
  {
   "cell_type": "markdown",
   "metadata": {
    "id": "63e3f5f8"
   },
   "source": [
    "### Exercise \n",
    "Create sublists ```summer_months``` and ```winter_months``` using slicing. For ```winter_months```, you may need to add two sublists (e.g. using extend or +)."
   ]
  },
  {
   "cell_type": "code",
   "execution_count": null,
   "metadata": {
    "id": "b138cc0a"
   },
   "outputs": [],
   "source": []
  },
  {
   "cell_type": "markdown",
   "metadata": {
    "id": "IMlSBve9MaqR"
   },
   "source": [
    "We can also leave out the first and/or last index in a slice. What happens?"
   ]
  },
  {
   "cell_type": "code",
   "execution_count": null,
   "metadata": {
    "colab": {
     "base_uri": "https://localhost:8080/"
    },
    "executionInfo": {
     "elapsed": 227,
     "status": "ok",
     "timestamp": 1634741839059,
     "user": {
      "displayName": "Emily Shinkle",
      "photoUrl": "https://lh3.googleusercontent.com/a/default-user=s64",
      "userId": "06575640438948846197"
     },
     "user_tz": 300
    },
    "id": "dgIAwSbnNE6q",
    "outputId": "ed01ea42-738c-422f-e997-2c6db342548d"
   },
   "outputs": [],
   "source": [
    "print(months[:6])\n",
    "print(months[6:])\n",
    "print(months[:])"
   ]
  },
  {
   "cell_type": "markdown",
   "metadata": {
    "id": "pyNJBib9NYyw"
   },
   "source": [
    "### Note: Slicing Strings\n",
    "\n",
    "We can slice characters in strings in a similar way:"
   ]
  },
  {
   "cell_type": "code",
   "execution_count": null,
   "metadata": {
    "colab": {
     "base_uri": "https://localhost:8080/"
    },
    "executionInfo": {
     "elapsed": 242,
     "status": "ok",
     "timestamp": 1634741960351,
     "user": {
      "displayName": "Emily Shinkle",
      "photoUrl": "https://lh3.googleusercontent.com/a/default-user=s64",
      "userId": "06575640438948846197"
     },
     "user_tz": 300
    },
    "id": "9OGkDJrVNYQS",
    "outputId": "a6f991b1-f27a-4d37-8147-b8eee1be3d0d"
   },
   "outputs": [],
   "source": [
    "discipline = 'science'\n",
    "person = discipline[0:5] + 'tist'\n",
    "\n",
    "print(person)"
   ]
  },
  {
   "cell_type": "markdown",
   "metadata": {
    "id": "SSyBkyUxPv4g"
   },
   "source": [
    "Lists are *mutable*, meaning that they can be altered after creation. In constrast, strings are *immutable*:"
   ]
  },
  {
   "cell_type": "code",
   "execution_count": null,
   "metadata": {
    "colab": {
     "base_uri": "https://localhost:8080/",
     "height": 178
    },
    "executionInfo": {
     "elapsed": 238,
     "status": "error",
     "timestamp": 1634742863406,
     "user": {
      "displayName": "Emily Shinkle",
      "photoUrl": "https://lh3.googleusercontent.com/a/default-user=s64",
      "userId": "06575640438948846197"
     },
     "user_tz": 300
    },
    "id": "kuSQiNjWQUYx",
    "outputId": "7fc8c742-825a-4a3e-c7c8-ff6802e98c82"
   },
   "outputs": [],
   "source": [
    "university_name = 'Unaversity of Illinoiz'\n",
    "university_name[-1] = 's'"
   ]
  },
  {
   "cell_type": "markdown",
   "metadata": {
    "id": "gC--2nKEQaQ1"
   },
   "source": [
    "To fix the typos, you'll need to create a new string."
   ]
  },
  {
   "cell_type": "markdown",
   "metadata": {
    "id": "Q7yv3BHFNtiC"
   },
   "source": [
    "### Exercise\n",
    "\n",
    "Use slicing to create a new string with the two typos in `university_name` corrected."
   ]
  },
  {
   "cell_type": "code",
   "execution_count": null,
   "metadata": {
    "id": "i6VTMC9JNyxi"
   },
   "outputs": [],
   "source": []
  },
  {
   "cell_type": "markdown",
   "metadata": {
    "id": "95122fd8"
   },
   "source": [
    "### Nested Lists\n",
    "Since a list can contain elements of any Python type, it can therefore contain other lists.\n",
    "\n",
    "For example, we could represent the products on the shelves of a small grocery shop:"
   ]
  },
  {
   "cell_type": "code",
   "execution_count": null,
   "metadata": {
    "id": "9def08db"
   },
   "outputs": [],
   "source": [
    "x = [['pepper', 'zucchini', 'onion'],\n",
    "     ['cabbage', 'lettuce', 'garlic'],\n",
    "     ['apple', 'pear', 'banana']]"
   ]
  },
  {
   "cell_type": "markdown",
   "metadata": {
    "id": "ff6e7345"
   },
   "source": [
    "As before, ```x[0]``` will return the first element of the list ```x```, which in this case is another list."
   ]
  },
  {
   "cell_type": "markdown",
   "metadata": {
    "id": "3e128118"
   },
   "source": [
    "### Exercise\n",
    "\n",
    "What will ```x[0]``` return? Print it below to check."
   ]
  },
  {
   "cell_type": "code",
   "execution_count": null,
   "metadata": {
    "id": "d26cc40b"
   },
   "outputs": [],
   "source": []
  },
  {
   "cell_type": "markdown",
   "metadata": {
    "id": "dd581d41"
   },
   "source": [
    "How can you print `'zucchini'`?"
   ]
  },
  {
   "cell_type": "code",
   "execution_count": null,
   "metadata": {
    "id": "4c48b103"
   },
   "outputs": [],
   "source": []
  },
  {
   "cell_type": "markdown",
   "metadata": {
    "id": "90484a8f"
   },
   "source": [
    "How can you print `'pear'`?"
   ]
  },
  {
   "cell_type": "code",
   "execution_count": null,
   "metadata": {
    "id": "7dd450c6"
   },
   "outputs": [],
   "source": []
  },
  {
   "cell_type": "markdown",
   "metadata": {
    "id": "371cd355"
   },
   "source": [
    "### Review: Key points about lists\n",
    "\n",
    "- `[value1, value2, value3, ...]` creates a list.\n",
    "\n",
    "- Lists can contain any Python object, including lists (i.e., list of lists).\n",
    "\n",
    "- Lists are indexed and sliced with square brackets (e.g., `list[0]` and `list[2:9]`).\n",
    "\n",
    "- Lists are mutable (i.e., their values can be changed in place)."
   ]
  },
  {
   "cell_type": "markdown",
   "metadata": {
    "id": "3ADQZiRytkDc"
   },
   "source": [
    "## Additional Practice with conditionals and for loops"
   ]
  },
  {
   "cell_type": "code",
   "execution_count": null,
   "metadata": {
    "id": "amended-collapse"
   },
   "outputs": [],
   "source": [
    "# Recall from the workshop prework the syntax for testing the relationships between statements.\n",
    "a = 10\n",
    "b = 0\n",
    "\n",
    "print(a == b) # equal to\n",
    "print(a != b) # is not equal to \n",
    "print(a > b)\n",
    "print(a >= b)\n",
    "print(a < b)\n",
    "print(a <= b)\n",
    "print()\n",
    "\n",
    "# You can also test whether or not something is in or not in a set of numbers. \n",
    "# While a list is the basic Python container for items, it also has sets and lists. \n",
    "# In/ not in work for all of them:\n",
    "print(\"name\" in ['name', 'city', 'grade']) # list\n",
    "print(12 not in (10, 12, 14)) # tuple\n",
    "print(6 in {7, 8, 9, 9}) # set\n"
   ]
  },
  {
   "cell_type": "code",
   "execution_count": null,
   "metadata": {
    "id": "hourly-dutch"
   },
   "outputs": [],
   "source": [
    "# Note that you can combine multiple conditions in an if statement using and/ or:\n",
    "score = 90\n",
    "grade = 'A'\n",
    "\n",
    "if (score >= 90) and (grade == 'A'):\n",
    "    print(\"PASS!\")"
   ]
  },
  {
   "cell_type": "markdown",
   "metadata": {
    "id": "designed-wholesale"
   },
   "source": [
    "A note about values that are considered `True` and `False`:\n",
    "\n",
    "- The following values are considered False : \n",
    "     * None\n",
    "     * 0\n",
    "     * 0.0\n",
    "     * '' -> empty string\n",
    "     * [] -> empty list\n",
    "     * () -> empty tuple\n",
    "     * {} -> empty dictionary\n",
    "     * set() -> empty set\n",
    "- All other values are considered True - so objects of many types are always true.\n",
    "\n",
    "`None` is used for objects that have not been defined. Think of it as a null pointer in other languages."
   ]
  },
  {
   "cell_type": "code",
   "execution_count": null,
   "metadata": {
    "id": "civic-pasta"
   },
   "outputs": [],
   "source": [
    "# Can you predict which values will actually print before running the follow code?\n",
    "if None:\n",
    "    print('None.')\n",
    "\n",
    "if 0:\n",
    "    print('0.')\n",
    "\n",
    "if []:\n",
    "    print('[]')\n",
    "\n",
    "if 1:\n",
    "    print('1.')"
   ]
  },
  {
   "cell_type": "markdown",
   "metadata": {
    "id": "wired-crack"
   },
   "source": [
    "To practice with this, note that the % symbol in Python is the modulo operator and returns the remainder of dividing the left hand value by right hand value.\n",
    "\n",
    "Other math operators in Python are: `+` (addition), `-` (subtraction), `*` (multiplication), `/` (division), `**` (exponential), `//` (floor division)."
   ]
  },
  {
   "cell_type": "code",
   "execution_count": null,
   "metadata": {
    "id": "72Y2w_IDtkDd"
   },
   "outputs": [],
   "source": [
    "print(\"The remainder of 17 divided by 4 is:\", 17 % 4)"
   ]
  },
  {
   "cell_type": "markdown",
   "metadata": {
    "id": "convertible-allergy"
   },
   "source": [
    "We often need to nest conditionals within other conditionals:"
   ]
  },
  {
   "cell_type": "code",
   "execution_count": null,
   "metadata": {
    "id": "democratic-jesus"
   },
   "outputs": [],
   "source": [
    "num = 10\n",
    "if num%2 == 0:\n",
    "    if num%3 == 0:\n",
    "        print (num, \"is divisible by 2 and 3.\")\n",
    "    else:\n",
    "        print (num, \"is divisible by 2 and not divisible by 3\")\n",
    "else:\n",
    "    if num%3 == 0:\n",
    "        print (num, \"is divisible by 3 and not divisible by 2\")\n",
    "    else:\n",
    "        print  (num, \"is not divisible by 2 and not divisible by 3\")"
   ]
  },
  {
   "cell_type": "markdown",
   "metadata": {
    "id": "bMFYuGa0tkDd"
   },
   "source": [
    "## Exercise:\n",
    "Use a `for` loop to determine if the following list of numbers is divisible by 4 with remainder 0. \n",
    "\n",
    "```num_list = [8, 9, 789632, 13401642]```\n",
    "\n",
    "Print out statements that say things like \"8 is divisible by 4\" or \"9 is not divisible by 4\"."
   ]
  },
  {
   "cell_type": "code",
   "execution_count": null,
   "metadata": {
    "id": "fkRgUcSFtkDd"
   },
   "outputs": [],
   "source": []
  },
  {
   "cell_type": "markdown",
   "metadata": {
    "id": "10d5m9SstkDd"
   },
   "source": [
    "Sometimes we need to loop over multiple lists at once, and use the `zip()` function to accomplish this:"
   ]
  },
  {
   "cell_type": "code",
   "execution_count": null,
   "metadata": {
    "id": "qpIxhGvRtkDe"
   },
   "outputs": [],
   "source": [
    "names = [\"Ann\",\"Bob\",\"Charles\",\"Debbie\"]\n",
    "favorite_fruit = [\"Apple\",\"Banana\",\"Cherrie\",\"Date\"]\n",
    "for name, fruit in zip(names, favorite_fruit):\n",
    "    print(name,\":\", fruit)"
   ]
  },
  {
   "cell_type": "markdown",
   "metadata": {
    "id": "provincial-declaration"
   },
   "source": [
    "## Exercise\n",
    "\n",
    "In a much feared math class, letter grades will be assigned according to the percentage:\n",
    "- 100.00 % - 98.00 % → A+ \n",
    "- 97.99 % - 93.00 % → A \n",
    "- 92.99% - 90.00% → A- \n",
    "- 89.99 % -87.00 % → B+ \n",
    "- 86.99 % - 83.00 % → B \n",
    "- 82.99 % - 80.00 % → B- \n",
    "- 79.99 % - 70.00 % → C\n",
    "- 69.99 % and below → F\n",
    "\n",
    "Use a for loop and `if-elif-else` and determine the letter grades for the following list of scores. \n",
    "\n",
    "Print out the name of their student and their score, e.g. \"Adam received a B+\". \n",
    "\n",
    "To keep it short, for grades lower than B-, just print that x didn't do so well..."
   ]
  },
  {
   "cell_type": "code",
   "execution_count": null,
   "metadata": {
    "id": "JFL9PLGYtkDe"
   },
   "outputs": [],
   "source": [
    "class_names = [\"Connor\" , \"Robert\" , \"Adam\" , \"Joshua\" , \"Lucas\" , \"Candice\" , \"Christian\" , \"Andrew\" , \"Mya\" , \"Lexi\" , \"Logan\" , \"Mary\" , \"Kelsey\" , \"Gwyneth\" , \"Kendal\" , \"Ellora\" , \"Cameron\" , \"Lindsay\" , \"Saahil\" , \"Andrea\" , \"Kylie\" , \"Allison\" , \"Rachel\" , \"Ariana\" , \"Sean\" , \"Kristy\" , \"Lauren\" , \"Jacob\" , \"Brianna\" , \"Michael\" , \"Alexandria\" , \"Samuel\" , \"Brandon\" , \"Dalton\" , \"Jachob\" , \"Terrance\" , \"Benjamin\" , \"Alexander\" , \"Dylan\" , \"Paige\" , \"Brennen\" , \"Christopher\" , \"Ben\" , \"Mary\" , \"Amy\" , \"Sarah\" , \"Ellie\" , \"Mickey\" , \"Mike\" , \"Laura\"]\n",
    "class_scores = [90.42,57.47,93.07,66.74,80.30,88.19,65.57,96.99,64.18,66.96, 17.94,99.91,62.16,90.78,91.41,93.31,90.35,77.09,90.39,87.24,81.81, 72.27,88.82,75.12,85.47,78.43,85.18,87.18,96.91,88.23,76.28,10.67,83.44,69.61,78.32,82.27,85.44,93.22,63.82,79.68,91.04,84.05,82.46,87.13,98.09,70.44,89.26,68.86,77.35,2.16]"
   ]
  },
  {
   "cell_type": "code",
   "execution_count": null,
   "metadata": {},
   "outputs": [],
   "source": []
  },
  {
   "cell_type": "markdown",
   "metadata": {
    "id": "tvTF7_BQtkDe"
   },
   "source": [
    "## Breaking Infinite Loops\n",
    "It's important to know how to break out of a `for` or `while` loop.\n",
    "\n",
    "An infinite loop : The `while` loop will continue forever if the condition doesn't become false.\n",
    "\n",
    "Execute the below cell and exit by interrupting the kernel (Kernel --> Interrupt)."
   ]
  },
  {
   "cell_type": "code",
   "execution_count": null,
   "metadata": {
    "id": "appointed-rugby"
   },
   "outputs": [],
   "source": [
    "i = 0\n",
    "while True:\n",
    "    i+=1\n",
    "    \n",
    "print(i)"
   ]
  },
  {
   "cell_type": "markdown",
   "metadata": {
    "id": "working-cuisine"
   },
   "source": [
    "### `break`\n",
    "The `break` statement enables us to stop the loop even if the condition is true."
   ]
  },
  {
   "cell_type": "code",
   "execution_count": null,
   "metadata": {
    "id": "mineral-malaysia"
   },
   "outputs": [],
   "source": [
    "i = 0\n",
    "while True:\n",
    "    if i == 529:\n",
    "        print(\"i = \", i)\n",
    "        break\n",
    "    i+=1"
   ]
  },
  {
   "cell_type": "markdown",
   "metadata": {
    "id": "simplified-fitting"
   },
   "source": [
    "### continue\n",
    "The `continue` statement enables us to stop/skip the current iteration, and continue with the next iteration.\n",
    "\n",
    "Notice how the list contains mixed objects."
   ]
  },
  {
   "cell_type": "code",
   "execution_count": null,
   "metadata": {
    "id": "musical-shower"
   },
   "outputs": [],
   "source": [
    "lt = [\"1\", 2, 5, True, 4.3, complex(4)]\n",
    "\n",
    "for v in lt:\n",
    "    if type(v) is float:\n",
    "        continue\n",
    "\n",
    "    print(\"type:\", type(v))\n"
   ]
  },
  {
   "cell_type": "markdown",
   "metadata": {
    "id": "first-nature"
   },
   "source": [
    "### else\n",
    "\n",
    "Just like in the `if` clause, the `else` statement enables us to run a block of code once when the condition no longer is true. "
   ]
  },
  {
   "cell_type": "code",
   "execution_count": null,
   "metadata": {
    "id": "interim-constraint",
    "scrolled": true
   },
   "outputs": [],
   "source": [
    "# for-else\n",
    "numbers = [14, 3, 4, 7, 10, 24, 17, 2, 33, 15, 34, 36, 38]\n",
    "lucky = 4\n",
    "for num in numbers:\n",
    "    if num == lucky:  \n",
    "        print(\"Found\", lucky, '!')\n",
    "        break\n",
    "else:\n",
    "    print(lucky, \"not found.\")"
   ]
  },
  {
   "cell_type": "markdown",
   "metadata": {},
   "source": [
    "### Exercise\n",
    "\n",
    "Repeat the loop above for finding `45`. Will the `else` statement run?"
   ]
  },
  {
   "cell_type": "code",
   "execution_count": null,
   "metadata": {},
   "outputs": [],
   "source": []
  },
  {
   "cell_type": "markdown",
   "metadata": {
    "id": "apparent-manchester"
   },
   "source": [
    "### Nested loops\n",
    "We often need to nest a loop inside another loop:\n",
    "\n",
    "```python\n",
    "a = [1, 2, 4]\n",
    "for i in a:\n",
    "    for j in a:\n",
    "        print(i * j)\n",
    "```"
   ]
  },
  {
   "cell_type": "code",
   "execution_count": null,
   "metadata": {
    "id": "serious-death"
   },
   "outputs": [],
   "source": [
    "# Nested for loop: building a multiplication table\n",
    "\n",
    "# outer for loop\n",
    "for i in range(1, 11):\n",
    "    # inner for loop\n",
    "    for j in range(1, 11):\n",
    "        print('{:4d}'.format(i * j), end='')\n",
    "    print()"
   ]
  },
  {
   "cell_type": "code",
   "execution_count": null,
   "metadata": {
    "id": "adequate-mediterranean"
   },
   "outputs": [],
   "source": [
    "# Example of using a flag to stop and exit a while loop\n",
    "\n",
    "flag = True\n",
    "numbers = [14, 3, 4, 7, 10, 24, 17, 2, 33, 15, 34, 36, 38]\n",
    "\n",
    "while flag:\n",
    "    for v in numbers:\n",
    "        if v == 33:\n",
    "            print(\"found : 33!\")\n",
    "            flag = False\n",
    "            break # break the for loop"
   ]
  },
  {
   "cell_type": "markdown",
   "metadata": {
    "id": "molecular-theory"
   },
   "source": [
    "## Exercises\n",
    "\n",
    "Using `if` or `for` only, \n",
    "1. Find the maximum and minimum of [22, 1, 3, 4, 7, 98, 21, 55, 87, 99, 19, 20, 45]. \n",
    "2. Evaluate the average of the list above. "
   ]
  },
  {
   "cell_type": "code",
   "execution_count": null,
   "metadata": {
    "id": "waiting-beatles"
   },
   "outputs": [],
   "source": [
    "numList = [22, 1, 3, 4, 7, 98, 21, 55, 87, 99, 19, 20, 45]"
   ]
  },
  {
   "cell_type": "markdown",
   "metadata": {
    "id": "srlx3elaGgTV"
   },
   "source": [
    "Write a program that  checks whether an integer is a prime number or not."
   ]
  },
  {
   "cell_type": "code",
   "execution_count": null,
   "metadata": {
    "id": "113P6PgMHCVd"
   },
   "outputs": [],
   "source": []
  },
  {
   "cell_type": "markdown",
   "metadata": {
    "id": "9Pi_sfkfLBQt"
   },
   "source": [
    "Find the first 6-digit number that is divisible by 157."
   ]
  },
  {
   "cell_type": "code",
   "execution_count": null,
   "metadata": {
    "id": "-3JAPMLlLci1"
   },
   "outputs": [],
   "source": []
  },
  {
   "cell_type": "markdown",
   "metadata": {
    "id": "k7T_FkEtG0-P"
   },
   "source": [
    "<hr>\n",
    "<font face=\"verdana\" style=\"font-size:30px\" color=\"blue\">---------- Optional Advanced Material ----------</font>\n",
    "\n",
    "If you are experienced with Python, then you may challenge yourself with some of the advanced exercises listed below. If on the other hand you are just starting with Python, consider this a reference for advanced techniques you may want to use in the future."
   ]
  },
  {
   "cell_type": "markdown",
   "metadata": {
    "id": "13iYBTsrHati"
   },
   "source": [
    "## More list manipulations\n",
    "\n",
    "Read about other list methods [here](https://docs.python.org/3/tutorial/datastructures.html). \n",
    "\n",
    "\n",
    "### Exercise\n",
    "\n",
    "Use these methods to do the following with the list below.\n",
    "\n",
    "- Create a blank list called `served_customers` and move the first six customers of `waiting_customers` to this list. (Hint: use `list.pop()`.)\n",
    "- Flip the order of `served_customers` so that the most recently served customer is at the front of the list.\n",
    "- Report the number of customers served and customers waiting.\n",
    "- Allow Ana Lloyd to cut in line and be served next.\n",
    "- Alphabetize the remaining waiting customers by first name."
   ]
  },
  {
   "cell_type": "code",
   "execution_count": null,
   "metadata": {
    "id": "k5Tj1IwnH83S"
   },
   "outputs": [],
   "source": [
    "waiting_customers=['Chance Maxwell', 'Ray Rawlings', 'Omer Hollis', 'Ava-Rose O\\'Gallagher', 'Jocelyn Green', 'Sammy John', 'Stevie Mcfarland', 'Romany Goff', 'Edmund Downes', 'Umayr Sykes', 'Bret Oliver','Katy Chung', 'Ana Lloyd', 'Ricardo Sullivan', 'Daryl Shepard']"
   ]
  },
  {
   "cell_type": "markdown",
   "metadata": {
    "id": "O7oIZh2UMYHf"
   },
   "source": [
    "## List comprehension\n",
    "\n",
    "If you are familiar with `for` loops in Python, use [this source](https://www.pythonforbeginners.com/basics/list-comprehensions-in-python) or another to read about list comprehensions. \n",
    "\n",
    "### Exercise\n",
    "\n",
    "Given the three lists below."
   ]
  },
  {
   "cell_type": "code",
   "execution_count": null,
   "metadata": {
    "id": "aokk2uFYNDa_"
   },
   "outputs": [],
   "source": [
    "numbers = [1,4,3,6,12,42]\n",
    "planets = ['Mars', 'Venus', 'Earth', 'Mercury', 'Jupyter', 'Saturn', 'Uranus', 'Neptune']\n",
    "poem = 'What happens to a dream deferred?\\nDoes it dry up\\nlike a raisin in the sun?\\nOr fester like a sore—\\nAnd then run?\\nDoes it stink like rotten meat?\\nOr crust and sugar over—\\nlike a syrupy sweet?\\n\\nMaybe it just sags\\nlike a heavy load.\\n\\nOr does it explode?[1]' #Harlem by Langston Hughes"
   ]
  },
  {
   "cell_type": "markdown",
   "metadata": {},
   "source": [
    "Create a list with each value in `numbers` divided by 3. Hint: use `num/3 for num in numbers` construction."
   ]
  },
  {
   "cell_type": "code",
   "execution_count": null,
   "metadata": {},
   "outputs": [],
   "source": []
  },
  {
   "cell_type": "markdown",
   "metadata": {},
   "source": [
    "Create a list of the length of the name of each planet in `planets`."
   ]
  },
  {
   "cell_type": "code",
   "execution_count": null,
   "metadata": {},
   "outputs": [],
   "source": []
  },
  {
   "cell_type": "markdown",
   "metadata": {},
   "source": [
    "Create a list of all of the vowels in `poem`."
   ]
  },
  {
   "cell_type": "code",
   "execution_count": null,
   "metadata": {},
   "outputs": [],
   "source": []
  },
  {
   "cell_type": "markdown",
   "metadata": {
    "id": "5dNEGOyvSfQt"
   },
   "source": [
    "## Advanced looping / Optional exercises\n",
    "\n",
    "If you've looking for more practice give these additional exercises a try."
   ]
  },
  {
   "cell_type": "markdown",
   "metadata": {
    "id": "SlYl5iwHS4ra"
   },
   "source": [
    "### Exercise 1\n",
    "\n",
    "There is a pair of integers $x$, $y$ such that $x^2 + y^2 = 223065$. Use `for` or `while` loops to find them!"
   ]
  },
  {
   "cell_type": "code",
   "execution_count": null,
   "metadata": {
    "id": "HjGWXVUySnf3"
   },
   "outputs": [],
   "source": []
  },
  {
   "cell_type": "markdown",
   "metadata": {
    "id": "MXIVojpPTXHj"
   },
   "source": [
    "### Exercise 2\n",
    "\n",
    "Define $W_0 = 2$ and $W_n = W_{n-1}^{W_{n-1}}$ for all integers $n \\geq 1$. Use a while loop to find the smallest n such that $W_n > 1030$."
   ]
  },
  {
   "cell_type": "code",
   "execution_count": null,
   "metadata": {
    "id": "UrbJdbYYfYzw"
   },
   "outputs": [],
   "source": []
  },
  {
   "cell_type": "markdown",
   "metadata": {
    "id": "7L-5Tlf6fZTW"
   },
   "source": [
    "### Exercise 3\n",
    "\n",
    "Create a list of length $10$ where entry $i$ has value $0^2 + 1^2 + 2^2 + \\ldots + i^2$ (without using the formula for that if you happen to know it). Can you do it with only one for loop?\n",
    "\n"
   ]
  },
  {
   "cell_type": "code",
   "execution_count": null,
   "metadata": {
    "id": "_bM8T1xTiJUN"
   },
   "outputs": [],
   "source": []
  },
  {
   "cell_type": "markdown",
   "metadata": {
    "id": "rsApif_0hrFH"
   },
   "source": [
    "### Exercise 4\n",
    "\n",
    "Set $n=100$ and create two nested `for` loops iterating `i` and `j` through `range(n)`. Can you find a way to exit **both** `for` loops when `i=49` and `j=76`? So after you run it, `i` should have value $49$ and `j` should have value $76$."
   ]
  },
  {
   "cell_type": "code",
   "execution_count": null,
   "metadata": {
    "id": "RZy9T41EiuMg"
   },
   "outputs": [],
   "source": []
  },
  {
   "cell_type": "markdown",
   "metadata": {
    "id": "o4y88iN_izjg"
   },
   "source": [
    "### Exercise 5\n",
    "\n",
    "Set `A` to be a list of numbers of your choice. Set `B` equal to `A`. Use `for` loops to set each entry in B equal to itself plus all the \\'later entries\\' (entries corresponding to a larger index) in `B`. After doing that (to `B` only), what is the value of `A`?"
   ]
  },
  {
   "cell_type": "code",
   "execution_count": null,
   "metadata": {
    "id": "faFhiyoEizSh"
   },
   "outputs": [],
   "source": []
  },
  {
   "cell_type": "markdown",
   "metadata": {
    "id": "xW385ENx0AtS"
   },
   "source": [
    "## Advanced string manipulation, and practice with dictionaries\n",
    "\n",
    "If you finished the above quickly, choose activities from below to work on."
   ]
  },
  {
   "cell_type": "markdown",
   "metadata": {
    "id": "EDpc4f920NVL"
   },
   "source": [
    "### Manipulating strings\n",
    "\n",
    "Using [this page](https://www.freecodecamp.org/news/python-string-manipulation-handbook/) or any other resource you prefer as a reference, do the following with the text below.\n",
    "\n",
    "### Exercise\n",
    "\n",
    "Given the string below:"
   ]
  },
  {
   "cell_type": "code",
   "execution_count": null,
   "metadata": {
    "id": "dbQsVykd0_VA"
   },
   "outputs": [],
   "source": [
    "text = \"Lorem ipsum dolor sit amet, consectetur adipiscing elit. Curabitur eu tortor a eros bibendum vestibulum. Aliquam mollis efficitur odio eget rutrum. Ut finibus porttitor nisi, et sollicitudin nisi luctus quis. Nulla facilisi. Sed dapibus eleifend ex, ut mattis nibh tincidunt eget. Nullam tincidunt tellus sit amet posuere hendrerit. Suspendisse ac ipsum eget velit ornare tincidunt. Morbi quis dignissim enim, a elementum nisl. Sed faucibus venenatis risus, eu vulputate lorem porttitor gravida. Sed sed nisi ultricies, pellentesque sapien vel, aliquet magna. Morbi enim ligula, bibendum quis justo vel, sollicitudin semper nisi. Proin vitae lobortis lorem, aliquet aliquam diam. Donec suscipit malesuada lorem, ac rutrum est pharetra consectetur.\""
   ]
  },
  {
   "cell_type": "markdown",
   "metadata": {},
   "source": [
    "Make the entire string lower case."
   ]
  },
  {
   "cell_type": "code",
   "execution_count": null,
   "metadata": {
    "id": "UGpsoJSf3HVQ"
   },
   "outputs": [],
   "source": []
  },
  {
   "cell_type": "markdown",
   "metadata": {},
   "source": [
    "Print a word count."
   ]
  },
  {
   "cell_type": "code",
   "execution_count": null,
   "metadata": {},
   "outputs": [],
   "source": []
  },
  {
   "cell_type": "markdown",
   "metadata": {},
   "source": [
    "Print the number of times the letter `s` appears in the string."
   ]
  },
  {
   "cell_type": "code",
   "execution_count": null,
   "metadata": {},
   "outputs": [],
   "source": []
  },
  {
   "cell_type": "markdown",
   "metadata": {},
   "source": [
    "Check if the string contains only alphanumeric characters. "
   ]
  },
  {
   "cell_type": "code",
   "execution_count": null,
   "metadata": {},
   "outputs": [],
   "source": []
  },
  {
   "cell_type": "markdown",
   "metadata": {},
   "source": [
    "Move the first sentence of the text to the end of the text."
   ]
  },
  {
   "cell_type": "code",
   "execution_count": null,
   "metadata": {},
   "outputs": [],
   "source": []
  },
  {
   "cell_type": "markdown",
   "metadata": {
    "id": "C4JEc1ad3H2L"
   },
   "source": [
    "### Dictionaries\n",
    "\n",
    "Using [this page](https://realpython.com/python-dicts/) or any other resource you prefer as a reference, to do the following exercise.\n",
    "\n",
    "### Exercise\n",
    "\n",
    "Given a dictionary where the keys are the names of the members of your group and the values are their favorite food."
   ]
  },
  {
   "cell_type": "code",
   "execution_count": null,
   "metadata": {
    "id": "4HjxzNdmtkDl"
   },
   "outputs": [],
   "source": [
    "fav_foods = {\"Joseph\": \"pizza\", \"Adriana\": \"cake\", \"Shinhae\": \"coffee\"}"
   ]
  },
  {
   "cell_type": "markdown",
   "metadata": {},
   "source": [
    "Print the type of this dictionary."
   ]
  },
  {
   "cell_type": "code",
   "execution_count": null,
   "metadata": {},
   "outputs": [],
   "source": []
  },
  {
   "cell_type": "markdown",
   "metadata": {},
   "source": [
    "Add a new entry to the dictionary for Emily. Her favorite food is chocolate."
   ]
  },
  {
   "cell_type": "code",
   "execution_count": null,
   "metadata": {},
   "outputs": [],
   "source": []
  },
  {
   "cell_type": "markdown",
   "metadata": {},
   "source": [
    "Use the dictionary to print Joe's favorite food."
   ]
  },
  {
   "cell_type": "code",
   "execution_count": null,
   "metadata": {},
   "outputs": [],
   "source": []
  },
  {
   "cell_type": "markdown",
   "metadata": {},
   "source": [
    "Move the entry for Emily from the dictionary."
   ]
  },
  {
   "cell_type": "code",
   "execution_count": null,
   "metadata": {},
   "outputs": [],
   "source": []
  },
  {
   "cell_type": "markdown",
   "metadata": {},
   "source": [
    "Try to add a second entry for Joseph. Does it work?"
   ]
  },
  {
   "cell_type": "code",
   "execution_count": null,
   "metadata": {},
   "outputs": [],
   "source": []
  },
  {
   "cell_type": "markdown",
   "metadata": {},
   "source": [
    "Print the dictionary keys."
   ]
  },
  {
   "cell_type": "code",
   "execution_count": null,
   "metadata": {},
   "outputs": [],
   "source": []
  },
  {
   "cell_type": "markdown",
   "metadata": {},
   "source": [
    "Print the dictionary values"
   ]
  },
  {
   "cell_type": "code",
   "execution_count": null,
   "metadata": {},
   "outputs": [],
   "source": []
  },
  {
   "cell_type": "markdown",
   "metadata": {},
   "source": [
    "Make an empty dictionary. Use the method `.popitem()` to remove the last two entries from your original dictionary and add them to the new dictionary."
   ]
  },
  {
   "cell_type": "code",
   "execution_count": null,
   "metadata": {},
   "outputs": [],
   "source": []
  }
 ],
 "metadata": {
  "colab": {
   "provenance": []
  },
  "kernelspec": {
   "display_name": "Python 3 (ipykernel)",
   "language": "python",
   "name": "python3"
  },
  "language_info": {
   "codemirror_mode": {
    "name": "ipython",
    "version": 3
   },
   "file_extension": ".py",
   "mimetype": "text/x-python",
   "name": "python",
   "nbconvert_exporter": "python",
   "pygments_lexer": "ipython3",
   "version": "3.11.4"
  }
 },
 "nbformat": 4,
 "nbformat_minor": 4
}
