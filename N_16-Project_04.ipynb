{
 "cells": [
  {
   "cell_type": "markdown",
   "id": "2b086218",
   "metadata": {
    "id": "7ddf1365"
   },
   "source": [
    "<img src=\"images/Picture0.png\" width=200x />\n",
    "\n",
    "# Notebook 16 - Project 2\n",
    "# Analyzing Redfin Data\n",
    "\n",
    "## Instructions\n",
    "\n",
    "Redfin is a real-estate brokerage and they post available houses on their website [redfin.com](https://www.redfin.com). We will download housing data from their site to study.\n",
    "\n",
    "Follow the instructions [here](https://support.redfin.com/hc/en-us/articles/360016476931-Downloading-Data) to download some housing data from redfin.com. Save the file in the same location as this notebook. Then use the `pandas` function `read_csv()` to read the information from the file you downloaded. Clean up the data as necessary using techniques you learned in the Pandas notebook.\n",
    "\n",
    "### Credits\n"
   ]
  },
  {
   "cell_type": "markdown",
   "id": "ba2ee2b3",
   "metadata": {
    "id": "9d4e410e"
   },
   "source": [
    "# Project\n",
    "\n",
    "Use the skills you've learned to analyze this data. Here are some ideas, but please come up with your own additional ideas:\n",
    "- Make plots to visualize the data \n",
    "    - Use everything you have learned so far using Matplotlib\n",
    "- Use linear regression to predict one of the variables from one or both of the others\n",
    "- Calculate statistics on the data\n",
    "    - You can use the Numpy or Pandas modules, both have a lot of statistical functions. \n",
    "- Find a probability distribution for the price data \n",
    "- Repeat the steps above for more data from a different neighborhood or city. Compare.\n",
    "\n",
    "**Create a PowerPoint presentation to present your findings to others.**"
   ]
  },
  {
   "cell_type": "code",
   "execution_count": null,
   "id": "6a7511bd",
   "metadata": {
    "id": "jMrvCvHb2_CV"
   },
   "outputs": [],
   "source": []
  }
 ],
 "metadata": {
  "colab": {
   "collapsed_sections": [],
   "name": "Notebook14_Redfin_Mini_project.ipynb",
   "provenance": []
  },
  "kernelspec": {
   "display_name": "Python 3 (ipykernel)",
   "language": "python",
   "name": "python3"
  },
  "language_info": {
   "codemirror_mode": {
    "name": "ipython",
    "version": 3
   },
   "file_extension": ".py",
   "mimetype": "text/x-python",
   "name": "python",
   "nbconvert_exporter": "python",
   "pygments_lexer": "ipython3",
   "version": "3.11.4"
  }
 },
 "nbformat": 4,
 "nbformat_minor": 5
}
