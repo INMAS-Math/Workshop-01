{
 "cells": [
  {
   "cell_type": "markdown",
   "id": "6bbd5f66",
   "metadata": {
    "id": "6bbd5f66"
   },
   "source": [
    "<img src=\"images/Picture0.png\" width=200x />\n",
    "\n",
    "# Notebook 01 - Python Primer\n",
    "\n",
    "## Instructions\n",
    "\n",
    "As you work through this notebook, you will be asked to run the code cells below. If you are new to jupyter, read the *User Interface Tour* found under the *Help* tab above. Also see the README file provided with the Workshop.\n",
    "\n",
    "In short, when a code cell (i.e., cells having a *In []* in front of them) becomes highlighted in green, the code inside that cell can be run by typing either *Ctrl-Enter* or *Shift-Enter*. *Ctrl-Enter* keeps the same \"focus\", that is, keeps the same cell active, while *Shift-Enter* moves the focus to the next cell.\n",
    "\n",
    "Material covered in this notebook:\n",
    "<ol>\n",
    "<li> How to store data in a variable in Python\n",
    "<li> Types of data in Python (focusing on intergers, floating point numbers, strings, and lists)\n",
    "<li> How to print in Python\n",
    "<li> An introduction to Python lists\n",
    "<li> Conditionals in Python: checking if things are true and false with `if` - `else` statements\n",
    "<li> Flow control in Python: how to loop through many different values using `for` and `while` statements\n",
    "</ol>\n",
    "Please make sure you are comfortable with this notebook before the start of Workshop #1.\n",
    "\n",
    "### Pre-requisites\n",
    "None\n",
    "\n",
    "### Credits\n",
    "The original skeleton of this tutorial is based on material from [Software Carpentry](https://software-carpentry.org)"
   ]
  },
  {
   "cell_type": "markdown",
   "id": "f9688ab4",
   "metadata": {
    "id": "f9688ab4"
   },
   "source": [
    "# Variables\n",
    "Any Python interpreter can be used as a calculator."
   ]
  },
  {
   "cell_type": "code",
   "execution_count": null,
   "id": "7e2378ba",
   "metadata": {
    "id": "7e2378ba"
   },
   "outputs": [],
   "source": [
    "3 + 5 * 4 + 2/4"
   ]
  },
  {
   "cell_type": "markdown",
   "id": "01c2f526",
   "metadata": {
    "id": "01c2f526"
   },
   "source": [
    "Notice how the `*` and `/` operators have a higher precedence over `+` and `-`. \n",
    "\n",
    "These calculations are useful but we can do much more that that. When dealing with data, we often need to assign a value to a variable (that is, we want to give that value a name). In Python, we can assign a value to a variable, using the equals sign `=`. For example, we can store the weight of a patient who weighs 60 kilograms by assigning the value 60 to a variable weight_kg:"
   ]
  },
  {
   "cell_type": "code",
   "execution_count": null,
   "id": "0c4f54dc",
   "metadata": {
    "id": "0c4f54dc"
   },
   "outputs": [],
   "source": [
    "weight_kg = 60"
   ]
  },
  {
   "cell_type": "markdown",
   "id": "ffdce8f6",
   "metadata": {
    "id": "ffdce8f6"
   },
   "source": [
    "From now on, whenever we use ```weight_kg```, Python will substitute the value we assigned to it. \n",
    "\n",
    "In Python, variable names:\n",
    "\n",
    "- can include letters, digits, and underscores\n",
    "- cannot start with a digit \n",
    "- are case sensitive.\n",
    "\n",
    "This means that, for example:\n",
    "\n",
    "- ```weight0``` is a valid variable name, whereas ```0weight``` is not\n",
    "- ```weight``` and ```Weight``` are two different variables\n",
    "\n",
    "Some variable names are illegal in Python because of they are reserved words. For example, you cannot use ```and```, ```else```, or ```print``` as the name of a variable. The full list of reserved words is available [here](https://docs.python.org/2/reference/lexical_analysis.html?highlight=keywords#keywords)."
   ]
  },
  {
   "cell_type": "markdown",
   "id": "SqFdRpoFgEmd",
   "metadata": {
    "id": "SqFdRpoFgEmd"
   },
   "source": [
    "### Exercise\n",
    "\n",
    "Which of the following will cause an error? Run the cells to check."
   ]
  },
  {
   "cell_type": "code",
   "execution_count": null,
   "id": "RFiHdG3RgMGf",
   "metadata": {
    "id": "RFiHdG3RgMGf"
   },
   "outputs": [],
   "source": [
    "Age = 62"
   ]
  },
  {
   "cell_type": "code",
   "execution_count": null,
   "id": "KEpnAc9UgQex",
   "metadata": {
    "id": "KEpnAc9UgQex"
   },
   "outputs": [],
   "source": [
    "1st_name = 'Emily'"
   ]
  },
  {
   "cell_type": "code",
   "execution_count": null,
   "id": "4JsDGGFHgWzq",
   "metadata": {
    "id": "4JsDGGFHgWzq"
   },
   "outputs": [],
   "source": [
    "_baths = 3"
   ]
  },
  {
   "cell_type": "code",
   "execution_count": null,
   "id": "KCvxp2nHgs9T",
   "metadata": {
    "id": "KCvxp2nHgs9T"
   },
   "outputs": [],
   "source": [
    "class = 'algebra'"
   ]
  },
  {
   "cell_type": "markdown",
   "id": "7fd408cc",
   "metadata": {
    "id": "7fd408cc"
   },
   "source": [
    "Understand why statement succeeded or failed.\n",
    "\n",
    "We can print the value of a variable using the ```print()``` command:"
   ]
  },
  {
   "cell_type": "code",
   "execution_count": null,
   "id": "63c27212",
   "metadata": {
    "id": "63c27212"
   },
   "outputs": [],
   "source": [
    "print(weight_kg)"
   ]
  },
  {
   "cell_type": "markdown",
   "id": "01c48f8c",
   "metadata": {
    "id": "01c48f8c"
   },
   "source": [
    "### Exercise\n",
    "\n",
    "Create a new variable and assign it a value. Print the value of the variable."
   ]
  },
  {
   "cell_type": "code",
   "execution_count": null,
   "id": "f47fa5d2",
   "metadata": {
    "id": "af9b1c15"
   },
   "outputs": [],
   "source": []
  },
  {
   "cell_type": "markdown",
   "id": "d68902fc",
   "metadata": {
    "id": "d68902fc"
   },
   "source": [
    "# Types of data"
   ]
  },
  {
   "cell_type": "markdown",
   "id": "a81c7a1f",
   "metadata": {
    "id": "a81c7a1f"
   },
   "source": [
    "Python knows various types of data. Three common ones are:\n",
    "\n",
    "- integer numbers\n",
    "- floating point numbers, and\n",
    "- strings.\n",
    "\n",
    "In the example above, variable ```weight_kg``` has an integer value of 60. If we want to more precisely record the weight of our patient, we can use a floating point value by executing:"
   ]
  },
  {
   "cell_type": "code",
   "execution_count": null,
   "id": "e892a6f6",
   "metadata": {
    "id": "e892a6f6"
   },
   "outputs": [],
   "source": [
    "weight_kg = 60.3"
   ]
  },
  {
   "cell_type": "markdown",
   "id": "be90e8fc",
   "metadata": {
    "id": "be90e8fc"
   },
   "source": [
    "To create a string, we add single or double quotes around some text (quotes need to be paired however - single or double - no mixing). To identify a patient throughout our study, we can assign each person a unique identifier by storing it in a string:"
   ]
  },
  {
   "cell_type": "code",
   "execution_count": null,
   "id": "ba49cd01",
   "metadata": {
    "id": "ba49cd01"
   },
   "outputs": [],
   "source": [
    "patient_id = '001'"
   ]
  },
  {
   "cell_type": "markdown",
   "id": "d6065ff8",
   "metadata": {},
   "source": [
    "*Note that '001' is a string, not an integer.*"
   ]
  },
  {
   "cell_type": "markdown",
   "id": "c6dd6fa9",
   "metadata": {
    "id": "c6dd6fa9"
   },
   "source": [
    "### Exercise\n",
    "\n",
    "We can check the type of a variable using the ```type()``` command. Use it below to check the type of ```weight_kg``` and ```patient_id```. The first is done for you."
   ]
  },
  {
   "cell_type": "code",
   "execution_count": null,
   "id": "d74bfbad",
   "metadata": {
    "id": "d74bfbad"
   },
   "outputs": [],
   "source": [
    "print(type(weight_kg))"
   ]
  },
  {
   "cell_type": "markdown",
   "id": "dc865ff9",
   "metadata": {
    "id": "dc865ff9"
   },
   "source": [
    "# Using variables in Python"
   ]
  },
  {
   "cell_type": "markdown",
   "id": "26502954",
   "metadata": {
    "id": "26502954"
   },
   "source": [
    "Once we have data stored with variable names, we can make use of it in calculations. We may want to store our patient’s weight in pounds as well as kilograms:"
   ]
  },
  {
   "cell_type": "code",
   "execution_count": null,
   "id": "a24416bb",
   "metadata": {
    "id": "a24416bb"
   },
   "outputs": [],
   "source": [
    "weight_lb = 2.2 * weight_kg"
   ]
  },
  {
   "cell_type": "markdown",
   "id": "af7fb87a",
   "metadata": {
    "id": "af7fb87a"
   },
   "source": [
    "### Exercise\n",
    "\n",
    "Print the value of ```weight_lb```."
   ]
  },
  {
   "cell_type": "code",
   "execution_count": null,
   "id": "e40acba5",
   "metadata": {
    "id": "e40acba5"
   },
   "outputs": [],
   "source": []
  },
  {
   "cell_type": "markdown",
   "id": "bceadad2",
   "metadata": {
    "id": "bceadad2"
   },
   "source": [
    "We can also use some operators on strings. For example, strings can be concatenated together using the `+` operator:"
   ]
  },
  {
   "cell_type": "code",
   "execution_count": null,
   "id": "fee0f3bb",
   "metadata": {
    "id": "fee0f3bb"
   },
   "outputs": [],
   "source": [
    "patient_id = 'inflam_' + patient_id"
   ]
  },
  {
   "cell_type": "markdown",
   "id": "5931f34a",
   "metadata": {
    "id": "5931f34a"
   },
   "source": [
    "### Exercise\n",
    "\n",
    "Print the value of ```patient_id```."
   ]
  },
  {
   "cell_type": "code",
   "execution_count": null,
   "id": "3a8c470e",
   "metadata": {
    "id": "3a8c470e"
   },
   "outputs": [],
   "source": []
  },
  {
   "cell_type": "markdown",
   "id": "68d9e633",
   "metadata": {
    "id": "68d9e633"
   },
   "source": [
    "# More advanced printing"
   ]
  },
  {
   "cell_type": "markdown",
   "id": "11fb4267",
   "metadata": {
    "id": "11fb4267"
   },
   "source": [
    "We can print multiple items in one line:"
   ]
  },
  {
   "cell_type": "code",
   "execution_count": null,
   "id": "2ebe95ce",
   "metadata": {
    "id": "2ebe95ce"
   },
   "outputs": [],
   "source": [
    "print(patient_id, 'weight in kilograms:', weight_kg)"
   ]
  },
  {
   "cell_type": "markdown",
   "id": "4fe84de5",
   "metadata": {
    "id": "4fe84de5"
   },
   "source": [
    "Notice how a space is introduced between each value, and how `print()` inserts a newline character by default. We can also do arithmetic with variables whereever an expression is expected. For example, using the print function:"
   ]
  },
  {
   "cell_type": "code",
   "execution_count": null,
   "id": "7e7c0860",
   "metadata": {
    "id": "7e7c0860"
   },
   "outputs": [],
   "source": [
    "print('weight in pounds:', 2.2 * weight_kg)"
   ]
  },
  {
   "cell_type": "markdown",
   "id": "0ae8445c",
   "metadata": {
    "id": "0ae8445c"
   },
   "source": [
    "The above command, however, did not change the value of ```weight_kg```:"
   ]
  },
  {
   "cell_type": "code",
   "execution_count": null,
   "id": "329d0486",
   "metadata": {
    "id": "329d0486"
   },
   "outputs": [],
   "source": [
    "print(weight_kg)"
   ]
  },
  {
   "cell_type": "markdown",
   "id": "651e9a00",
   "metadata": {
    "id": "651e9a00"
   },
   "source": [
    "To change the value of the weight_kg variable, we have to assign weight_kg a new value using the equals = sign:"
   ]
  },
  {
   "cell_type": "code",
   "execution_count": null,
   "id": "d7875c59",
   "metadata": {
    "id": "d7875c59"
   },
   "outputs": [],
   "source": [
    "weight_kg = 65.0\n",
    "print('weight in kilograms is now:', weight_kg)"
   ]
  },
  {
   "cell_type": "markdown",
   "id": "cee92973",
   "metadata": {
    "id": "cee92973"
   },
   "source": [
    "# Key Points\n",
    "\n",
    "- Basic data types in Python include integers, strings, and floating-point numbers.\n",
    "\n",
    "- Use ```variable = value``` to assign a value to a variable in order to record it in memory.\n",
    "\n",
    "- Variables are created on demand whenever a value is assigned to them, with variable type matching assigned value.\n",
    "\n",
    "- Use ```print(something)``` to display the value of ```something```."
   ]
  },
  {
   "cell_type": "markdown",
   "id": "df875d84",
   "metadata": {
    "id": "df875d84"
   },
   "source": [
    "# Exercises"
   ]
  },
  {
   "cell_type": "markdown",
   "id": "dcee68c4",
   "metadata": {
    "id": "dcee68c4"
   },
   "source": [
    "### Calculate area and circumference of a circle\n",
    "\n",
    "Given"
   ]
  },
  {
   "cell_type": "code",
   "execution_count": null,
   "id": "8d0fe957",
   "metadata": {
    "id": "8d0fe957"
   },
   "outputs": [],
   "source": [
    "pi = 3.1415\n",
    "r = 10.5"
   ]
  },
  {
   "cell_type": "markdown",
   "id": "b6eb8505",
   "metadata": {
    "id": "b6eb8505"
   },
   "source": [
    "calculate the area and circumference of a circle with radius `r`. You can use the exponentiation operator `**`. Print a description of your results."
   ]
  },
  {
   "cell_type": "code",
   "execution_count": null,
   "id": "c6aff255",
   "metadata": {
    "id": "c6aff255"
   },
   "outputs": [],
   "source": []
  },
  {
   "cell_type": "markdown",
   "id": "b8a649ab",
   "metadata": {
    "id": "b8a649ab"
   },
   "source": [
    "### Print a self-introduction"
   ]
  },
  {
   "cell_type": "markdown",
   "id": "51b7c862",
   "metadata": {
    "id": "51b7c862"
   },
   "source": [
    "Create a new cell before the one below, and define the needed variables so that the code below runs.\n",
    "\n",
    "*Hint:* typing keys `ESC` followed by `h` will give you help on all Jypyter Notebook shortcuts."
   ]
  },
  {
   "cell_type": "code",
   "execution_count": null,
   "id": "3ba24e44",
   "metadata": {
    "id": "3ba24e44",
    "scrolled": true
   },
   "outputs": [],
   "source": [
    "print('Hello, my name is', my_name, 'and I attend', my_university, '.')"
   ]
  },
  {
   "cell_type": "markdown",
   "id": "ll0f5C7ytOSz",
   "metadata": {
    "id": "ll0f5C7ytOSz"
   },
   "source": [
    "## Python lists\n",
    "We create a list by putting values inside square brackets and separating the values with commas:"
   ]
  },
  {
   "cell_type": "code",
   "execution_count": null,
   "id": "NDrTk1bFtOS0",
   "metadata": {
    "id": "NDrTk1bFtOS0"
   },
   "outputs": [],
   "source": [
    "odds = [1, 3, 5, 7]\n",
    "print('odds are:', odds)"
   ]
  },
  {
   "cell_type": "markdown",
   "id": "f940878b",
   "metadata": {
    "id": "f940878b"
   },
   "source": [
    "We can access elements of a list using indices – numbered positions of elements in the list. These positions are numbered starting at 0, so the first element has an index of 0."
   ]
  },
  {
   "cell_type": "code",
   "execution_count": null,
   "id": "7b05376d",
   "metadata": {
    "id": "7b05376d"
   },
   "outputs": [],
   "source": [
    "print('first element:', odds[0])\n",
    "print('last element:', odds[3])\n",
    "print('\"-1\" element:', odds[-1])"
   ]
  },
  {
   "cell_type": "markdown",
   "id": "50fbf43a",
   "metadata": {
    "id": "50fbf43a"
   },
   "source": [
    "Yes, we can use negative numbers as indices in Python. When we do so, the index ```-1``` gives us the last element in the list, ```-2``` the second to last, and so on. Because of this, ```odds[3]``` and ```odds[-1]``` point to the same element here."
   ]
  },
  {
   "cell_type": "markdown",
   "id": "ea64d46f",
   "metadata": {
    "id": "ea64d46f"
   },
   "source": [
    "### Exercise\n",
    "\n",
    "Create a list of each of the planets in our solar system ordered by distance from the sun (from least to greatest). Print the third planet in the list. \n",
    "\n",
    "*Hint:* The third planet is Earth. If you got Mars, go back and read the section above again carefully."
   ]
  },
  {
   "cell_type": "code",
   "execution_count": null,
   "id": "12024d2a",
   "metadata": {
    "id": "12024d2a"
   },
   "outputs": [],
   "source": []
  },
  {
   "cell_type": "markdown",
   "id": "fda24ff4",
   "metadata": {},
   "source": [
    "### Exercise\n",
    "\n",
    "What is the difference between `odds[0]` and `[0]`?"
   ]
  },
  {
   "cell_type": "markdown",
   "id": "f57fbe6a",
   "metadata": {
    "id": "f57fbe6a"
   },
   "source": [
    "# Modifying lists\n",
    "\n",
    "We can change individual list elements:"
   ]
  },
  {
   "cell_type": "code",
   "execution_count": null,
   "id": "1f3ed3dc",
   "metadata": {
    "id": "1f3ed3dc"
   },
   "outputs": [],
   "source": [
    "names = ['Curie', 'Darwing', 'Turing']  # typo in Darwin's name\n",
    "print('names is originally:', names)\n",
    "names[1] = 'Darwin'  # correct the name\n",
    "print('final value of names:', names)"
   ]
  },
  {
   "cell_type": "markdown",
   "id": "6ee6db09",
   "metadata": {
    "id": "6ee6db09"
   },
   "source": [
    "We can also add elements to an existing list:"
   ]
  },
  {
   "cell_type": "code",
   "execution_count": null,
   "id": "5b8bfd2a",
   "metadata": {
    "id": "5b8bfd2a"
   },
   "outputs": [],
   "source": [
    "names.append('Einstein')\n",
    "print(names)"
   ]
  },
  {
   "cell_type": "markdown",
   "id": "cea547df",
   "metadata": {
    "id": "cea547df"
   },
   "source": [
    "Or combine two existing lists:"
   ]
  },
  {
   "cell_type": "code",
   "execution_count": null,
   "id": "b23388cf",
   "metadata": {
    "id": "b23388cf"
   },
   "outputs": [],
   "source": [
    "warm_colors = ['red', 'orange', 'yellow']\n",
    "cold_colors = ['green', 'blue', 'purple']\n",
    "combined_colors = warm_colors + cold_colors"
   ]
  },
  {
   "cell_type": "markdown",
   "id": "778fd2f0",
   "metadata": {
    "id": "778fd2f0"
   },
   "source": [
    "### Exercise\n",
    "\n",
    "Predict the what ```combined_colors``` will return, then print it to see if you were correct."
   ]
  },
  {
   "cell_type": "code",
   "execution_count": null,
   "id": "dab8769d",
   "metadata": {
    "id": "dab8769d"
   },
   "outputs": [],
   "source": []
  },
  {
   "cell_type": "markdown",
   "id": "going-network",
   "metadata": {
    "id": "going-network"
   },
   "source": [
    "### Conditional statements: if, elif, else\n",
    "\n",
    "The Python syntax for conditional execution of code uses the keywords `if`, `elif` (else if), and `else`:\n",
    " \n",
    "```python\n",
    "if condition1:\n",
    "    print(\"condition1 is True\")  \n",
    "elif condition2:\n",
    "    print(\"condition2 is True\")\n",
    "else:\n",
    "    print(\"condition1 and condition2 are False\")\n",
    "```\n",
    "`if` statements don't decide on skipping or running the entire code. They only make decisions about the code block below it. Python uses the colon symbol (:) and indentation for showing where blocks of code begin and end.\n",
    "\n",
    "The conditions are Boolean expressions in which logical operators `and`, `or`, and `not` can be used.\n",
    "\n",
    "The language also contains two default constants: `True` and `False`."
   ]
  },
  {
   "cell_type": "code",
   "execution_count": null,
   "id": "processed-drove",
   "metadata": {
    "id": "processed-drove"
   },
   "outputs": [],
   "source": [
    "t = True\n",
    "f = False\n",
    "print(type(t))"
   ]
  },
  {
   "cell_type": "code",
   "execution_count": null,
   "id": "coastal-relaxation",
   "metadata": {
    "id": "coastal-relaxation"
   },
   "outputs": [],
   "source": [
    "print(t and f) # Logical AND;\n",
    "print(t or f)  # Logical OR;\n",
    "print(not t)   # Logical NOT;\n",
    "print(t != f)  # Not equal. This can also be used for comparing integers or strings. Equivalent to XOR for two binary variables."
   ]
  },
  {
   "cell_type": "code",
   "execution_count": null,
   "id": "superb-poker",
   "metadata": {
    "id": "superb-poker"
   },
   "outputs": [],
   "source": [
    "if True:\n",
    "    print(\"Yes\")"
   ]
  },
  {
   "cell_type": "code",
   "execution_count": null,
   "id": "functional-compression",
   "metadata": {
    "id": "functional-compression"
   },
   "outputs": [],
   "source": [
    "if False:\n",
    "    print(\"No\")"
   ]
  },
  {
   "cell_type": "markdown",
   "id": "olive-championship",
   "metadata": {
    "id": "olive-championship"
   },
   "source": [
    "Python comparison operators can be used for comparing values in the conditionals. But beware:\n",
    "- a single equals sign `=` is used to assign values;\n",
    "- a double equals sign `==` is used to test for equality."
   ]
  },
  {
   "cell_type": "code",
   "execution_count": null,
   "id": "global-stack",
   "metadata": {
    "id": "global-stack"
   },
   "outputs": [],
   "source": [
    "a = 10\n",
    "b = 0\n",
    "\n",
    "print(a == b) # equal to\n",
    "print(a != b) # is not equal to \n",
    "print(a > b)\n",
    "print(a >= b)\n",
    "print(a < b)\n",
    "print(a <= b)"
   ]
  },
  {
   "cell_type": "code",
   "execution_count": null,
   "id": "stainless-delhi",
   "metadata": {
    "id": "stainless-delhi"
   },
   "outputs": [],
   "source": [
    "print('ex1 : ', 3 + 12 > 7 + 3)\n",
    "print('ex2 : ', 5 + 10 * 3 > 7 + 3 * 20)\n",
    "print('ex3 : ', 5 + 10 > 3 and 7 + 3 == 10)\n",
    "print('ex4 : ', 5 + 10 > 0 and not 7 + 3 == 10)"
   ]
  },
  {
   "cell_type": "markdown",
   "id": "-7-xu-9CtOS3",
   "metadata": {
    "id": "-7-xu-9CtOS3"
   },
   "source": [
    "### Exercise\n",
    "Write a conditional statement below that prints YAY! if the number is greater than or equal to 90, MEH, if the number is between 80 and 90, or BOO! if the number is less than or equal to 80."
   ]
  },
  {
   "cell_type": "code",
   "execution_count": null,
   "id": "A8pWGDvOtOS3",
   "metadata": {
    "id": "A8pWGDvOtOS3"
   },
   "outputs": [],
   "source": []
  },
  {
   "cell_type": "markdown",
   "id": "fantastic-cleaner",
   "metadata": {
    "id": "fantastic-cleaner"
   },
   "source": [
    "## Loops"
   ]
  },
  {
   "cell_type": "markdown",
   "id": "killing-basic",
   "metadata": {
    "id": "killing-basic"
   },
   "source": [
    "### **`for` loops**:\n",
    "\n",
    "In Python, loops can be programmed in a number of different ways. The most common is the `for` loop, which is used together with iterable objects, such as lists. The basic syntax is:\n",
    "\n",
    "```python\n",
    "a = [1, 2, 4, 3, 5]\n",
    "for i in a:\n",
    "    print (i, i * 2)\n",
    "```\n",
    "\n",
    "The `for` loop iterates over the elements of the supplied list, and sequentially executes the containing block once for each element. Any kind of list can be used in the `for` loop. For example, we can use lists or use the `range()` function:"
   ]
  },
  {
   "cell_type": "code",
   "execution_count": null,
   "id": "covered-pickup",
   "metadata": {
    "id": "covered-pickup"
   },
   "outputs": [],
   "source": [
    "# Using the range() function\n",
    "for v1 in range(10): # by default range start at 0\n",
    "    print(\"v1 is :\", v1)"
   ]
  },
  {
   "cell_type": "code",
   "execution_count": null,
   "id": "figured-bobby",
   "metadata": {
    "id": "figured-bobby"
   },
   "outputs": [],
   "source": [
    "for v2 in range(-1, 11, 2):\n",
    "    print(\"v2 is :\", v2)"
   ]
  },
  {
   "cell_type": "code",
   "execution_count": null,
   "id": "useful-liechtenstein",
   "metadata": {
    "id": "useful-liechtenstein",
    "scrolled": true
   },
   "outputs": [],
   "source": [
    "# Using a list\n",
    "lotto_numbers = [11, 19, 21, 28, 36, 37]\n",
    "\n",
    "print(\"Your number:\")\n",
    "for number in lotto_numbers:\n",
    "    print(number)"
   ]
  },
  {
   "cell_type": "code",
   "execution_count": null,
   "id": "distant-updating",
   "metadata": {
    "id": "distant-updating"
   },
   "outputs": [],
   "source": [
    "# Using a string\n",
    "name = 'KennRY'\n",
    "\n",
    "for n in name:\n",
    "    if n.isupper():\n",
    "        print(n)\n",
    "    else:\n",
    "        print(n.upper())"
   ]
  },
  {
   "cell_type": "markdown",
   "id": "drawn-hollow",
   "metadata": {
    "id": "drawn-hollow"
   },
   "source": [
    "The function `enumerate` can provide the index and element of a list while iterating through a sequence."
   ]
  },
  {
   "cell_type": "code",
   "execution_count": null,
   "id": "plastic-michigan",
   "metadata": {
    "id": "plastic-michigan"
   },
   "outputs": [],
   "source": [
    "names = [\"Targaryen\", \"Stark\", \"Lannister\", \"Arryn\", \"Tully\", \"Greyjoy\", \"Baratheon\", \"Tyrell\"]\n",
    "\n",
    "for i, name in enumerate(names):\n",
    "    print(i, name)"
   ]
  },
  {
   "cell_type": "markdown",
   "id": "QeQagMwWtOS5",
   "metadata": {
    "id": "QeQagMwWtOS5"
   },
   "source": [
    "### Exercise:\n",
    "\n",
    "Use a `for` loop to compute the sum of all the numbers from 7 to 147."
   ]
  },
  {
   "cell_type": "code",
   "execution_count": null,
   "id": "V1YUTJD-tOS5",
   "metadata": {
    "id": "V1YUTJD-tOS5"
   },
   "outputs": [],
   "source": []
  },
  {
   "cell_type": "markdown",
   "id": "rough-import",
   "metadata": {
    "id": "rough-import"
   },
   "source": [
    "### **`while` loops**:\n",
    "The `while` loop executes a set of statements as long as a condition is true. The basic syntax is:\n",
    "\n",
    "```python\n",
    "val = 1\n",
    "while val < 11:\n",
    "    print(val)\n",
    "    val += 1\n",
    "```"
   ]
  },
  {
   "cell_type": "code",
   "execution_count": null,
   "id": "religious-blanket",
   "metadata": {
    "id": "religious-blanket"
   },
   "outputs": [],
   "source": [
    "sum1 = 0\n",
    "cnt1 = 1\n",
    "\n",
    "while cnt1 <= 100:\n",
    "    sum1 += cnt1\n",
    "    cnt1 += 1\n",
    "    \n",
    "print('The sum of all natural numbers from 1 to 100 : ', sum1)\n",
    "print('The sum of all natural numbers from 1 to 100 : ', sum(range(1, 101)))  "
   ]
  },
  {
   "cell_type": "code",
   "execution_count": null,
   "id": "spare-reproduction",
   "metadata": {
    "id": "spare-reproduction",
    "scrolled": true
   },
   "outputs": [],
   "source": [
    "val = 10\n",
    "\n",
    "while val >0:\n",
    "    if val %2 == 0 :\n",
    "        print(val)\n",
    "    val -= 1"
   ]
  },
  {
   "cell_type": "markdown",
   "id": "living-assistant",
   "metadata": {
    "id": "living-assistant"
   },
   "source": [
    "### Exercise\n",
    "\n",
    "Use `while` loop and print all odd numbers between 100 and 110."
   ]
  },
  {
   "cell_type": "code",
   "execution_count": null,
   "id": "outstanding-zealand",
   "metadata": {
    "id": "outstanding-zealand"
   },
   "outputs": [],
   "source": []
  }
 ],
 "metadata": {
  "colab": {
   "collapsed_sections": [],
   "provenance": []
  },
  "kernelspec": {
   "display_name": "Python 3 (ipykernel)",
   "language": "python",
   "name": "python3"
  },
  "language_info": {
   "codemirror_mode": {
    "name": "ipython",
    "version": 3
   },
   "file_extension": ".py",
   "mimetype": "text/x-python",
   "name": "python",
   "nbconvert_exporter": "python",
   "pygments_lexer": "ipython3",
   "version": "3.11.4"
  }
 },
 "nbformat": 4,
 "nbformat_minor": 5
}
