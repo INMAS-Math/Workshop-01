{
 "cells": [
  {
   "cell_type": "markdown",
   "metadata": {
    "id": "POKNwSo25nzO"
   },
   "source": [
    "<img src=\"images/Picture0.png\" width=200x />\n",
    "\n",
    "# Notebook 11 -  Visualization with Matplotlib\n",
    "\n",
    "In this notebook we will learn how to visualize data using the Matplotlib module. \n",
    "\n",
    "You’ll learn how to present your data visually using the following graphs:\n",
    "\n",
    "- Box plots\n",
    "- Histograms\n",
    "- Pie charts\n",
    "- Bar charts\n",
    "\n",
    "You'll also learn how to create figures with multiple plots.\n",
    "\n",
    "**Note:** This section focuses on representing data and keeps stylistic settings to a minimum. [Here is a link](https://matplotlib.org/stable/api/pyplot_summary.html#basic) to the official documentation for used routines from `matplotlib.pyplot`, so you can explore the options that you won’t see here.\n",
    "\n",
    "### Credits\n",
    "\n"
   ]
  },
  {
   "cell_type": "code",
   "execution_count": null,
   "metadata": {
    "id": "bt8_ZGsZ5slf"
   },
   "outputs": [],
   "source": [
    "import numpy as np\n",
    "import matplotlib.pyplot as plt"
   ]
  },
  {
   "cell_type": "markdown",
   "metadata": {
    "id": "2biiSRus8ST9"
   },
   "source": [
    "## Figures\n",
    "What if we wanted multiple plots? This is where figures help us. A figure is a diagram or a shape that can be formed by a collection of plots in different dimensions. You can think of the figure object as a canvas that holds all the subplots and other plot elements inside it. A figure can have one or more subplots inside it called axes, arranged in rows and columns. Every figure has at least one axes.\n",
    "\n",
    "First let's look at a simple figure."
   ]
  },
  {
   "cell_type": "code",
   "execution_count": null,
   "metadata": {
    "id": "cDGewqD98XqQ"
   },
   "outputs": [],
   "source": [
    "# Create Figure and Subplots\n",
    "fig, ax1 = plt.subplots() \n",
    "\n",
    "# Plot\n",
    "ax1.scatter([1,2,3,4,5], [1,2,3,4,10], color= 'purple', marker= '*') #scatter plot \n",
    "\n",
    "# Title, x and y labels, x and y limits\n",
    "ax1.set_title('Scatterplot Purple Stars')\n",
    "ax1.set_xlabel('x')  # x label\n",
    "ax1.set_ylabel('y') # y label\n",
    "ax1.set_xlim(0, 6)   # x axis limits\n",
    "ax1.set_ylim(0, 12)  # y axis limits\n",
    "\n",
    "plt.show()"
   ]
  },
  {
   "cell_type": "markdown",
   "metadata": {
    "id": "qPAjvP408XTu"
   },
   "source": [
    "We use `plt.subplots()` to create a figure that contains a plot. This creates and returns two objects:\n",
    "- the figure \n",
    "- the axes (subplots) inside the figure\n",
    "\n",
    "I called `plt.scatter()` to draw the points. Since there was only one axes by default, it drew the points on that axes itself.\n",
    "\n",
    "Note how now in order to add title and labels we have different methods that are applied to the specific axes: \n",
    "- `.set_title()`\n",
    "- `.set_ylabel()`\n",
    "- `.set_xlabel()`\n",
    "\n",
    "Suppose, I want to draw our two sets of points (purple starts and orange circles) in two separate plots side-by-side instead of the same plot. How would you do that?\n",
    "\n",
    "You can do that by creating two separate subplots, aka, axes using `plt.subplots(1, 2)`. \n",
    "\n",
    "### Exercise\n",
    "- Create a figure with two plots\n",
    "- In the first plot, recreate the plot from above.\n",
    "- In the second graph, plot a line with orange circles.\n",
    "- Remember to label everything! \n",
    "\n"
   ]
  },
  {
   "cell_type": "code",
   "execution_count": null,
   "metadata": {
    "id": "wJDcbFom-kLi"
   },
   "outputs": [],
   "source": [
    "fig, (ax1, ax2) = plt.subplots(1, 2)\n",
    "# Add code here!"
   ]
  },
  {
   "cell_type": "markdown",
   "metadata": {
    "id": "woS-WIqU_V8l"
   },
   "source": [
    "Mmmmm... That's a very small graph... We can use `figsize=(10,4)` as one of the `plt.subplots()` arguments to change the size. \n",
    "\n",
    "### Exercise\n",
    "- Add `figsize=(10,4)` to the arguments of `plt.subplots()` to change the figure size. \n",
    "- Play around with it! "
   ]
  },
  {
   "cell_type": "code",
   "execution_count": null,
   "metadata": {
    "id": "GqZotTPhACb2"
   },
   "outputs": [],
   "source": []
  },
  {
   "cell_type": "markdown",
   "metadata": {
    "id": "kuY2NvaY_2AU"
   },
   "source": [
    "### Exercise\n",
    "\n",
    "What if you wanted 2 rows and 1 column? What would you have to change? "
   ]
  },
  {
   "cell_type": "code",
   "execution_count": null,
   "metadata": {
    "id": "ffy86uRRAC4A"
   },
   "outputs": [],
   "source": []
  },
  {
   "cell_type": "markdown",
   "metadata": {
    "id": "wIJEyxEAAO_q"
   },
   "source": [
    "## Saving a Figure\n",
    "\n",
    "You can easily save a figure to, for example, a .png file by making use of `plt.savefig()`. The file will be saved wherever you are working on your computer. The only argument you need to pass to this function is the file name, just like in this example:\n",
    "\n"
   ]
  },
  {
   "cell_type": "code",
   "execution_count": null,
   "metadata": {
    "id": "OMWT5eYRAaVT"
   },
   "outputs": [],
   "source": [
    "# Create Figure and Subplots\n",
    "fig, ax1 = plt.subplots() \n",
    "\n",
    "# Plot\n",
    "ax1.scatter([1,2,3,4,5], [1,2,3,4,10], color= 'purple', marker= '*') #scatter plot \n",
    "\n",
    "# Title, x and y labels, x and y limits\n",
    "ax1.set_title('Scatterplot Purple Stars')\n",
    "ax1.set_xlabel('x')  # x label\n",
    "ax1.set_ylabel('y') # y label\n",
    "ax1.set_xlim(0, 6)   # x axis limits\n",
    "ax1.set_ylim(0, 12)  # y axis limits\n",
    "\n",
    "plt.savefig(\"myfig.png\")\n",
    "\n",
    "plt.show()"
   ]
  },
  {
   "cell_type": "markdown",
   "metadata": {
    "id": "LIyPlHtOAuDk"
   },
   "source": [
    "## Visualizing Data"
   ]
  },
  {
   "cell_type": "markdown",
   "metadata": {
    "id": "5Ero1ICB6iK6"
   },
   "source": [
    "Let's generate some arrays:"
   ]
  },
  {
   "cell_type": "code",
   "execution_count": null,
   "metadata": {
    "id": "MPR-Ka7_6MhB"
   },
   "outputs": [],
   "source": [
    "x = np.random.randn(1000)\n",
    "y = np.random.randn(100)\n",
    "z = np.random.randn(10)"
   ]
  },
  {
   "cell_type": "markdown",
   "metadata": {
    "id": "uGF2QNRb7R6L"
   },
   "source": [
    "### Boxplot"
   ]
  },
  {
   "cell_type": "code",
   "execution_count": null,
   "metadata": {
    "id": "9_Ub0io06xK7"
   },
   "outputs": [],
   "source": [
    "fig, ax = plt.subplots()\n",
    "ax.boxplot((x, y, z), vert=False, showmeans=True, meanline=True,\n",
    "           labels=('x', 'y', 'z'), patch_artist=True,\n",
    "           medianprops={'linewidth': 2, 'color': 'purple'},\n",
    "           meanprops={'linewidth': 2, 'color': 'red'})\n",
    "plt.show()"
   ]
  },
  {
   "cell_type": "markdown",
   "metadata": {
    "id": "TkB2ojbd728L"
   },
   "source": [
    "The parameters of `.boxplot()` define the following:\n",
    "\n",
    "- **x:** is your data.\n",
    "- **vert:** sets the plot orientation to horizontal when False. The default orientation is vertical.\n",
    "- **showmeans**: shows the mean of your data when True.\n",
    "- **meanline:** represents the mean as a line when True. The default representation is a point.\n",
    "- **labels:** the labels of your data.\n",
    "- **patch_artist:** determines how to draw the graph.\n",
    "- **medianprops:** denotes the properties of the line representing the median.\n",
    "- **meanprops:** indicates the properties of the line or dot representing the mean.\n",
    "\n",
    "There are other parameters, but their analysis is beyond the scope of this tutorial.\n",
    "\n",
    "You can see three box plots. Each of them corresponds to a single dataset (x, y, or z) and show the following:\n",
    "\n",
    "- The **mean** is the red dashed line.\n",
    "- The **median** is the purple line.\n",
    "- The **first quartile** is the left edge of the blue rectangle.\n",
    "- The **third quartile** is the right edge of the blue rectangle.\n",
    "- The **interquartile range** is the length of the blue rectangle.\n",
    "- The **range** contains everything from left to right.\n",
    "- The **outliers** are the dots to the left and right.\n",
    "\n",
    "A box plot can show so much information in a single figure!"
   ]
  },
  {
   "cell_type": "markdown",
   "metadata": {
    "id": "GnbmTeBeCAfy"
   },
   "source": [
    "### Histograms\n",
    "\n",
    "Histograms are particularly useful when there are a large number of unique values in a dataset. The histogram divides the values from a sorted dataset into intervals, also called **bins**. Often, all bins are of equal width, though this doesn’t have to be the case. The values of the lower and upper bounds of a bin are called the **bin edges**.\n",
    "\n",
    "\n",
    "The **frequency** is a single value that corresponds to each bin. It’s the number of elements of the dataset with the values between the edges of the bin. By convention, all bins but the rightmost one are half-open. They include the values equal to the lower bounds, but exclude the values equal to the upper bounds. The rightmost bin is closed because it includes both bounds. If you divide a dataset with the bin edges 0, 5, 10, and 15, then there are three bins:\n",
    "\n",
    "- The first and leftmost bin contains the values greater than or equal to 0 and less than 5.\n",
    "- The second bin contains the values greater than or equal to 5 and less than 10.\n",
    "- The third and rightmost bin contains the values greater than or equal to 10 and less than or equal to 15.\n",
    "\n",
    "The function `np.histogram()` is a convenient way to get data for histograms:"
   ]
  },
  {
   "cell_type": "code",
   "execution_count": null,
   "metadata": {
    "id": "9c-Mge2S7X7h"
   },
   "outputs": [],
   "source": [
    "hist, bin_edges = np.histogram(x, bins=10)"
   ]
  },
  {
   "cell_type": "code",
   "execution_count": null,
   "metadata": {
    "id": "PGUD7-EhCogW"
   },
   "outputs": [],
   "source": [
    "hist"
   ]
  },
  {
   "cell_type": "code",
   "execution_count": null,
   "metadata": {
    "id": "0uZ8JcbiCrAl"
   },
   "outputs": [],
   "source": [
    "bin_edges"
   ]
  },
  {
   "cell_type": "markdown",
   "metadata": {
    "id": "bFLeRdS_FqSd"
   },
   "source": [
    "It takes the array with your data and the number (or edges) of bins and returns two NumPy arrays:\n",
    "\n",
    "- hist contains the frequency or the number of items corresponding to each bin\n",
    "- bin_edges contains the edges or bounds of the bin\n",
    "\n",
    "Let's make a histogram using `.hist()`"
   ]
  },
  {
   "cell_type": "code",
   "execution_count": null,
   "metadata": {
    "id": "Lbdyx2zkCsKI"
   },
   "outputs": [],
   "source": [
    "fig, ax = plt.subplots()\n",
    "ax.hist(x, bin_edges, cumulative=False)\n",
    "ax.set_title('Histogram')\n",
    "ax.set_xlabel('x')\n",
    "ax.set_ylabel('Frequency')\n",
    "plt.show()"
   ]
  },
  {
   "cell_type": "markdown",
   "metadata": {
    "id": "44yzf25ZGCfW"
   },
   "source": [
    "### Pie Charts\n",
    "Pie charts represent data with a small number of labels and given relative frequencies. They work well even with the labels that can’t be ordered (like nominal data).\n",
    "\n",
    "Let’s define data associated to three labels:"
   ]
  },
  {
   "cell_type": "code",
   "execution_count": null,
   "metadata": {
    "id": "wFYlohwcF2g5"
   },
   "outputs": [],
   "source": [
    "x, y, z = 128, 256, 1024"
   ]
  },
  {
   "cell_type": "markdown",
   "metadata": {
    "id": "pWH2Ov29GbOC"
   },
   "source": [
    "Let's create a pie chart with `.pie()`"
   ]
  },
  {
   "cell_type": "code",
   "execution_count": null,
   "metadata": {
    "id": "ZeO69-NMGTix"
   },
   "outputs": [],
   "source": [
    "fig, ax = plt.subplots()\n",
    "ax.pie((x, y, z), labels=('x', 'y', 'z'), autopct='%1.1f%%')\n",
    "ax.set_title('Pie Chart')\n",
    "plt.show()"
   ]
  },
  {
   "cell_type": "markdown",
   "metadata": {
    "id": "JHsSfg8qGsJW"
   },
   "source": [
    "**Note:**`autopct` defines the format of the relative frequencies shown on the figure. "
   ]
  },
  {
   "cell_type": "markdown",
   "metadata": {
    "id": "IIK5kGixHNS7"
   },
   "source": [
    "\n",
    "### Bar Charts\n",
    "\n",
    "Bar charts also illustrate data that correspond to given labels or discrete numeric values. They can show the pairs of data from two datasets. Items of one set are the labels, while the corresponding items of the other are their frequencies. Optionally, they can show the errors related to the frequencies, as well.\n",
    "\n",
    "The bar chart shows parallel rectangles called bars. Each bar corresponds to a single label and has a height proportional to the frequency or relative frequency of its label. "
   ]
  },
  {
   "cell_type": "code",
   "execution_count": null,
   "metadata": {
    "id": "Lxn99qKPGhCs"
   },
   "outputs": [],
   "source": [
    "x = np.arange(21)\n",
    "y = np.random.randint(21, size=21)"
   ]
  },
  {
   "cell_type": "markdown",
   "metadata": {
    "id": "FIpKrrOmHhrh"
   },
   "source": [
    "We can create a bar chart using the function `.bar()`"
   ]
  },
  {
   "cell_type": "code",
   "execution_count": null,
   "metadata": {
    "id": "8ZywJhxHHedA"
   },
   "outputs": [],
   "source": [
    "fig, ax = plt.subplots()\n",
    "ax.bar(x, y)\n",
    "ax.set_xlabel('x')\n",
    "ax.set_ylabel('y')\n",
    "plt.show()"
   ]
  },
  {
   "cell_type": "markdown",
   "metadata": {
    "id": "fnJnlzORIxB0"
   },
   "source": [
    "What if we have categorical data? We can visualize it using bar charts as well! "
   ]
  },
  {
   "cell_type": "code",
   "execution_count": null,
   "metadata": {
    "id": "2XFDMoOyHoMY"
   },
   "outputs": [],
   "source": [
    "animals = ['Lions', 'Elephants', 'Birds', 'Sloths', 'Monkeys']\n",
    "amounts = [23,17,35,29,12]\n",
    "\n",
    "fig, ax= plt.subplots()\n",
    "ax.bar(animals, amounts)\n",
    "ax.set_title('Amount of Animals in the Zoo')\n",
    "plt.show()"
   ]
  },
  {
   "cell_type": "markdown",
   "metadata": {
    "id": "ynpN686CJQas"
   },
   "source": [
    "What if you wanted different colors for each bar? \n",
    "\n",
    "\n",
    "### Exercise\n",
    "- Create an array with the colors you want each animal to have. Note that it should go in the same order as your animal array! \n",
    "- Where do you include this array in your bar chart script? "
   ]
  },
  {
   "cell_type": "code",
   "execution_count": null,
   "metadata": {
    "id": "GlHHJO3GI3jz"
   },
   "outputs": [],
   "source": []
  },
  {
   "cell_type": "code",
   "execution_count": null,
   "metadata": {
    "id": "sSC4XsCnJmXC"
   },
   "outputs": [],
   "source": []
  },
  {
   "cell_type": "markdown",
   "metadata": {},
   "source": [
    "<hr>\n",
    "<font face=\"verdana\" style=\"font-size:30px\" color=\"blue\">---------- Optional Advanced Material ----------</font>"
   ]
  },
  {
   "cell_type": "markdown",
   "metadata": {
    "id": "wiek7bcNJ7nB"
   },
   "source": [
    "We can plot multiple bar charts by playing with the thickness and the positions of the bars. The data variable contains three series of four values. The following script will show three bar charts of four bars. The bars will have a thickness of 0.25 units. Each bar chart will be shifted 0.25 units from the previous one. The data object is a nested list containing number of candy sold each year.\n",
    "\n",
    "Note how I now have added a new function called `plt.xticks()`. This function will change the x-values ticks, I have told the function that I want 4 ticks, and then put the names of each tick in order."
   ]
  },
  {
   "cell_type": "code",
   "execution_count": null,
   "metadata": {
    "id": "lfOsR9LjJvy7"
   },
   "outputs": [],
   "source": [
    "data = [[30, 25, 50, 20],\n",
    "[40, 23, 51, 17],\n",
    "[35, 22, 45, 19]]\n",
    "X = np.arange(4)\n",
    "plt.bar(X + 0.00, data[0], width = 0.25, label= 'Lollipops' , color=\"pink\")\n",
    "plt.bar(X + 0.25, data[1], width = 0.25, label= 'Chocolate', color=\"brown\")\n",
    "plt.bar(X + 0.50, data[2], width = 0.25, label= 'Gummies', color='yellow')\n",
    "plt.title('Candy sold from 2017-2020')\n",
    "plt.xticks(X+0.25, ('2017','2018', '2019', '2020')) \n",
    "plt.legend()\n",
    "plt.show()"
   ]
  },
  {
   "cell_type": "markdown",
   "metadata": {
    "id": "qmgl92WwKWXS"
   },
   "source": [
    "### Exercise\n",
    "\n",
    "Using Numpy create an array that has 5 rows and 3 columns with random numbers in the interval  [30,60]. Each row represents a color and each column represents a flower.\n",
    "\n",
    "- Rows:\n",
    "  - Row 1: Orange\n",
    "  - Row 2: Purple\n",
    "  - Row 3: Green\n",
    "- Columns:\n",
    "  - Column 1: Orchids\n",
    "  - Column 2: Tulips\n",
    "  - Column 3: Daisies\n",
    "  - Column 4: Roses\n",
    "  - Column 5: Poppies\n",
    "\n",
    "1. Make a pie chart that represents the percentage of each color of flowers. Each slice should have the actual color of the flowers, i.e. the slice of percentage of orange flowers should be orange. Make sure to include title and labels.\n",
    "\n",
    "2. Make a bar chart to visualize the amount of flowers of each color. You should have 5 ticks in your x-axis, each with the name of the flower. Each tick should have 3 bars, each bar representing the amount of flowers with a specific color with. The color of each bar should match the color of the flower. Make sure to include title, labels, correct limits."
   ]
  },
  {
   "cell_type": "code",
   "execution_count": null,
   "metadata": {
    "id": "7wWsP4xVM_i-"
   },
   "outputs": [],
   "source": []
  },
  {
   "cell_type": "code",
   "execution_count": null,
   "metadata": {
    "id": "poeNSC-_OVRg"
   },
   "outputs": [],
   "source": []
  },
  {
   "cell_type": "code",
   "execution_count": null,
   "metadata": {
    "id": "SXrGBYHtOVFQ"
   },
   "outputs": [],
   "source": []
  },
  {
   "cell_type": "code",
   "execution_count": null,
   "metadata": {
    "id": "PkkQi6-_OU3V"
   },
   "outputs": [],
   "source": []
  }
 ],
 "metadata": {
  "colab": {
   "collapsed_sections": [],
   "provenance": []
  },
  "kernelspec": {
   "display_name": "Python 3 (ipykernel)",
   "language": "python",
   "name": "python3"
  },
  "language_info": {
   "codemirror_mode": {
    "name": "ipython",
    "version": 3
   },
   "file_extension": ".py",
   "mimetype": "text/x-python",
   "name": "python",
   "nbconvert_exporter": "python",
   "pygments_lexer": "ipython3",
   "version": "3.11.4"
  }
 },
 "nbformat": 4,
 "nbformat_minor": 4
}
